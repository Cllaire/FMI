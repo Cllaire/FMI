{
  "nbformat": 4,
  "nbformat_minor": 0,
  "metadata": {
    "colab": {
      "name": "Tema 2",
      "version": "0.3.2",
      "provenance": [],
      "collapsed_sections": [],
      "toc_visible": true
    },
    "kernelspec": {
      "name": "python3",
      "display_name": "Python 3"
    }
  },
  "cells": [
    {
      "metadata": {
        "id": "hSni-VGsdDb9",
        "colab_type": "text"
      },
      "cell_type": "markdown",
      "source": [
        "# Load all the imports! "
      ]
    },
    {
      "metadata": {
        "id": "gpoA24e_lXQC",
        "colab_type": "code",
        "colab": {}
      },
      "cell_type": "code",
      "source": [
        "%reload_ext autoreload\n",
        "%autoreload 2\n",
        "%matplotlib inline\n",
        "\n",
        "from sklearn.cluster import DBSCAN, KMeans, AgglomerativeClustering\n",
        "from sklearn.decomposition import PCA\n",
        "from sklearn.feature_extraction.text import CountVectorizer\n",
        "from sklearn.feature_extraction.text import TfidfVectorizer\n",
        "from sklearn.metrics import silhouette_score, adjusted_rand_score,homogeneity_score, completeness_score, confusion_matrix\n",
        "from sklearn.metrics import accuracy_score\n",
        "from sklearn.model_selection import GridSearchCV\n",
        "from sklearn.model_selection import train_test_split\n",
        "from sklearn.svm import SVC\n",
        "\n",
        "import csv\n",
        "import matplotlib.pyplot as plt\n",
        "import numpy as np\n",
        "import pandas as pd\n",
        "import pylab\n",
        "import seaborn as sns; \n",
        "import string"
      ],
      "execution_count": 0,
      "outputs": []
    },
    {
      "metadata": {
        "id": "zSjWWfrgtZgD",
        "colab_type": "text"
      },
      "cell_type": "markdown",
      "source": [
        "# Visualize data"
      ]
    },
    {
      "metadata": {
        "id": "hCEi9X06tYs2",
        "colab_type": "code",
        "colab": {}
      },
      "cell_type": "code",
      "source": [
        "dataset = pd.read_csv('Rogoz O. Ana-Cristina.csv')"
      ],
      "execution_count": 0,
      "outputs": []
    },
    {
      "metadata": {
        "id": "sYxTdj1k6_Zb",
        "colab_type": "code",
        "colab": {}
      },
      "cell_type": "code",
      "source": [
        "dataset = dataset.drop(columns=[\"Unnamed: 0\"])"
      ],
      "execution_count": 0,
      "outputs": []
    },
    {
      "metadata": {
        "id": "wZ7_8j9whnCA",
        "colab_type": "text"
      },
      "cell_type": "markdown",
      "source": [
        "Setul de date este alcatuit din 20 de coloane, fiecare reprezentand numele unui autor, cu cate 20 de linii. \n",
        "Coloana reprezentata de fiecare autor in parte contine cate 20 de texte scrise de acesta, in varianta lor originala. \n",
        "\n",
        "Asadar, autorii prezenti sunt: 'Harold Bindloss', 'Washington Irving', 'Thomas Hardy', 'Frank Richard Stockton', 'John Bunyan', 'Wilkie Collins', 'Charles Darwin', 'Herbert George Wells', 'Edward Stratemeyer', 'Zane Grey', 'Rudyard Kipling', 'Daniel Defoe', 'Andrew Lang', 'Sir Walter Scott', 'Lord Byron', 'Jack London', 'John Galsworthy', 'R M Ballantyne', 'Bret Harte' si 'Charles Dickens'."
      ]
    },
    {
      "metadata": {
        "id": "mWHRikAmU1UK",
        "colab_type": "code",
        "outputId": "6d459916-92fa-43ee-997e-d8ae9478d472",
        "colab": {
          "base_uri": "https://localhost:8080/",
          "height": 2406
        }
      },
      "cell_type": "code",
      "source": [
        "dataset"
      ],
      "execution_count": 32,
      "outputs": [
        {
          "output_type": "execute_result",
          "data": {
            "text/html": [
              "<div>\n",
              "<style scoped>\n",
              "    .dataframe tbody tr th:only-of-type {\n",
              "        vertical-align: middle;\n",
              "    }\n",
              "\n",
              "    .dataframe tbody tr th {\n",
              "        vertical-align: top;\n",
              "    }\n",
              "\n",
              "    .dataframe thead th {\n",
              "        text-align: right;\n",
              "    }\n",
              "</style>\n",
              "<table border=\"1\" class=\"dataframe\">\n",
              "  <thead>\n",
              "    <tr style=\"text-align: right;\">\n",
              "      <th></th>\n",
              "      <th>Harold Bindloss</th>\n",
              "      <th>Washington Irving</th>\n",
              "      <th>Thomas Hardy</th>\n",
              "      <th>Frank Richard Stockton</th>\n",
              "      <th>John Bunyan</th>\n",
              "      <th>Wilkie Collins</th>\n",
              "      <th>Charles Darwin</th>\n",
              "      <th>Herbert George Wells</th>\n",
              "      <th>Edward Stratemeyer</th>\n",
              "      <th>Zane Grey</th>\n",
              "      <th>Rudyard Kipling</th>\n",
              "      <th>Daniel Defoe</th>\n",
              "      <th>Andrew Lang</th>\n",
              "      <th>Sir Walter Scott</th>\n",
              "      <th>Lord Byron</th>\n",
              "      <th>Jack London</th>\n",
              "      <th>John Galsworthy</th>\n",
              "      <th>R M Ballantyne</th>\n",
              "      <th>Bret Harte</th>\n",
              "      <th>Charles Dickens</th>\n",
              "    </tr>\n",
              "  </thead>\n",
              "  <tbody>\n",
              "    <tr>\n",
              "      <th>0</th>\n",
              "      <td>carefully, went a yard or two along the trunk....</td>\n",
              "      <td>politician, electioneered, written for the new...</td>\n",
              "      <td>the last you will ever sing to me.'  'They may...</td>\n",
              "      <td>but that simple-minded dependant and relative,...</td>\n",
              "      <td>yet come, though he is coming, is not fit, not...</td>\n",
              "      <td>bowed. That incorrigible old woman treated him...</td>\n",
              "      <td>twelve marked perfect flowers yielded a capsul...</td>\n",
              "      <td>his sleeve....  Had she even loved Booth Wilmi...</td>\n",
              "      <td>about that four-hundred-dollar diamond ring th...</td>\n",
              "      <td>voice.  \"Yes. What's wanted?\" answered Lane.  ...</td>\n",
              "      <td>As Thou didst teach all lovers speech,       A...</td>\n",
              "      <td>that the kings of France and Spain were united...</td>\n",
              "      <td>truth there may be in Saint-Germain's travels ...</td>\n",
              "      <td>o' them,--and I'll hae somebody waiting to wei...</td>\n",
              "      <td>Gael and Saxon mingling banners shine,     And...</td>\n",
              "      <td>THE HOUSE OF PRIDE   Contents:  The House of ...</td>\n",
              "      <td>his face--what a substitute for her soft cheek...</td>\n",
              "      <td>Lucien was grave, gentle, and studious; elegan...</td>\n",
              "      <td>you can find out where they got in and remove ...</td>\n",
              "      <td>fingers as I ever watched.  \"Well, Charley,\" s...</td>\n",
              "    </tr>\n",
              "    <tr>\n",
              "      <th>1</th>\n",
              "      <td>make for Tomlinson. He had been a strong and h...</td>\n",
              "      <td>face to comfort me. Well, as I was saying, my ...</td>\n",
              "      <td>flush perceptibly.  'Ah, she is there,' he tho...</td>\n",
              "      <td>it had not been for this unfortunate and jealo...</td>\n",
              "      <td>promise of none effect; therefore they of the ...</td>\n",
              "      <td>_them;_ there shall be no rest for _you!_\"  Th...</td>\n",
              "      <td>their brethren of the northern or southern hem...</td>\n",
              "      <td>in the following fashion:--To contrive a revol...</td>\n",
              "      <td>discomfiture a miner came along who said he ha...</td>\n",
              "      <td>presently stopped his plunging which gave me a...</td>\n",
              "      <td>You've too much conceited Brain, too little St...</td>\n",
              "      <td>them and to me. First, he turned to me, and po...</td>\n",
              "      <td>did he see the princess than he fell in love w...</td>\n",
              "      <td>playhouse ditty,--        \"Lawn as white as dr...</td>\n",
              "      <td>STANZAS.[591]                           1.    ...</td>\n",
              "      <td>three days I lived off guavas, ohia-apples, an...</td>\n",
              "      <td>a pale bright streak along the water, and hid ...</td>\n",
              "      <td>impressed with the mysterious and important ob...</td>\n",
              "      <td>indication I had received of Miss Mannersley's...</td>\n",
              "      <td>mournful past; as if the house and he had had ...</td>\n",
              "    </tr>\n",
              "    <tr>\n",
              "      <th>2</th>\n",
              "      <td>usually happens, however, that when one sets a...</td>\n",
              "      <td>popular among the choice spirits of the last c...</td>\n",
              "      <td>THE WOODLANDERS   by  Thomas Hardy     CHAPTE...</td>\n",
              "      <td>by. He filled it, then he sat down and wiped h...</td>\n",
              "      <td>other intelligence, if possibly he may arrive ...</td>\n",
              "      <td>health, and the doctor's plain warning of peri...</td>\n",
              "      <td>[page 74]  pinkish colour, and many present a ...</td>\n",
              "      <td>his day; (4) a bibliography. Such a complete b...</td>\n",
              "      <td>keep from being discovered.  As they sped alon...</td>\n",
              "      <td>and bye our wash grew to be a wide canyon, win...</td>\n",
              "      <td>they used him too much at the start;      Mayb...</td>\n",
              "      <td>the Divine Powers, for saving, my life, when t...</td>\n",
              "      <td>And all the folk fair Helen must convey, Crown...</td>\n",
              "      <td>love or money.\"  \"Tony Foster lives and thrive...</td>\n",
              "      <td>marble where her feet                         ...</td>\n",
              "      <td>breath in a half-sob, then tightened her lips ...</td>\n",
              "      <td>country village. I, however, was so angry that...</td>\n",
              "      <td>Thus spake the Greyton oracle; but, prophet th...</td>\n",
              "      <td>intrigue than physical revenge. He was not awa...</td>\n",
              "      <td>could he, could he, could he--and lost utteran...</td>\n",
              "    </tr>\n",
              "    <tr>\n",
              "      <th>3</th>\n",
              "      <td>by the oxen's slower pace, and his own labored...</td>\n",
              "      <td>cacique was inflexible. He reminded them of th...</td>\n",
              "      <td>said Marian, \"that I hardly cool down again ti...</td>\n",
              "      <td>and snooded to the lines with a neatness that ...</td>\n",
              "      <td>unbelief, whose foundation was ignorance and f...</td>\n",
              "      <td>back by the wind--in a snug roadstead, for the...</td>\n",
              "      <td>THE DESCENT OF MAN,  AND  SELECTION IN RELAT...</td>\n",
              "      <td>old grey butler was really wonderfully good......</td>\n",
              "      <td>murmured Allen to himself as he surveyed the s...</td>\n",
              "      <td>sit down to breakfast, and here and there caug...</td>\n",
              "      <td>she isn't under White's dormitory at all yet.\"...</td>\n",
              "      <td>_Vespers_, with Delight enough to my self, and...</td>\n",
              "      <td>the woman who has come within the gates of the...</td>\n",
              "      <td>would admit that the chief end of their being ...</td>\n",
              "      <td>grandeur.\" But it may fairly match with Byron ...</td>\n",
              "      <td>be out of it.\"  \"No; we 're in for it,\" said F...</td>\n",
              "      <td>shocked, and quite unable to write anything. H...</td>\n",
              "      <td>incomparably more grand and horrible than the ...</td>\n",
              "      <td>the few silver coins placed in a pile before h...</td>\n",
              "      <td>have taken a great deal of pains with his whis...</td>\n",
              "    </tr>\n",
              "    <tr>\n",
              "      <th>4</th>\n",
              "      <td>curious half‐veiled appeal in his eyes at Viol...</td>\n",
              "      <td>Was I then to act with reserve toward him, in ...</td>\n",
              "      <td>he could bring himself to show no mercy.  With...</td>\n",
              "      <td>the pearl-oysters. When he can stay down no lo...</td>\n",
              "      <td>unspeakable the mercy, that the persecutor can...</td>\n",
              "      <td>felt her fondly founded hopes already sinking ...</td>\n",
              "      <td>had gained much experience, castrated and fert...</td>\n",
              "      <td>Teddy! Poor old Adam and Eve we are! Ficial Re...</td>\n",
              "      <td>the dock.  \"I see them,\" returned Dick. \"Come ...</td>\n",
              "      <td>Only a young soldier came over with Major McCo...</td>\n",
              "      <td>conning-tower, and wheel, to the doll's house ...</td>\n",
              "      <td>enemy's country, entered their associated coun...</td>\n",
              "      <td>are now arranged in a designed order.  During ...</td>\n",
              "      <td>designs against their neighbours, over whom he...</td>\n",
              "      <td>Alarique, a Poet's Reverie, with other Poems' ...</td>\n",
              "      <td>placed her above all women.  Sitka Charley was...</td>\n",
              "      <td>regular black Highlander. What's the trouble e...</td>\n",
              "      <td>lives in combat,--qualities which the crafty s...</td>\n",
              "      <td>flushed and disturbed with some new excitement...</td>\n",
              "      <td>chest upon the shore,  without anybody heeding...</td>\n",
              "    </tr>\n",
              "    <tr>\n",
              "      <th>5</th>\n",
              "      <td>without a purpose, because I want you to under...</td>\n",
              "      <td>forces in that quarter, while the main body of...</td>\n",
              "      <td>principles.'  Swithin sighed.  'I admit it,' h...</td>\n",
              "      <td>all this time, \"let's go! let's go!\"  \"I belie...</td>\n",
              "      <td>that he would make the very bed shake under hi...</td>\n",
              "      <td>need my life be prolonged artificially by drug...</td>\n",
              "      <td>space of 480 miles in length, and about 100 br...</td>\n",
              "      <td>grey outline against the shimmer of the moon; ...</td>\n",
              "      <td>a great deal. But I try to make enough to pay ...</td>\n",
              "      <td>swollen lines and shades of beastly greed. Ben...</td>\n",
              "      <td>\"Mamma!\"   THE SECOND BAG      Ah, well-a-day,...</td>\n",
              "      <td>he \"could never mention without some remark of...</td>\n",
              "      <td>Right in front of him was a large farm-house. ...</td>\n",
              "      <td>Barclay, then lying there in the garrison. Thi...</td>\n",
              "      <td>but sure and slow:     He faded, and so calm a...</td>\n",
              "      <td>roasting, from opihis to limu, from fowl to wi...</td>\n",
              "      <td>never smiled.  Aunt Juley's bewildered, \"Fancy...</td>\n",
              "      <td>salutation; \"I'll go and have a look at the li...</td>\n",
              "      <td>There was a quiet in her eye      Appalling to...</td>\n",
              "      <td>says so to me.'  Bella met the steady look for...</td>\n",
              "    </tr>\n",
              "    <tr>\n",
              "      <th>6</th>\n",
              "      <td>Watson's a quiet man, an' makes no unnecessar'...</td>\n",
              "      <td>deserted. Most of the batteau men, who were to...</td>\n",
              "      <td>closely, Mrs. Charmond's furs consoling Grace'...</td>\n",
              "      <td>Lodloe, and paid little heed to the chatter of...</td>\n",
              "      <td>in the behalf of sinners, in that God hath giv...</td>\n",
              "      <td>through Laura, without a moment's hesitation, ...</td>\n",
              "      <td>with a most awkward gait. Except when running ...</td>\n",
              "      <td>7   Side by side with Lady Forthundred, it is ...</td>\n",
              "      <td>give the man who had drunk the stuff an emetic...</td>\n",
              "      <td>plunged down, exhausted, in the shade of a led...</td>\n",
              "      <td>It did not lift that day, nor the next. Dick a...</td>\n",
              "      <td>committed a great Mistake in it; for we percei...</td>\n",
              "      <td>matters are proved to be no more than a dream....</td>\n",
              "      <td>without any of those alarming consequences whi...</td>\n",
              "      <td>thee hence,                               140 ...</td>\n",
              "      <td>were iron.  They were perceivers, willers, and...</td>\n",
              "      <td>[MRS. SEDDON takes the sovereign and fumbles f...</td>\n",
              "      <td>and the moon rose and sank again, but Tommy la...</td>\n",
              "      <td>arm, she seemed to have left behind her the fr...</td>\n",
              "      <td>traversing immense prairies. Thence by the lak...</td>\n",
              "    </tr>\n",
              "    <tr>\n",
              "      <th>7</th>\n",
              "      <td>as dusk grew near; the haste with which the me...</td>\n",
              "      <td>occurred. There was one time fished up from th...</td>\n",
              "      <td>he saw her no more that day. Since he could no...</td>\n",
              "      <td>came into my mind. And here we are. Now, what ...</td>\n",
              "      <td>consulted again, and sent another petition, an...</td>\n",
              "      <td>unscrupulous man has just given to me. _I_ am ...</td>\n",
              "      <td>(25/22. I owe to the kindness of M. Chauman, o...</td>\n",
              "      <td>the earth. There is our Prince. He is in me, h...</td>\n",
              "      <td>pointing to a morning newspaper he had purchas...</td>\n",
              "      <td>that draws real sportsmen to a place and makes...</td>\n",
              "      <td>you attempt it.\"  It was not the Colonel that ...</td>\n",
              "      <td>so that, upon the whole, I thought it much my ...</td>\n",
              "      <td>but only a little thin soup, and some oatmeal ...</td>\n",
              "      <td>TRIAL OF  DUNCAN TERIG ALIAS CLERK, AND ALEXA...</td>\n",
              "      <td>phantoms, but the chief    Seems royal still, ...</td>\n",
              "      <td>All of which I submit.  Never, in my life of D...</td>\n",
              "      <td>read your book, of course.\"  To Courtier it se...</td>\n",
              "      <td>thralls and freemen, was engaged in cutting an...</td>\n",
              "      <td>came here. That's all! It isn't much, Tom. You...</td>\n",
              "      <td>was a day, and tries to pass upon us now, for ...</td>\n",
              "    </tr>\n",
              "    <tr>\n",
              "      <th>8</th>\n",
              "      <td>worse for him.  \"Did you have much trouble?\" B...</td>\n",
              "      <td>use a poetical phrase, is perfectly surrounded...</td>\n",
              "      <td>the corner of the building.  'I thought I shou...</td>\n",
              "      <td>John Gayther's Garden and   ...</td>\n",
              "      <td>To forget to watch for that I pray for; 6. Apt...</td>\n",
              "      <td>vindictive daring had defied all restraints--t...</td>\n",
              "      <td>along the external surfaces of each valve (see...</td>\n",
              "      <td>wheezy voice of a very old man.  Graham hesita...</td>\n",
              "      <td>ear.  It was the last straw. With no fresh air...</td>\n",
              "      <td>safety of those behind the leader. Sometimes w...</td>\n",
              "      <td>limb?\" sez I, catchin' him by the scruff. \"Com...</td>\n",
              "      <td>nothing by me.\" \"I warrant you, madam,\" says s...</td>\n",
              "      <td>Parmi leschine sun grant espee li passe_.\"  Th...</td>\n",
              "      <td>heard another person enter the house. \"This,\" ...</td>\n",
              "      <td>scrubby paper to write on--excuse it. I am cer...</td>\n",
              "      <td>Koyokuk rush in the early nineties?\" he would ...</td>\n",
              "      <td>plucked-looking neck.  On his      right, ROUS...</td>\n",
              "      <td>enthusiasm in a good cause that had conducted ...</td>\n",
              "      <td>needless to add that it was impossible to conc...</td>\n",
              "      <td>of the conspiracies it brought to light, by se...</td>\n",
              "    </tr>\n",
              "    <tr>\n",
              "      <th>9</th>\n",
              "      <td>known that the police were in pursuit of him; ...</td>\n",
              "      <td>CHRONICLE OF THE CONQUEST OF GRANADA  By Wash...</td>\n",
              "      <td>excellent well!--Ah yes, I wish I lived there....</td>\n",
              "      <td>continued, often with great earnestness and he...</td>\n",
              "      <td>was of the nature of flesh-eaters.  Well, so s...</td>\n",
              "      <td>not your enemy now. It is no fault of yours th...</td>\n",
              "      <td>to verify this assertion, and have found it tr...</td>\n",
              "      <td>_mad_!' This going to and fro and to and fro a...</td>\n",
              "      <td>statement.  \"Let me see the paper!\" cried Saun...</td>\n",
              "      <td>to rob him of strength. Then he heard the rapi...</td>\n",
              "      <td>Caurobert's artillery, and for aught they knew...</td>\n",
              "      <td>tradesman ruined by marrying a good wife--in w...</td>\n",
              "      <td>stooped to caress the strange creature which h...</td>\n",
              "      <td>Kirklands in Roxburghshire, which he had purch...</td>\n",
              "      <td>do go.                        LXXXIX.      \"Ou...</td>\n",
              "      <td>years. Danny's all right, but he ain't got go ...</td>\n",
              "      <td>again.  I don't want----       He breaks off a...</td>\n",
              "      <td>on which, however, there was an air of calm re...</td>\n",
              "      <td>directed to the young spirited near horse he w...</td>\n",
              "      <td>and Mrs. Bigby don't want no male parties here...</td>\n",
              "    </tr>\n",
              "    <tr>\n",
              "      <th>10</th>\n",
              "      <td>as much before.\"  \"I did,\" said Holbrook.  \"Th...</td>\n",
              "      <td>and his party continued up the course of the W...</td>\n",
              "      <td>four hundred times.'  De Stancy immediately lo...</td>\n",
              "      <td>it unsafe to mine any further in this part of ...</td>\n",
              "      <td>wherefore Paul, when he had put the church in ...</td>\n",
              "      <td>refuse?\"  \"I refuse, because I have come round...</td>\n",
              "      <td>more remarkable differences between the sexes ...</td>\n",
              "      <td>in this interval the race had lost its manline...</td>\n",
              "      <td>the action of the        administration.      ...</td>\n",
              "      <td>asking or offering of quarter here. This was t...</td>\n",
              "      <td>niver touched him. D'you remember when he went...</td>\n",
              "      <td>the utmost affliction; and now, indeed, and no...</td>\n",
              "      <td>publication. {276a}  This part of the \"History...</td>\n",
              "      <td>shut, and still shrewish in her expostulation,...</td>\n",
              "      <td>mortal labours light!       To hear each voice...</td>\n",
              "      <td>can't get a schooner with an engine.  I might ...</td>\n",
              "      <td>'E's come too late, that's all.  THE GIRL.  He...</td>\n",
              "      <td>head in, than out came a most awful growl.  Th...</td>\n",
              "      <td>election poster, and sauntered down towards th...</td>\n",
              "      <td>transports of emotion called Mr. Winkle 'Wretc...</td>\n",
              "    </tr>\n",
              "    <tr>\n",
              "      <th>11</th>\n",
              "      <td>again, sat very still, though her companion no...</td>\n",
              "      <td>the proposed bill, further measures of a strin...</td>\n",
              "      <td>As Cytherea went along the passage leading to ...</td>\n",
              "      <td>terrible fight seemed almost like a hand-to-ha...</td>\n",
              "      <td>graces, as will be for thy good hereafter: tak...</td>\n",
              "      <td>and which she copied with the quaintest exactn...</td>\n",
              "      <td>greatly preponderate in the first, whilst in t...</td>\n",
              "      <td>to attempt to cure the gathered ill of a centu...</td>\n",
              "      <td>a bit red. \"She told me a piece of news that i...</td>\n",
              "      <td>into a strip of purple sage. It ended abruptly...</td>\n",
              "      <td>care for sweets.  MRS. G. In-deed?--Pip!  CAPT...</td>\n",
              "      <td>case for good artists to bring the ship home; ...</td>\n",
              "      <td>he had joined them.  It is not impossible.  He...</td>\n",
              "      <td>the river, which is navigable for vessels of l...</td>\n",
              "      <td>unnoticed. Some will be directly pointed out; ...</td>\n",
              "      <td>briefest of inspection, he turned back to Vill...</td>\n",
              "      <td>publisher!\" His grey eyes scrutinised the agit...</td>\n",
              "      <td>seemed about to overwhelm them.  In a more dis...</td>\n",
              "      <td>small shut eyes, the feeble nose, the ponderou...</td>\n",
              "      <td>tore out, roasted, and ate. Now, I ain't alone...</td>\n",
              "    </tr>\n",
              "    <tr>\n",
              "      <th>12</th>\n",
              "      <td>himself somewhere and holds a Government post ...</td>\n",
              "      <td>Valencia de la Torre in 1502, in which they ex...</td>\n",
              "      <td>midnight.  All this feigning was most distaste...</td>\n",
              "      <td>before me and taken the place I crave, I have ...</td>\n",
              "      <td>[Illustration: Christian Confides in His Wife...</td>\n",
              "      <td>escape her in that state--seems to excite some...</td>\n",
              "      <td>this paper has been translated in the 'America...</td>\n",
              "      <td>stratification, who has concerned himself with...</td>\n",
              "      <td>their shotguns to the front.  Snap was the fir...</td>\n",
              "      <td>however, rode beside Joan. Once, at an opportu...</td>\n",
              "      <td>\"the gravid polled Angus\" business. Come along...</td>\n",
              "      <td>fatal Defeat of _Noah_, who had he liv'd untai...</td>\n",
              "      <td>before, she borrowed a brush and brushed her h...</td>\n",
              "      <td>they shall either fight or flee. Your grace sh...</td>\n",
              "      <td>then.      And thus your houri (it may be) dis...</td>\n",
              "      <td>Sutherland_ before the wind and sea. He had lo...</td>\n",
              "      <td>require proof.  ST ERTH.  He can make it a cri...</td>\n",
              "      <td>blue cloth, and bright scarlet cloth, and vari...</td>\n",
              "      <td>made opaque, without being so thick and suffoc...</td>\n",
              "      <td>returning to London.  Charles Dickens remained...</td>\n",
              "    </tr>\n",
              "    <tr>\n",
              "      <th>13</th>\n",
              "      <td>stung his skin, the pools on the creek were fr...</td>\n",
              "      <td>little realm where the Webbers had so long and...</td>\n",
              "      <td>other direction she saw another form coming al...</td>\n",
              "      <td>that he is, he has eaten up everything fit to ...</td>\n",
              "      <td>Jerusalem the God of heaven and eternal mercy ...</td>\n",
              "      <td>cousin.  Early in the morning, the plunder sti...</td>\n",
              "      <td>all the same to the inexorable principles of n...</td>\n",
              "      <td>conduct is against whatever accentuates one's ...</td>\n",
              "      <td>neighboring bushes. They were Indians and one ...</td>\n",
              "      <td>his intelligence and his emotion had believed ...</td>\n",
              "      <td>lost her temper with the children, she abused ...</td>\n",
              "      <td>bread, roots, and sixteen good hogs on board t...</td>\n",
              "      <td>Atlas, who keeps heaven and earth asunder.** H...</td>\n",
              "      <td>there remain any which fall under none of thos...</td>\n",
              "      <td>Lara--/Parisina, etc./ Paris/ Sold by François...</td>\n",
              "      <td>twin 'Sun-Dogs' and a 'Frost Queen' followed s...</td>\n",
              "      <td>her effect, she broke off suddenly, and hastil...</td>\n",
              "      <td>How gratefully the sound falls upon ears that ...</td>\n",
              "      <td>employer's chambers in Sacramento, and handed ...</td>\n",
              "      <td>pen again; and before he went to bed wrote ano...</td>\n",
              "    </tr>\n",
              "    <tr>\n",
              "      <th>14</th>\n",
              "      <td>hard because he had helped a farmer to put a h...</td>\n",
              "      <td>made a certificate on the spot that the govern...</td>\n",
              "      <td>Tell me, now,   What does my father wish?     ...</td>\n",
              "      <td>of the _Arato_. Among other methods of precaut...</td>\n",
              "      <td>have, through their unbelief, eclipsed the glo...</td>\n",
              "      <td>Superintendent Danville, to visit the citoyenn...</td>\n",
              "      <td>be seen that the amount  of earth brought to t...</td>\n",
              "      <td>long time....  Buzard rose out of waves of sub...</td>\n",
              "      <td>nice here! Much better than the old farm, eh, ...</td>\n",
              "      <td>haughty eyes upon Stewart; but inwardly she wa...</td>\n",
              "      <td>brimstone Spanish, and he swung down on our ra...</td>\n",
              "      <td>or lords' progenitors. Beggars and bastards by...</td>\n",
              "      <td>are fugitive.\"  We would liefer see a young ma...</td>\n",
              "      <td>all my northern readers, there is a passage-bo...</td>\n",
              "      <td>THE WORKS  OF  LORD BYRON.        A NEW, REVI...</td>\n",
              "      <td>screaming with fear, run from him to their mot...</td>\n",
              "      <td>THE DARK FLOWER  by John Galsworthy          ...</td>\n",
              "      <td>feelings so as to attend to her.  She and the ...</td>\n",
              "      <td>him.  I hope it will not be deemed inconceivab...</td>\n",
              "      <td>in his face with her bleared eyes. 'Come! Begi...</td>\n",
              "    </tr>\n",
              "    <tr>\n",
              "      <th>15</th>\n",
              "      <td>seemed to me from that draft of the arrangemen...</td>\n",
              "      <td>additions in the handwriting of Columbus, espe...</td>\n",
              "      <td>document he had produced gave such unexpected ...</td>\n",
              "      <td>\"She's been gone more 'n half an hour. She don...</td>\n",
              "      <td>them, and with what else thou shalt find here ...</td>\n",
              "      <td>morning?\" I continued.  \"No,\" she said quickly...</td>\n",
              "      <td>close interbreeding within the limits of the s...</td>\n",
              "      <td>But what may finally become a much larger prop...</td>\n",
              "      <td>outcome of the trouble. What if, after all, Ja...</td>\n",
              "      <td>knelt and, with splashing, washed out her eyes...</td>\n",
              "      <td>THE JUNGLE BOOK  By Rudyard Kipling    Conten...</td>\n",
              "      <td>on exactly what conditions he was released fro...</td>\n",
              "      <td>head. Great preparations were going on in the ...</td>\n",
              "      <td>her, I would believe all he can say.\"  \"Sir Ge...</td>\n",
              "      <td>metaphor.]  [387] {335} The answer of the moth...</td>\n",
              "      <td>warmer. Buck was wildly glad. He knew he was a...</td>\n",
              "      <td>take it in and operate it.  It's sweated, Your...</td>\n",
              "      <td>west River.   Rigolet.   Kiboksk.   Eyelick.  ...</td>\n",
              "      <td>slight platform. A grizzled, hard-faced old ma...</td>\n",
              "      <td>at the last moment, used to come running forth...</td>\n",
              "    </tr>\n",
              "    <tr>\n",
              "      <th>16</th>\n",
              "      <td>charming manners called at our hotel and is co...</td>\n",
              "      <td>time to lose. Cornet Middleton was but two or ...</td>\n",
              "      <td>hardly believe that it rained so drearily ther...</td>\n",
              "      <td>story of that gown. What does the master say?\"...</td>\n",
              "      <td>almost a disease epidemical among professors.'...</td>\n",
              "      <td>one other thing, between ourselves. Lord Holch...</td>\n",
              "      <td>been completely transposed, for the females ar...</td>\n",
              "      <td>that came and went spelt out--      \"DOES THIS...</td>\n",
              "      <td>think we ought to pay for it, anyway,\" answere...</td>\n",
              "      <td>at hand. Then she opened the pack of supplies,...</td>\n",
              "      <td>worshipped by the King; but, drunk with pride,...</td>\n",
              "      <td>musket, I sat down myself to load all the rest...</td>\n",
              "      <td>well as the suspension holes    on each side.\"...</td>\n",
              "      <td>state had been lulled asleep by the opportunit...</td>\n",
              "      <td>Byron remarks, \"Rogers has not fulfilled the p...</td>\n",
              "      <td>dead reckoning can never calculate. Before lon...</td>\n",
              "      <td>livened and whitened by the moonlight--an embo...</td>\n",
              "      <td>the large and apparently well-off families fil...</td>\n",
              "      <td>business with the stage company nor with ME, a...</td>\n",
              "      <td>into the lane to shake some bedside carpets.  ...</td>\n",
              "    </tr>\n",
              "    <tr>\n",
              "      <th>17</th>\n",
              "      <td>dressed in white flannel, with a straw hat and...</td>\n",
              "      <td>considerable numbers. As soon as they are in, ...</td>\n",
              "      <td>On the door being opened, a room too large to ...</td>\n",
              "      <td>house for water, for I can never drink that st...</td>\n",
              "      <td>shall but in one point offend, Breaks the whol...</td>\n",
              "      <td>that he actually shook Romayne's belief in his...</td>\n",
              "      <td>sets of experiments tried at different periods...</td>\n",
              "      <td>a commerce in superficialities, and each provi...</td>\n",
              "      <td>happened?\" asked Dick.  \"I certainly kin do th...</td>\n",
              "      <td>the bank. The bed of the brook lay about six f...</td>\n",
              "      <td>them. \"Fitz is right. I'm dead; only I don't s...</td>\n",
              "      <td>substantial Matter, which tho' it is full of S...</td>\n",
              "      <td>sound of horses' hoofs, and lo! Messire de Mon...</td>\n",
              "      <td>the congregation, as if to address them, and t...</td>\n",
              "      <td>return once more to Carloman.\"                ...</td>\n",
              "      <td>of courage; and the end of the battle found hi...</td>\n",
              "      <td>Beside the little girls      stands a bald POL...</td>\n",
              "      <td>revived for a moment, and he uttered a feeble ...</td>\n",
              "      <td>the foreman, as he quietly pushed him into the...</td>\n",
              "      <td>idea yet, of Estella's views on the adoration ...</td>\n",
              "    </tr>\n",
              "    <tr>\n",
              "      <th>18</th>\n",
              "      <td>but how illogical!\" Grace remarked, and mused ...</td>\n",
              "      <td>afterwards at her labour!  Poor baggage! after...</td>\n",
              "      <td>grand semibreves went living on under my finge...</td>\n",
              "      <td>and we were all thrown into the sea. As none o...</td>\n",
              "      <td>they in their appearances; the Pharisee, very ...</td>\n",
              "      <td>English, I was told, \"Medical Rubber,\" and tha...</td>\n",
              "      <td>object, or in imitation of others, and then be...</td>\n",
              "      <td>revolutionary idea to him.  He was still fendi...</td>\n",
              "      <td>the white milk, as plain as day. Taking up the...</td>\n",
              "      <td>as the state of his mind was concerned, upon t...</td>\n",
              "      <td>people. Now, too, I am hot and now I am cold, ...</td>\n",
              "      <td>the slip both together, and never heard more o...</td>\n",
              "      <td>leniency caused him years of trouble.  Meanwhi...</td>\n",
              "      <td>fence, and thereon shall you, and all the good...</td>\n",
              "      <td>Meeting, the, iii. 415  _Caledonian Mercury_, ...</td>\n",
              "      <td>made faces at me as usual across the rim of th...</td>\n",
              "      <td>ears and eyes as bright as diamonds.  \"Betty! ...</td>\n",
              "      <td>to speak.\"  Further converse was interrupted b...</td>\n",
              "      <td>as that Mixer; and Nibbles, who borrowed money...</td>\n",
              "      <td>innumerable old gentlemen of respectable, not ...</td>\n",
              "    </tr>\n",
              "    <tr>\n",
              "      <th>19</th>\n",
              "      <td>had been scrambling over mossy rocks, and his ...</td>\n",
              "      <td>interference of the wealthy merchant Ali Dordu...</td>\n",
              "      <td>novelty in a poor lady turning actress, and no...</td>\n",
              "      <td>then, the ship might sink all of a suddint, be...</td>\n",
              "      <td>justified in the sight of God; so it is also a...</td>\n",
              "      <td>carried an umbrella and a travelling-bag; and ...</td>\n",
              "      <td>height, very unusual on this side of the conti...</td>\n",
              "      <td>blackmailing Book or News Trust squalidly \"fig...</td>\n",
              "      <td>managed to come through, after all? It certain...</td>\n",
              "      <td>because there wasn't any road around.\"  \"Held ...</td>\n",
              "      <td>necessary to get to the piston and the jammed ...</td>\n",
              "      <td>itself, I thought it seemed to lie higher out ...</td>\n",
              "      <td>he could not bring himself to admit that it wa...</td>\n",
              "      <td>betrayed, on this occasion, the district of Ar...</td>\n",
              "      <td>this!      _Ulr._               Indeed!      _...</td>\n",
              "      <td>can you explain away the fact that you came ou...</td>\n",
              "      <td>you a pink cream, Mr. Soames, like in old days...</td>\n",
              "      <td>out of the ship's way as much as he could, and...</td>\n",
              "      <td>entangling girl friendships or confidences, an...</td>\n",
              "      <td>Maggy. 'Well, I suppose it would though.' And ...</td>\n",
              "    </tr>\n",
              "  </tbody>\n",
              "</table>\n",
              "</div>"
            ],
            "text/plain": [
              "                                      Harold Bindloss  \\\n",
              "0   carefully, went a yard or two along the trunk....   \n",
              "1   make for Tomlinson. He had been a strong and h...   \n",
              "2   usually happens, however, that when one sets a...   \n",
              "3   by the oxen's slower pace, and his own labored...   \n",
              "4   curious half‐veiled appeal in his eyes at Viol...   \n",
              "5   without a purpose, because I want you to under...   \n",
              "6   Watson's a quiet man, an' makes no unnecessar'...   \n",
              "7   as dusk grew near; the haste with which the me...   \n",
              "8   worse for him.  \"Did you have much trouble?\" B...   \n",
              "9   known that the police were in pursuit of him; ...   \n",
              "10  as much before.\"  \"I did,\" said Holbrook.  \"Th...   \n",
              "11  again, sat very still, though her companion no...   \n",
              "12  himself somewhere and holds a Government post ...   \n",
              "13  stung his skin, the pools on the creek were fr...   \n",
              "14  hard because he had helped a farmer to put a h...   \n",
              "15  seemed to me from that draft of the arrangemen...   \n",
              "16  charming manners called at our hotel and is co...   \n",
              "17  dressed in white flannel, with a straw hat and...   \n",
              "18  but how illogical!\" Grace remarked, and mused ...   \n",
              "19  had been scrambling over mossy rocks, and his ...   \n",
              "\n",
              "                                    Washington Irving  \\\n",
              "0   politician, electioneered, written for the new...   \n",
              "1   face to comfort me. Well, as I was saying, my ...   \n",
              "2   popular among the choice spirits of the last c...   \n",
              "3   cacique was inflexible. He reminded them of th...   \n",
              "4   Was I then to act with reserve toward him, in ...   \n",
              "5   forces in that quarter, while the main body of...   \n",
              "6   deserted. Most of the batteau men, who were to...   \n",
              "7   occurred. There was one time fished up from th...   \n",
              "8   use a poetical phrase, is perfectly surrounded...   \n",
              "9    CHRONICLE OF THE CONQUEST OF GRANADA  By Wash...   \n",
              "10  and his party continued up the course of the W...   \n",
              "11  the proposed bill, further measures of a strin...   \n",
              "12  Valencia de la Torre in 1502, in which they ex...   \n",
              "13  little realm where the Webbers had so long and...   \n",
              "14  made a certificate on the spot that the govern...   \n",
              "15  additions in the handwriting of Columbus, espe...   \n",
              "16  time to lose. Cornet Middleton was but two or ...   \n",
              "17  considerable numbers. As soon as they are in, ...   \n",
              "18  afterwards at her labour!  Poor baggage! after...   \n",
              "19  interference of the wealthy merchant Ali Dordu...   \n",
              "\n",
              "                                         Thomas Hardy  \\\n",
              "0   the last you will ever sing to me.'  'They may...   \n",
              "1   flush perceptibly.  'Ah, she is there,' he tho...   \n",
              "2    THE WOODLANDERS   by  Thomas Hardy     CHAPTE...   \n",
              "3   said Marian, \"that I hardly cool down again ti...   \n",
              "4   he could bring himself to show no mercy.  With...   \n",
              "5   principles.'  Swithin sighed.  'I admit it,' h...   \n",
              "6   closely, Mrs. Charmond's furs consoling Grace'...   \n",
              "7   he saw her no more that day. Since he could no...   \n",
              "8   the corner of the building.  'I thought I shou...   \n",
              "9   excellent well!--Ah yes, I wish I lived there....   \n",
              "10  four hundred times.'  De Stancy immediately lo...   \n",
              "11  As Cytherea went along the passage leading to ...   \n",
              "12  midnight.  All this feigning was most distaste...   \n",
              "13  other direction she saw another form coming al...   \n",
              "14  Tell me, now,   What does my father wish?     ...   \n",
              "15  document he had produced gave such unexpected ...   \n",
              "16  hardly believe that it rained so drearily ther...   \n",
              "17  On the door being opened, a room too large to ...   \n",
              "18  grand semibreves went living on under my finge...   \n",
              "19  novelty in a poor lady turning actress, and no...   \n",
              "\n",
              "                               Frank Richard Stockton  \\\n",
              "0   but that simple-minded dependant and relative,...   \n",
              "1   it had not been for this unfortunate and jealo...   \n",
              "2   by. He filled it, then he sat down and wiped h...   \n",
              "3   and snooded to the lines with a neatness that ...   \n",
              "4   the pearl-oysters. When he can stay down no lo...   \n",
              "5   all this time, \"let's go! let's go!\"  \"I belie...   \n",
              "6   Lodloe, and paid little heed to the chatter of...   \n",
              "7   came into my mind. And here we are. Now, what ...   \n",
              "8                     John Gayther's Garden and   ...   \n",
              "9   continued, often with great earnestness and he...   \n",
              "10  it unsafe to mine any further in this part of ...   \n",
              "11  terrible fight seemed almost like a hand-to-ha...   \n",
              "12  before me and taken the place I crave, I have ...   \n",
              "13  that he is, he has eaten up everything fit to ...   \n",
              "14  of the _Arato_. Among other methods of precaut...   \n",
              "15  \"She's been gone more 'n half an hour. She don...   \n",
              "16  story of that gown. What does the master say?\"...   \n",
              "17  house for water, for I can never drink that st...   \n",
              "18  and we were all thrown into the sea. As none o...   \n",
              "19  then, the ship might sink all of a suddint, be...   \n",
              "\n",
              "                                          John Bunyan  \\\n",
              "0   yet come, though he is coming, is not fit, not...   \n",
              "1   promise of none effect; therefore they of the ...   \n",
              "2   other intelligence, if possibly he may arrive ...   \n",
              "3   unbelief, whose foundation was ignorance and f...   \n",
              "4   unspeakable the mercy, that the persecutor can...   \n",
              "5   that he would make the very bed shake under hi...   \n",
              "6   in the behalf of sinners, in that God hath giv...   \n",
              "7   consulted again, and sent another petition, an...   \n",
              "8   To forget to watch for that I pray for; 6. Apt...   \n",
              "9   was of the nature of flesh-eaters.  Well, so s...   \n",
              "10  wherefore Paul, when he had put the church in ...   \n",
              "11  graces, as will be for thy good hereafter: tak...   \n",
              "12   [Illustration: Christian Confides in His Wife...   \n",
              "13  Jerusalem the God of heaven and eternal mercy ...   \n",
              "14  have, through their unbelief, eclipsed the glo...   \n",
              "15  them, and with what else thou shalt find here ...   \n",
              "16  almost a disease epidemical among professors.'...   \n",
              "17  shall but in one point offend, Breaks the whol...   \n",
              "18  they in their appearances; the Pharisee, very ...   \n",
              "19  justified in the sight of God; so it is also a...   \n",
              "\n",
              "                                       Wilkie Collins  \\\n",
              "0   bowed. That incorrigible old woman treated him...   \n",
              "1   _them;_ there shall be no rest for _you!_\"  Th...   \n",
              "2   health, and the doctor's plain warning of peri...   \n",
              "3   back by the wind--in a snug roadstead, for the...   \n",
              "4   felt her fondly founded hopes already sinking ...   \n",
              "5   need my life be prolonged artificially by drug...   \n",
              "6   through Laura, without a moment's hesitation, ...   \n",
              "7   unscrupulous man has just given to me. _I_ am ...   \n",
              "8   vindictive daring had defied all restraints--t...   \n",
              "9   not your enemy now. It is no fault of yours th...   \n",
              "10  refuse?\"  \"I refuse, because I have come round...   \n",
              "11  and which she copied with the quaintest exactn...   \n",
              "12  escape her in that state--seems to excite some...   \n",
              "13  cousin.  Early in the morning, the plunder sti...   \n",
              "14  Superintendent Danville, to visit the citoyenn...   \n",
              "15  morning?\" I continued.  \"No,\" she said quickly...   \n",
              "16  one other thing, between ourselves. Lord Holch...   \n",
              "17  that he actually shook Romayne's belief in his...   \n",
              "18  English, I was told, \"Medical Rubber,\" and tha...   \n",
              "19  carried an umbrella and a travelling-bag; and ...   \n",
              "\n",
              "                                       Charles Darwin  \\\n",
              "0   twelve marked perfect flowers yielded a capsul...   \n",
              "1   their brethren of the northern or southern hem...   \n",
              "2   [page 74]  pinkish colour, and many present a ...   \n",
              "3     THE DESCENT OF MAN,  AND  SELECTION IN RELAT...   \n",
              "4   had gained much experience, castrated and fert...   \n",
              "5   space of 480 miles in length, and about 100 br...   \n",
              "6   with a most awkward gait. Except when running ...   \n",
              "7   (25/22. I owe to the kindness of M. Chauman, o...   \n",
              "8   along the external surfaces of each valve (see...   \n",
              "9   to verify this assertion, and have found it tr...   \n",
              "10  more remarkable differences between the sexes ...   \n",
              "11  greatly preponderate in the first, whilst in t...   \n",
              "12  this paper has been translated in the 'America...   \n",
              "13  all the same to the inexorable principles of n...   \n",
              "14  be seen that the amount  of earth brought to t...   \n",
              "15  close interbreeding within the limits of the s...   \n",
              "16  been completely transposed, for the females ar...   \n",
              "17  sets of experiments tried at different periods...   \n",
              "18  object, or in imitation of others, and then be...   \n",
              "19  height, very unusual on this side of the conti...   \n",
              "\n",
              "                                 Herbert George Wells  \\\n",
              "0   his sleeve....  Had she even loved Booth Wilmi...   \n",
              "1   in the following fashion:--To contrive a revol...   \n",
              "2   his day; (4) a bibliography. Such a complete b...   \n",
              "3   old grey butler was really wonderfully good......   \n",
              "4   Teddy! Poor old Adam and Eve we are! Ficial Re...   \n",
              "5   grey outline against the shimmer of the moon; ...   \n",
              "6   7   Side by side with Lady Forthundred, it is ...   \n",
              "7   the earth. There is our Prince. He is in me, h...   \n",
              "8   wheezy voice of a very old man.  Graham hesita...   \n",
              "9   _mad_!' This going to and fro and to and fro a...   \n",
              "10  in this interval the race had lost its manline...   \n",
              "11  to attempt to cure the gathered ill of a centu...   \n",
              "12  stratification, who has concerned himself with...   \n",
              "13  conduct is against whatever accentuates one's ...   \n",
              "14  long time....  Buzard rose out of waves of sub...   \n",
              "15  But what may finally become a much larger prop...   \n",
              "16  that came and went spelt out--      \"DOES THIS...   \n",
              "17  a commerce in superficialities, and each provi...   \n",
              "18  revolutionary idea to him.  He was still fendi...   \n",
              "19  blackmailing Book or News Trust squalidly \"fig...   \n",
              "\n",
              "                                   Edward Stratemeyer  \\\n",
              "0   about that four-hundred-dollar diamond ring th...   \n",
              "1   discomfiture a miner came along who said he ha...   \n",
              "2   keep from being discovered.  As they sped alon...   \n",
              "3   murmured Allen to himself as he surveyed the s...   \n",
              "4   the dock.  \"I see them,\" returned Dick. \"Come ...   \n",
              "5   a great deal. But I try to make enough to pay ...   \n",
              "6   give the man who had drunk the stuff an emetic...   \n",
              "7   pointing to a morning newspaper he had purchas...   \n",
              "8   ear.  It was the last straw. With no fresh air...   \n",
              "9   statement.  \"Let me see the paper!\" cried Saun...   \n",
              "10  the action of the        administration.      ...   \n",
              "11  a bit red. \"She told me a piece of news that i...   \n",
              "12  their shotguns to the front.  Snap was the fir...   \n",
              "13  neighboring bushes. They were Indians and one ...   \n",
              "14  nice here! Much better than the old farm, eh, ...   \n",
              "15  outcome of the trouble. What if, after all, Ja...   \n",
              "16  think we ought to pay for it, anyway,\" answere...   \n",
              "17  happened?\" asked Dick.  \"I certainly kin do th...   \n",
              "18  the white milk, as plain as day. Taking up the...   \n",
              "19  managed to come through, after all? It certain...   \n",
              "\n",
              "                                            Zane Grey  \\\n",
              "0   voice.  \"Yes. What's wanted?\" answered Lane.  ...   \n",
              "1   presently stopped his plunging which gave me a...   \n",
              "2   and bye our wash grew to be a wide canyon, win...   \n",
              "3   sit down to breakfast, and here and there caug...   \n",
              "4   Only a young soldier came over with Major McCo...   \n",
              "5   swollen lines and shades of beastly greed. Ben...   \n",
              "6   plunged down, exhausted, in the shade of a led...   \n",
              "7   that draws real sportsmen to a place and makes...   \n",
              "8   safety of those behind the leader. Sometimes w...   \n",
              "9   to rob him of strength. Then he heard the rapi...   \n",
              "10  asking or offering of quarter here. This was t...   \n",
              "11  into a strip of purple sage. It ended abruptly...   \n",
              "12  however, rode beside Joan. Once, at an opportu...   \n",
              "13  his intelligence and his emotion had believed ...   \n",
              "14  haughty eyes upon Stewart; but inwardly she wa...   \n",
              "15  knelt and, with splashing, washed out her eyes...   \n",
              "16  at hand. Then she opened the pack of supplies,...   \n",
              "17  the bank. The bed of the brook lay about six f...   \n",
              "18  as the state of his mind was concerned, upon t...   \n",
              "19  because there wasn't any road around.\"  \"Held ...   \n",
              "\n",
              "                                      Rudyard Kipling  \\\n",
              "0   As Thou didst teach all lovers speech,       A...   \n",
              "1   You've too much conceited Brain, too little St...   \n",
              "2   they used him too much at the start;      Mayb...   \n",
              "3   she isn't under White's dormitory at all yet.\"...   \n",
              "4   conning-tower, and wheel, to the doll's house ...   \n",
              "5   \"Mamma!\"   THE SECOND BAG      Ah, well-a-day,...   \n",
              "6   It did not lift that day, nor the next. Dick a...   \n",
              "7   you attempt it.\"  It was not the Colonel that ...   \n",
              "8   limb?\" sez I, catchin' him by the scruff. \"Com...   \n",
              "9   Caurobert's artillery, and for aught they knew...   \n",
              "10  niver touched him. D'you remember when he went...   \n",
              "11  care for sweets.  MRS. G. In-deed?--Pip!  CAPT...   \n",
              "12  \"the gravid polled Angus\" business. Come along...   \n",
              "13  lost her temper with the children, she abused ...   \n",
              "14  brimstone Spanish, and he swung down on our ra...   \n",
              "15   THE JUNGLE BOOK  By Rudyard Kipling    Conten...   \n",
              "16  worshipped by the King; but, drunk with pride,...   \n",
              "17  them. \"Fitz is right. I'm dead; only I don't s...   \n",
              "18  people. Now, too, I am hot and now I am cold, ...   \n",
              "19  necessary to get to the piston and the jammed ...   \n",
              "\n",
              "                                         Daniel Defoe  \\\n",
              "0   that the kings of France and Spain were united...   \n",
              "1   them and to me. First, he turned to me, and po...   \n",
              "2   the Divine Powers, for saving, my life, when t...   \n",
              "3   _Vespers_, with Delight enough to my self, and...   \n",
              "4   enemy's country, entered their associated coun...   \n",
              "5   he \"could never mention without some remark of...   \n",
              "6   committed a great Mistake in it; for we percei...   \n",
              "7   so that, upon the whole, I thought it much my ...   \n",
              "8   nothing by me.\" \"I warrant you, madam,\" says s...   \n",
              "9   tradesman ruined by marrying a good wife--in w...   \n",
              "10  the utmost affliction; and now, indeed, and no...   \n",
              "11  case for good artists to bring the ship home; ...   \n",
              "12  fatal Defeat of _Noah_, who had he liv'd untai...   \n",
              "13  bread, roots, and sixteen good hogs on board t...   \n",
              "14  or lords' progenitors. Beggars and bastards by...   \n",
              "15  on exactly what conditions he was released fro...   \n",
              "16  musket, I sat down myself to load all the rest...   \n",
              "17  substantial Matter, which tho' it is full of S...   \n",
              "18  the slip both together, and never heard more o...   \n",
              "19  itself, I thought it seemed to lie higher out ...   \n",
              "\n",
              "                                          Andrew Lang  \\\n",
              "0   truth there may be in Saint-Germain's travels ...   \n",
              "1   did he see the princess than he fell in love w...   \n",
              "2   And all the folk fair Helen must convey, Crown...   \n",
              "3   the woman who has come within the gates of the...   \n",
              "4   are now arranged in a designed order.  During ...   \n",
              "5   Right in front of him was a large farm-house. ...   \n",
              "6   matters are proved to be no more than a dream....   \n",
              "7   but only a little thin soup, and some oatmeal ...   \n",
              "8   Parmi leschine sun grant espee li passe_.\"  Th...   \n",
              "9   stooped to caress the strange creature which h...   \n",
              "10  publication. {276a}  This part of the \"History...   \n",
              "11  he had joined them.  It is not impossible.  He...   \n",
              "12  before, she borrowed a brush and brushed her h...   \n",
              "13  Atlas, who keeps heaven and earth asunder.** H...   \n",
              "14  are fugitive.\"  We would liefer see a young ma...   \n",
              "15  head. Great preparations were going on in the ...   \n",
              "16  well as the suspension holes    on each side.\"...   \n",
              "17  sound of horses' hoofs, and lo! Messire de Mon...   \n",
              "18  leniency caused him years of trouble.  Meanwhi...   \n",
              "19  he could not bring himself to admit that it wa...   \n",
              "\n",
              "                                     Sir Walter Scott  \\\n",
              "0   o' them,--and I'll hae somebody waiting to wei...   \n",
              "1   playhouse ditty,--        \"Lawn as white as dr...   \n",
              "2   love or money.\"  \"Tony Foster lives and thrive...   \n",
              "3   would admit that the chief end of their being ...   \n",
              "4   designs against their neighbours, over whom he...   \n",
              "5   Barclay, then lying there in the garrison. Thi...   \n",
              "6   without any of those alarming consequences whi...   \n",
              "7    TRIAL OF  DUNCAN TERIG ALIAS CLERK, AND ALEXA...   \n",
              "8   heard another person enter the house. \"This,\" ...   \n",
              "9   Kirklands in Roxburghshire, which he had purch...   \n",
              "10  shut, and still shrewish in her expostulation,...   \n",
              "11  the river, which is navigable for vessels of l...   \n",
              "12  they shall either fight or flee. Your grace sh...   \n",
              "13  there remain any which fall under none of thos...   \n",
              "14  all my northern readers, there is a passage-bo...   \n",
              "15  her, I would believe all he can say.\"  \"Sir Ge...   \n",
              "16  state had been lulled asleep by the opportunit...   \n",
              "17  the congregation, as if to address them, and t...   \n",
              "18  fence, and thereon shall you, and all the good...   \n",
              "19  betrayed, on this occasion, the district of Ar...   \n",
              "\n",
              "                                           Lord Byron  \\\n",
              "0   Gael and Saxon mingling banners shine,     And...   \n",
              "1   STANZAS.[591]                           1.    ...   \n",
              "2   marble where her feet                         ...   \n",
              "3   grandeur.\" But it may fairly match with Byron ...   \n",
              "4   Alarique, a Poet's Reverie, with other Poems' ...   \n",
              "5   but sure and slow:     He faded, and so calm a...   \n",
              "6   thee hence,                               140 ...   \n",
              "7   phantoms, but the chief    Seems royal still, ...   \n",
              "8   scrubby paper to write on--excuse it. I am cer...   \n",
              "9   do go.                        LXXXIX.      \"Ou...   \n",
              "10  mortal labours light!       To hear each voice...   \n",
              "11  unnoticed. Some will be directly pointed out; ...   \n",
              "12  then.      And thus your houri (it may be) dis...   \n",
              "13  Lara--/Parisina, etc./ Paris/ Sold by François...   \n",
              "14   THE WORKS  OF  LORD BYRON.        A NEW, REVI...   \n",
              "15  metaphor.]  [387] {335} The answer of the moth...   \n",
              "16  Byron remarks, \"Rogers has not fulfilled the p...   \n",
              "17  return once more to Carloman.\"                ...   \n",
              "18  Meeting, the, iii. 415  _Caledonian Mercury_, ...   \n",
              "19  this!      _Ulr._               Indeed!      _...   \n",
              "\n",
              "                                          Jack London  \\\n",
              "0    THE HOUSE OF PRIDE   Contents:  The House of ...   \n",
              "1   three days I lived off guavas, ohia-apples, an...   \n",
              "2   breath in a half-sob, then tightened her lips ...   \n",
              "3   be out of it.\"  \"No; we 're in for it,\" said F...   \n",
              "4   placed her above all women.  Sitka Charley was...   \n",
              "5   roasting, from opihis to limu, from fowl to wi...   \n",
              "6   were iron.  They were perceivers, willers, and...   \n",
              "7   All of which I submit.  Never, in my life of D...   \n",
              "8   Koyokuk rush in the early nineties?\" he would ...   \n",
              "9   years. Danny's all right, but he ain't got go ...   \n",
              "10  can't get a schooner with an engine.  I might ...   \n",
              "11  briefest of inspection, he turned back to Vill...   \n",
              "12  Sutherland_ before the wind and sea. He had lo...   \n",
              "13  twin 'Sun-Dogs' and a 'Frost Queen' followed s...   \n",
              "14  screaming with fear, run from him to their mot...   \n",
              "15  warmer. Buck was wildly glad. He knew he was a...   \n",
              "16  dead reckoning can never calculate. Before lon...   \n",
              "17  of courage; and the end of the battle found hi...   \n",
              "18  made faces at me as usual across the rim of th...   \n",
              "19  can you explain away the fact that you came ou...   \n",
              "\n",
              "                                      John Galsworthy  \\\n",
              "0   his face--what a substitute for her soft cheek...   \n",
              "1   a pale bright streak along the water, and hid ...   \n",
              "2   country village. I, however, was so angry that...   \n",
              "3   shocked, and quite unable to write anything. H...   \n",
              "4   regular black Highlander. What's the trouble e...   \n",
              "5   never smiled.  Aunt Juley's bewildered, \"Fancy...   \n",
              "6   [MRS. SEDDON takes the sovereign and fumbles f...   \n",
              "7   read your book, of course.\"  To Courtier it se...   \n",
              "8   plucked-looking neck.  On his      right, ROUS...   \n",
              "9   again.  I don't want----       He breaks off a...   \n",
              "10  'E's come too late, that's all.  THE GIRL.  He...   \n",
              "11  publisher!\" His grey eyes scrutinised the agit...   \n",
              "12  require proof.  ST ERTH.  He can make it a cri...   \n",
              "13  her effect, she broke off suddenly, and hastil...   \n",
              "14   THE DARK FLOWER  by John Galsworthy          ...   \n",
              "15  take it in and operate it.  It's sweated, Your...   \n",
              "16  livened and whitened by the moonlight--an embo...   \n",
              "17  Beside the little girls      stands a bald POL...   \n",
              "18  ears and eyes as bright as diamonds.  \"Betty! ...   \n",
              "19  you a pink cream, Mr. Soames, like in old days...   \n",
              "\n",
              "                                       R M Ballantyne  \\\n",
              "0   Lucien was grave, gentle, and studious; elegan...   \n",
              "1   impressed with the mysterious and important ob...   \n",
              "2   Thus spake the Greyton oracle; but, prophet th...   \n",
              "3   incomparably more grand and horrible than the ...   \n",
              "4   lives in combat,--qualities which the crafty s...   \n",
              "5   salutation; \"I'll go and have a look at the li...   \n",
              "6   and the moon rose and sank again, but Tommy la...   \n",
              "7   thralls and freemen, was engaged in cutting an...   \n",
              "8   enthusiasm in a good cause that had conducted ...   \n",
              "9   on which, however, there was an air of calm re...   \n",
              "10  head in, than out came a most awful growl.  Th...   \n",
              "11  seemed about to overwhelm them.  In a more dis...   \n",
              "12  blue cloth, and bright scarlet cloth, and vari...   \n",
              "13  How gratefully the sound falls upon ears that ...   \n",
              "14  feelings so as to attend to her.  She and the ...   \n",
              "15  west River.   Rigolet.   Kiboksk.   Eyelick.  ...   \n",
              "16  the large and apparently well-off families fil...   \n",
              "17  revived for a moment, and he uttered a feeble ...   \n",
              "18  to speak.\"  Further converse was interrupted b...   \n",
              "19  out of the ship's way as much as he could, and...   \n",
              "\n",
              "                                           Bret Harte  \\\n",
              "0   you can find out where they got in and remove ...   \n",
              "1   indication I had received of Miss Mannersley's...   \n",
              "2   intrigue than physical revenge. He was not awa...   \n",
              "3   the few silver coins placed in a pile before h...   \n",
              "4   flushed and disturbed with some new excitement...   \n",
              "5   There was a quiet in her eye      Appalling to...   \n",
              "6   arm, she seemed to have left behind her the fr...   \n",
              "7   came here. That's all! It isn't much, Tom. You...   \n",
              "8   needless to add that it was impossible to conc...   \n",
              "9   directed to the young spirited near horse he w...   \n",
              "10  election poster, and sauntered down towards th...   \n",
              "11  small shut eyes, the feeble nose, the ponderou...   \n",
              "12  made opaque, without being so thick and suffoc...   \n",
              "13  employer's chambers in Sacramento, and handed ...   \n",
              "14  him.  I hope it will not be deemed inconceivab...   \n",
              "15  slight platform. A grizzled, hard-faced old ma...   \n",
              "16  business with the stage company nor with ME, a...   \n",
              "17  the foreman, as he quietly pushed him into the...   \n",
              "18  as that Mixer; and Nibbles, who borrowed money...   \n",
              "19  entangling girl friendships or confidences, an...   \n",
              "\n",
              "                                      Charles Dickens  \n",
              "0   fingers as I ever watched.  \"Well, Charley,\" s...  \n",
              "1   mournful past; as if the house and he had had ...  \n",
              "2   could he, could he, could he--and lost utteran...  \n",
              "3   have taken a great deal of pains with his whis...  \n",
              "4   chest upon the shore,  without anybody heeding...  \n",
              "5   says so to me.'  Bella met the steady look for...  \n",
              "6   traversing immense prairies. Thence by the lak...  \n",
              "7   was a day, and tries to pass upon us now, for ...  \n",
              "8   of the conspiracies it brought to light, by se...  \n",
              "9   and Mrs. Bigby don't want no male parties here...  \n",
              "10  transports of emotion called Mr. Winkle 'Wretc...  \n",
              "11  tore out, roasted, and ate. Now, I ain't alone...  \n",
              "12  returning to London.  Charles Dickens remained...  \n",
              "13  pen again; and before he went to bed wrote ano...  \n",
              "14  in his face with her bleared eyes. 'Come! Begi...  \n",
              "15  at the last moment, used to come running forth...  \n",
              "16  into the lane to shake some bedside carpets.  ...  \n",
              "17  idea yet, of Estella's views on the adoration ...  \n",
              "18  innumerable old gentlemen of respectable, not ...  \n",
              "19  Maggy. 'Well, I suppose it would though.' And ...  "
            ]
          },
          "metadata": {
            "tags": []
          },
          "execution_count": 32
        }
      ]
    },
    {
      "metadata": {
        "id": "5DQK5vA_K5gI",
        "colab_type": "code",
        "colab": {
          "base_uri": "https://localhost:8080/",
          "height": 34
        },
        "outputId": "9fa97cdf-0c1f-468b-ec1b-2ab099cbe369"
      },
      "cell_type": "code",
      "source": [
        "dataset.shape\n"
      ],
      "execution_count": 33,
      "outputs": [
        {
          "output_type": "execute_result",
          "data": {
            "text/plain": [
              "(20, 20)"
            ]
          },
          "metadata": {
            "tags": []
          },
          "execution_count": 33
        }
      ]
    },
    {
      "metadata": {
        "id": "mXOnEppeLSMo",
        "colab_type": "code",
        "outputId": "5eda9e73-08ee-4edc-826c-3743961bc041",
        "colab": {
          "base_uri": "https://localhost:8080/",
          "height": 119
        }
      },
      "cell_type": "code",
      "source": [
        "dataset.columns.values"
      ],
      "execution_count": 34,
      "outputs": [
        {
          "output_type": "execute_result",
          "data": {
            "text/plain": [
              "array(['Harold Bindloss', 'Washington Irving', 'Thomas Hardy',\n",
              "       'Frank Richard Stockton', 'John Bunyan', 'Wilkie Collins',\n",
              "       'Charles Darwin', 'Herbert George Wells', 'Edward Stratemeyer',\n",
              "       'Zane Grey', 'Rudyard Kipling', 'Daniel Defoe', 'Andrew Lang',\n",
              "       'Sir Walter Scott', 'Lord Byron', 'Jack London', 'John Galsworthy',\n",
              "       'R M Ballantyne', 'Bret Harte', 'Charles Dickens'], dtype=object)"
            ]
          },
          "metadata": {
            "tags": []
          },
          "execution_count": 34
        }
      ]
    },
    {
      "metadata": {
        "id": "5pTJXOSCFgz-",
        "colab_type": "text"
      },
      "cell_type": "markdown",
      "source": [
        "# Preprocesari "
      ]
    },
    {
      "metadata": {
        "id": "_cGFNCGNi1dF",
        "colab_type": "text"
      },
      "cell_type": "markdown",
      "source": [
        "* Pentru o mai buna evaluare a stilului fiecarui autor in parte in functie de cuvintele utilizate, vom elimina toate semnele de punctuatie din textele date. \n",
        "\n",
        "\n",
        "* Ulterior, vom folosi procedeul de stemming pentru a reduce cuvintele la cuvantul de baza din care provin, astfel incat sa nu se perceapa diferente intre diverse variatiuni de timp verbal, articole etc. intre cuvinte. "
      ]
    },
    {
      "metadata": {
        "id": "kp1pQRYzFrso",
        "colab_type": "code",
        "colab": {}
      },
      "cell_type": "code",
      "source": [
        "for author in dataset.columns.values:\n",
        "  for i in range(0, len(dataset)):\n",
        "    translator = str.maketrans(string.punctuation, ' '*len(string.punctuation))\n",
        "    dataset[author][i] = str(dataset[author][i]).translate(translator) "
      ],
      "execution_count": 0,
      "outputs": []
    },
    {
      "metadata": {
        "id": "pG-Re1AkYIWM",
        "colab_type": "code",
        "outputId": "ec696a97-8dfb-4382-be6c-e0518fd36c3f",
        "colab": {
          "base_uri": "https://localhost:8080/",
          "height": 2423
        }
      },
      "cell_type": "code",
      "source": [
        "dataset"
      ],
      "execution_count": 36,
      "outputs": [
        {
          "output_type": "execute_result",
          "data": {
            "text/html": [
              "<div>\n",
              "<style scoped>\n",
              "    .dataframe tbody tr th:only-of-type {\n",
              "        vertical-align: middle;\n",
              "    }\n",
              "\n",
              "    .dataframe tbody tr th {\n",
              "        vertical-align: top;\n",
              "    }\n",
              "\n",
              "    .dataframe thead th {\n",
              "        text-align: right;\n",
              "    }\n",
              "</style>\n",
              "<table border=\"1\" class=\"dataframe\">\n",
              "  <thead>\n",
              "    <tr style=\"text-align: right;\">\n",
              "      <th></th>\n",
              "      <th>Harold Bindloss</th>\n",
              "      <th>Washington Irving</th>\n",
              "      <th>Thomas Hardy</th>\n",
              "      <th>Frank Richard Stockton</th>\n",
              "      <th>John Bunyan</th>\n",
              "      <th>Wilkie Collins</th>\n",
              "      <th>Charles Darwin</th>\n",
              "      <th>Herbert George Wells</th>\n",
              "      <th>Edward Stratemeyer</th>\n",
              "      <th>Zane Grey</th>\n",
              "      <th>Rudyard Kipling</th>\n",
              "      <th>Daniel Defoe</th>\n",
              "      <th>Andrew Lang</th>\n",
              "      <th>Sir Walter Scott</th>\n",
              "      <th>Lord Byron</th>\n",
              "      <th>Jack London</th>\n",
              "      <th>John Galsworthy</th>\n",
              "      <th>R M Ballantyne</th>\n",
              "      <th>Bret Harte</th>\n",
              "      <th>Charles Dickens</th>\n",
              "    </tr>\n",
              "  </thead>\n",
              "  <tbody>\n",
              "    <tr>\n",
              "      <th>0</th>\n",
              "      <td>carefully  went a yard or two along the trunk ...</td>\n",
              "      <td>politician  electioneered  written for the new...</td>\n",
              "      <td>the last you will ever sing to me     They may...</td>\n",
              "      <td>but that simple minded dependant and relative ...</td>\n",
              "      <td>yet come  though he is coming  is not fit  not...</td>\n",
              "      <td>bowed  That incorrigible old woman treated him...</td>\n",
              "      <td>twelve marked perfect flowers yielded a capsul...</td>\n",
              "      <td>his sleeve      Had she even loved Booth Wilmi...</td>\n",
              "      <td>about that four hundred dollar diamond ring th...</td>\n",
              "      <td>voice    Yes  What s wanted   answered Lane   ...</td>\n",
              "      <td>As Thou didst teach all lovers speech        A...</td>\n",
              "      <td>that the kings of France and Spain were united...</td>\n",
              "      <td>truth there may be in Saint Germain s travels ...</td>\n",
              "      <td>o  them   and I ll hae somebody waiting to wei...</td>\n",
              "      <td>Gael and Saxon mingling banners shine      And...</td>\n",
              "      <td>THE HOUSE OF PRIDE   Contents   The House of ...</td>\n",
              "      <td>his face  what a substitute for her soft cheek...</td>\n",
              "      <td>Lucien was grave  gentle  and studious  elegan...</td>\n",
              "      <td>you can find out where they got in and remove ...</td>\n",
              "      <td>fingers as I ever watched    Well  Charley   s...</td>\n",
              "    </tr>\n",
              "    <tr>\n",
              "      <th>1</th>\n",
              "      <td>make for Tomlinson  He had been a strong and h...</td>\n",
              "      <td>face to comfort me  Well  as I was saying  my ...</td>\n",
              "      <td>flush perceptibly    Ah  she is there   he tho...</td>\n",
              "      <td>it had not been for this unfortunate and jealo...</td>\n",
              "      <td>promise of none effect  therefore they of the ...</td>\n",
              "      <td>them   there shall be no rest for  you     Th...</td>\n",
              "      <td>their brethren of the northern or southern hem...</td>\n",
              "      <td>in the following fashion   To contrive a revol...</td>\n",
              "      <td>discomfiture a miner came along who said he ha...</td>\n",
              "      <td>presently stopped his plunging which gave me a...</td>\n",
              "      <td>You ve too much conceited Brain  too little St...</td>\n",
              "      <td>them and to me  First  he turned to me  and po...</td>\n",
              "      <td>did he see the princess than he fell in love w...</td>\n",
              "      <td>playhouse ditty            Lawn as white as dr...</td>\n",
              "      <td>STANZAS  591                            1     ...</td>\n",
              "      <td>three days I lived off guavas  ohia apples  an...</td>\n",
              "      <td>a pale bright streak along the water  and hid ...</td>\n",
              "      <td>impressed with the mysterious and important ob...</td>\n",
              "      <td>indication I had received of Miss Mannersley s...</td>\n",
              "      <td>mournful past  as if the house and he had had ...</td>\n",
              "    </tr>\n",
              "    <tr>\n",
              "      <th>2</th>\n",
              "      <td>usually happens  however  that when one sets a...</td>\n",
              "      <td>popular among the choice spirits of the last c...</td>\n",
              "      <td>THE WOODLANDERS   by  Thomas Hardy     CHAPTE...</td>\n",
              "      <td>by  He filled it  then he sat down and wiped h...</td>\n",
              "      <td>other intelligence  if possibly he may arrive ...</td>\n",
              "      <td>health  and the doctor s plain warning of peri...</td>\n",
              "      <td>page 74   pinkish colour  and many present a ...</td>\n",
              "      <td>his day   4  a bibliography  Such a complete b...</td>\n",
              "      <td>keep from being discovered   As they sped alon...</td>\n",
              "      <td>and bye our wash grew to be a wide canyon  win...</td>\n",
              "      <td>they used him too much at the start       Mayb...</td>\n",
              "      <td>the Divine Powers  for saving  my life  when t...</td>\n",
              "      <td>And all the folk fair Helen must convey  Crown...</td>\n",
              "      <td>love or money     Tony Foster lives and thrive...</td>\n",
              "      <td>marble where her feet                         ...</td>\n",
              "      <td>breath in a half sob  then tightened her lips ...</td>\n",
              "      <td>country village  I  however  was so angry that...</td>\n",
              "      <td>Thus spake the Greyton oracle  but  prophet th...</td>\n",
              "      <td>intrigue than physical revenge  He was not awa...</td>\n",
              "      <td>could he  could he  could he  and lost utteran...</td>\n",
              "    </tr>\n",
              "    <tr>\n",
              "      <th>3</th>\n",
              "      <td>by the oxen s slower pace  and his own labored...</td>\n",
              "      <td>cacique was inflexible  He reminded them of th...</td>\n",
              "      <td>said Marian   that I hardly cool down again ti...</td>\n",
              "      <td>and snooded to the lines with a neatness that ...</td>\n",
              "      <td>unbelief  whose foundation was ignorance and f...</td>\n",
              "      <td>back by the wind  in a snug roadstead  for the...</td>\n",
              "      <td>THE DESCENT OF MAN   AND  SELECTION IN RELAT...</td>\n",
              "      <td>old grey butler was really wonderfully good   ...</td>\n",
              "      <td>murmured Allen to himself as he surveyed the s...</td>\n",
              "      <td>sit down to breakfast  and here and there caug...</td>\n",
              "      <td>she isn t under White s dormitory at all yet  ...</td>\n",
              "      <td>Vespers   with Delight enough to my self  and...</td>\n",
              "      <td>the woman who has come within the gates of the...</td>\n",
              "      <td>would admit that the chief end of their being ...</td>\n",
              "      <td>grandeur   But it may fairly match with Byron ...</td>\n",
              "      <td>be out of it     No  we  re in for it   said F...</td>\n",
              "      <td>shocked  and quite unable to write anything  H...</td>\n",
              "      <td>incomparably more grand and horrible than the ...</td>\n",
              "      <td>the few silver coins placed in a pile before h...</td>\n",
              "      <td>have taken a great deal of pains with his whis...</td>\n",
              "    </tr>\n",
              "    <tr>\n",
              "      <th>4</th>\n",
              "      <td>curious half‐veiled appeal in his eyes at Viol...</td>\n",
              "      <td>Was I then to act with reserve toward him  in ...</td>\n",
              "      <td>he could bring himself to show no mercy   With...</td>\n",
              "      <td>the pearl oysters  When he can stay down no lo...</td>\n",
              "      <td>unspeakable the mercy  that the persecutor can...</td>\n",
              "      <td>felt her fondly founded hopes already sinking ...</td>\n",
              "      <td>had gained much experience  castrated and fert...</td>\n",
              "      <td>Teddy  Poor old Adam and Eve we are  Ficial Re...</td>\n",
              "      <td>the dock    I see them   returned Dick   Come ...</td>\n",
              "      <td>Only a young soldier came over with Major McCo...</td>\n",
              "      <td>conning tower  and wheel  to the doll s house ...</td>\n",
              "      <td>enemy s country  entered their associated coun...</td>\n",
              "      <td>are now arranged in a designed order   During ...</td>\n",
              "      <td>designs against their neighbours  over whom he...</td>\n",
              "      <td>Alarique  a Poet s Reverie  with other Poems  ...</td>\n",
              "      <td>placed her above all women   Sitka Charley was...</td>\n",
              "      <td>regular black Highlander  What s the trouble e...</td>\n",
              "      <td>lives in combat   qualities which the crafty s...</td>\n",
              "      <td>flushed and disturbed with some new excitement...</td>\n",
              "      <td>chest upon the shore   without anybody heeding...</td>\n",
              "    </tr>\n",
              "    <tr>\n",
              "      <th>5</th>\n",
              "      <td>without a purpose  because I want you to under...</td>\n",
              "      <td>forces in that quarter  while the main body of...</td>\n",
              "      <td>principles    Swithin sighed    I admit it   h...</td>\n",
              "      <td>all this time   let s go  let s go     I belie...</td>\n",
              "      <td>that he would make the very bed shake under hi...</td>\n",
              "      <td>need my life be prolonged artificially by drug...</td>\n",
              "      <td>space of 480 miles in length  and about 100 br...</td>\n",
              "      <td>grey outline against the shimmer of the moon  ...</td>\n",
              "      <td>a great deal  But I try to make enough to pay ...</td>\n",
              "      <td>swollen lines and shades of beastly greed  Ben...</td>\n",
              "      <td>Mamma     THE SECOND BAG      Ah  well a day ...</td>\n",
              "      <td>he  could never mention without some remark of...</td>\n",
              "      <td>Right in front of him was a large farm house  ...</td>\n",
              "      <td>Barclay  then lying there in the garrison  Thi...</td>\n",
              "      <td>but sure and slow      He faded  and so calm a...</td>\n",
              "      <td>roasting  from opihis to limu  from fowl to wi...</td>\n",
              "      <td>never smiled   Aunt Juley s bewildered   Fancy...</td>\n",
              "      <td>salutation   I ll go and have a look at the li...</td>\n",
              "      <td>There was a quiet in her eye      Appalling to...</td>\n",
              "      <td>says so to me    Bella met the steady look for...</td>\n",
              "    </tr>\n",
              "    <tr>\n",
              "      <th>6</th>\n",
              "      <td>Watson s a quiet man  an  makes no unnecessar ...</td>\n",
              "      <td>deserted  Most of the batteau men  who were to...</td>\n",
              "      <td>closely  Mrs  Charmond s furs consoling Grace ...</td>\n",
              "      <td>Lodloe  and paid little heed to the chatter of...</td>\n",
              "      <td>in the behalf of sinners  in that God hath giv...</td>\n",
              "      <td>through Laura  without a moment s hesitation  ...</td>\n",
              "      <td>with a most awkward gait  Except when running ...</td>\n",
              "      <td>7   Side by side with Lady Forthundred  it is ...</td>\n",
              "      <td>give the man who had drunk the stuff an emetic...</td>\n",
              "      <td>plunged down  exhausted  in the shade of a led...</td>\n",
              "      <td>It did not lift that day  nor the next  Dick a...</td>\n",
              "      <td>committed a great Mistake in it  for we percei...</td>\n",
              "      <td>matters are proved to be no more than a dream ...</td>\n",
              "      <td>without any of those alarming consequences whi...</td>\n",
              "      <td>thee hence                                140 ...</td>\n",
              "      <td>were iron   They were perceivers  willers  and...</td>\n",
              "      <td>MRS  SEDDON takes the sovereign and fumbles f...</td>\n",
              "      <td>and the moon rose and sank again  but Tommy la...</td>\n",
              "      <td>arm  she seemed to have left behind her the fr...</td>\n",
              "      <td>traversing immense prairies  Thence by the lak...</td>\n",
              "    </tr>\n",
              "    <tr>\n",
              "      <th>7</th>\n",
              "      <td>as dusk grew near  the haste with which the me...</td>\n",
              "      <td>occurred  There was one time fished up from th...</td>\n",
              "      <td>he saw her no more that day  Since he could no...</td>\n",
              "      <td>came into my mind  And here we are  Now  what ...</td>\n",
              "      <td>consulted again  and sent another petition  an...</td>\n",
              "      <td>unscrupulous man has just given to me   I  am ...</td>\n",
              "      <td>25 22  I owe to the kindness of M  Chauman  o...</td>\n",
              "      <td>the earth  There is our Prince  He is in me  h...</td>\n",
              "      <td>pointing to a morning newspaper he had purchas...</td>\n",
              "      <td>that draws real sportsmen to a place and makes...</td>\n",
              "      <td>you attempt it    It was not the Colonel that ...</td>\n",
              "      <td>so that  upon the whole  I thought it much my ...</td>\n",
              "      <td>but only a little thin soup  and some oatmeal ...</td>\n",
              "      <td>TRIAL OF  DUNCAN TERIG ALIAS CLERK  AND ALEXA...</td>\n",
              "      <td>phantoms  but the chief    Seems royal still  ...</td>\n",
              "      <td>All of which I submit   Never  in my life of D...</td>\n",
              "      <td>read your book  of course    To Courtier it se...</td>\n",
              "      <td>thralls and freemen  was engaged in cutting an...</td>\n",
              "      <td>came here  That s all  It isn t much  Tom  You...</td>\n",
              "      <td>was a day  and tries to pass upon us now  for ...</td>\n",
              "    </tr>\n",
              "    <tr>\n",
              "      <th>8</th>\n",
              "      <td>worse for him    Did you have much trouble   B...</td>\n",
              "      <td>use a poetical phrase  is perfectly surrounded...</td>\n",
              "      <td>the corner of the building    I thought I shou...</td>\n",
              "      <td>John Gayther s Garden and   ...</td>\n",
              "      <td>To forget to watch for that I pray for  6  Apt...</td>\n",
              "      <td>vindictive daring had defied all restraints  t...</td>\n",
              "      <td>along the external surfaces of each valve  see...</td>\n",
              "      <td>wheezy voice of a very old man   Graham hesita...</td>\n",
              "      <td>ear   It was the last straw  With no fresh air...</td>\n",
              "      <td>safety of those behind the leader  Sometimes w...</td>\n",
              "      <td>limb   sez I  catchin  him by the scruff   Com...</td>\n",
              "      <td>nothing by me    I warrant you  madam   says s...</td>\n",
              "      <td>Parmi leschine sun grant espee li passe     Th...</td>\n",
              "      <td>heard another person enter the house   This   ...</td>\n",
              "      <td>scrubby paper to write on  excuse it  I am cer...</td>\n",
              "      <td>Koyokuk rush in the early nineties   he would ...</td>\n",
              "      <td>plucked looking neck   On his      right  ROUS...</td>\n",
              "      <td>enthusiasm in a good cause that had conducted ...</td>\n",
              "      <td>needless to add that it was impossible to conc...</td>\n",
              "      <td>of the conspiracies it brought to light  by se...</td>\n",
              "    </tr>\n",
              "    <tr>\n",
              "      <th>9</th>\n",
              "      <td>known that the police were in pursuit of him  ...</td>\n",
              "      <td>CHRONICLE OF THE CONQUEST OF GRANADA  By Wash...</td>\n",
              "      <td>excellent well   Ah yes  I wish I lived there ...</td>\n",
              "      <td>continued  often with great earnestness and he...</td>\n",
              "      <td>was of the nature of flesh eaters   Well  so s...</td>\n",
              "      <td>not your enemy now  It is no fault of yours th...</td>\n",
              "      <td>to verify this assertion  and have found it tr...</td>\n",
              "      <td>mad    This going to and fro and to and fro a...</td>\n",
              "      <td>statement    Let me see the paper   cried Saun...</td>\n",
              "      <td>to rob him of strength  Then he heard the rapi...</td>\n",
              "      <td>Caurobert s artillery  and for aught they knew...</td>\n",
              "      <td>tradesman ruined by marrying a good wife  in w...</td>\n",
              "      <td>stooped to caress the strange creature which h...</td>\n",
              "      <td>Kirklands in Roxburghshire  which he had purch...</td>\n",
              "      <td>do go                         LXXXIX        Ou...</td>\n",
              "      <td>years  Danny s all right  but he ain t got go ...</td>\n",
              "      <td>again   I don t want           He breaks off a...</td>\n",
              "      <td>on which  however  there was an air of calm re...</td>\n",
              "      <td>directed to the young spirited near horse he w...</td>\n",
              "      <td>and Mrs  Bigby don t want no male parties here...</td>\n",
              "    </tr>\n",
              "    <tr>\n",
              "      <th>10</th>\n",
              "      <td>as much before     I did   said Holbrook    Th...</td>\n",
              "      <td>and his party continued up the course of the W...</td>\n",
              "      <td>four hundred times    De Stancy immediately lo...</td>\n",
              "      <td>it unsafe to mine any further in this part of ...</td>\n",
              "      <td>wherefore Paul  when he had put the church in ...</td>\n",
              "      <td>refuse     I refuse  because I have come round...</td>\n",
              "      <td>more remarkable differences between the sexes ...</td>\n",
              "      <td>in this interval the race had lost its manline...</td>\n",
              "      <td>the action of the        administration       ...</td>\n",
              "      <td>asking or offering of quarter here  This was t...</td>\n",
              "      <td>niver touched him  D you remember when he went...</td>\n",
              "      <td>the utmost affliction  and now  indeed  and no...</td>\n",
              "      <td>publication   276a   This part of the  History...</td>\n",
              "      <td>shut  and still shrewish in her expostulation ...</td>\n",
              "      <td>mortal labours light        To hear each voice...</td>\n",
              "      <td>can t get a schooner with an engine   I might ...</td>\n",
              "      <td>E s come too late  that s all   THE GIRL   He...</td>\n",
              "      <td>head in  than out came a most awful growl   Th...</td>\n",
              "      <td>election poster  and sauntered down towards th...</td>\n",
              "      <td>transports of emotion called Mr  Winkle  Wretc...</td>\n",
              "    </tr>\n",
              "    <tr>\n",
              "      <th>11</th>\n",
              "      <td>again  sat very still  though her companion no...</td>\n",
              "      <td>the proposed bill  further measures of a strin...</td>\n",
              "      <td>As Cytherea went along the passage leading to ...</td>\n",
              "      <td>terrible fight seemed almost like a hand to ha...</td>\n",
              "      <td>graces  as will be for thy good hereafter  tak...</td>\n",
              "      <td>and which she copied with the quaintest exactn...</td>\n",
              "      <td>greatly preponderate in the first  whilst in t...</td>\n",
              "      <td>to attempt to cure the gathered ill of a centu...</td>\n",
              "      <td>a bit red   She told me a piece of news that i...</td>\n",
              "      <td>into a strip of purple sage  It ended abruptly...</td>\n",
              "      <td>care for sweets   MRS  G  In deed   Pip   CAPT...</td>\n",
              "      <td>case for good artists to bring the ship home  ...</td>\n",
              "      <td>he had joined them   It is not impossible   He...</td>\n",
              "      <td>the river  which is navigable for vessels of l...</td>\n",
              "      <td>unnoticed  Some will be directly pointed out  ...</td>\n",
              "      <td>briefest of inspection  he turned back to Vill...</td>\n",
              "      <td>publisher   His grey eyes scrutinised the agit...</td>\n",
              "      <td>seemed about to overwhelm them   In a more dis...</td>\n",
              "      <td>small shut eyes  the feeble nose  the ponderou...</td>\n",
              "      <td>tore out  roasted  and ate  Now  I ain t alone...</td>\n",
              "    </tr>\n",
              "    <tr>\n",
              "      <th>12</th>\n",
              "      <td>himself somewhere and holds a Government post ...</td>\n",
              "      <td>Valencia de la Torre in 1502  in which they ex...</td>\n",
              "      <td>midnight   All this feigning was most distaste...</td>\n",
              "      <td>before me and taken the place I crave  I have ...</td>\n",
              "      <td>Illustration  Christian Confides in His Wife...</td>\n",
              "      <td>escape her in that state  seems to excite some...</td>\n",
              "      <td>this paper has been translated in the  America...</td>\n",
              "      <td>stratification  who has concerned himself with...</td>\n",
              "      <td>their shotguns to the front   Snap was the fir...</td>\n",
              "      <td>however  rode beside Joan  Once  at an opportu...</td>\n",
              "      <td>the gravid polled Angus  business  Come along...</td>\n",
              "      <td>fatal Defeat of  Noah   who had he liv d untai...</td>\n",
              "      <td>before  she borrowed a brush and brushed her h...</td>\n",
              "      <td>they shall either fight or flee  Your grace sh...</td>\n",
              "      <td>then       And thus your houri  it may be  dis...</td>\n",
              "      <td>Sutherland  before the wind and sea  He had lo...</td>\n",
              "      <td>require proof   ST ERTH   He can make it a cri...</td>\n",
              "      <td>blue cloth  and bright scarlet cloth  and vari...</td>\n",
              "      <td>made opaque  without being so thick and suffoc...</td>\n",
              "      <td>returning to London   Charles Dickens remained...</td>\n",
              "    </tr>\n",
              "    <tr>\n",
              "      <th>13</th>\n",
              "      <td>stung his skin  the pools on the creek were fr...</td>\n",
              "      <td>little realm where the Webbers had so long and...</td>\n",
              "      <td>other direction she saw another form coming al...</td>\n",
              "      <td>that he is  he has eaten up everything fit to ...</td>\n",
              "      <td>Jerusalem the God of heaven and eternal mercy ...</td>\n",
              "      <td>cousin   Early in the morning  the plunder sti...</td>\n",
              "      <td>all the same to the inexorable principles of n...</td>\n",
              "      <td>conduct is against whatever accentuates one s ...</td>\n",
              "      <td>neighboring bushes  They were Indians and one ...</td>\n",
              "      <td>his intelligence and his emotion had believed ...</td>\n",
              "      <td>lost her temper with the children  she abused ...</td>\n",
              "      <td>bread  roots  and sixteen good hogs on board t...</td>\n",
              "      <td>Atlas  who keeps heaven and earth asunder    H...</td>\n",
              "      <td>there remain any which fall under none of thos...</td>\n",
              "      <td>Lara   Parisina  etc   Paris  Sold by François...</td>\n",
              "      <td>twin  Sun Dogs  and a  Frost Queen  followed s...</td>\n",
              "      <td>her effect  she broke off suddenly  and hastil...</td>\n",
              "      <td>How gratefully the sound falls upon ears that ...</td>\n",
              "      <td>employer s chambers in Sacramento  and handed ...</td>\n",
              "      <td>pen again  and before he went to bed wrote ano...</td>\n",
              "    </tr>\n",
              "    <tr>\n",
              "      <th>14</th>\n",
              "      <td>hard because he had helped a farmer to put a h...</td>\n",
              "      <td>made a certificate on the spot that the govern...</td>\n",
              "      <td>Tell me  now    What does my father wish      ...</td>\n",
              "      <td>of the  Arato   Among other methods of precaut...</td>\n",
              "      <td>have  through their unbelief  eclipsed the glo...</td>\n",
              "      <td>Superintendent Danville  to visit the citoyenn...</td>\n",
              "      <td>be seen that the amount  of earth brought to t...</td>\n",
              "      <td>long time      Buzard rose out of waves of sub...</td>\n",
              "      <td>nice here  Much better than the old farm  eh  ...</td>\n",
              "      <td>haughty eyes upon Stewart  but inwardly she wa...</td>\n",
              "      <td>brimstone Spanish  and he swung down on our ra...</td>\n",
              "      <td>or lords  progenitors  Beggars and bastards by...</td>\n",
              "      <td>are fugitive    We would liefer see a young ma...</td>\n",
              "      <td>all my northern readers  there is a passage bo...</td>\n",
              "      <td>THE WORKS  OF  LORD BYRON         A NEW  REVI...</td>\n",
              "      <td>screaming with fear  run from him to their mot...</td>\n",
              "      <td>THE DARK FLOWER  by John Galsworthy          ...</td>\n",
              "      <td>feelings so as to attend to her   She and the ...</td>\n",
              "      <td>him   I hope it will not be deemed inconceivab...</td>\n",
              "      <td>in his face with her bleared eyes   Come  Begi...</td>\n",
              "    </tr>\n",
              "    <tr>\n",
              "      <th>15</th>\n",
              "      <td>seemed to me from that draft of the arrangemen...</td>\n",
              "      <td>additions in the handwriting of Columbus  espe...</td>\n",
              "      <td>document he had produced gave such unexpected ...</td>\n",
              "      <td>She s been gone more  n half an hour  She don...</td>\n",
              "      <td>them  and with what else thou shalt find here ...</td>\n",
              "      <td>morning   I continued    No   she said quickly...</td>\n",
              "      <td>close interbreeding within the limits of the s...</td>\n",
              "      <td>But what may finally become a much larger prop...</td>\n",
              "      <td>outcome of the trouble  What if  after all  Ja...</td>\n",
              "      <td>knelt and  with splashing  washed out her eyes...</td>\n",
              "      <td>THE JUNGLE BOOK  By Rudyard Kipling    Conten...</td>\n",
              "      <td>on exactly what conditions he was released fro...</td>\n",
              "      <td>head  Great preparations were going on in the ...</td>\n",
              "      <td>her  I would believe all he can say     Sir Ge...</td>\n",
              "      <td>metaphor     387   335  The answer of the moth...</td>\n",
              "      <td>warmer  Buck was wildly glad  He knew he was a...</td>\n",
              "      <td>take it in and operate it   It s sweated  Your...</td>\n",
              "      <td>west River    Rigolet    Kiboksk    Eyelick   ...</td>\n",
              "      <td>slight platform  A grizzled  hard faced old ma...</td>\n",
              "      <td>at the last moment  used to come running forth...</td>\n",
              "    </tr>\n",
              "    <tr>\n",
              "      <th>16</th>\n",
              "      <td>charming manners called at our hotel and is co...</td>\n",
              "      <td>time to lose  Cornet Middleton was but two or ...</td>\n",
              "      <td>hardly believe that it rained so drearily ther...</td>\n",
              "      <td>story of that gown  What does the master say  ...</td>\n",
              "      <td>almost a disease epidemical among professors  ...</td>\n",
              "      <td>one other thing  between ourselves  Lord Holch...</td>\n",
              "      <td>been completely transposed  for the females ar...</td>\n",
              "      <td>that came and went spelt out         DOES THIS...</td>\n",
              "      <td>think we ought to pay for it  anyway   answere...</td>\n",
              "      <td>at hand  Then she opened the pack of supplies ...</td>\n",
              "      <td>worshipped by the King  but  drunk with pride ...</td>\n",
              "      <td>musket  I sat down myself to load all the rest...</td>\n",
              "      <td>well as the suspension holes    on each side  ...</td>\n",
              "      <td>state had been lulled asleep by the opportunit...</td>\n",
              "      <td>Byron remarks   Rogers has not fulfilled the p...</td>\n",
              "      <td>dead reckoning can never calculate  Before lon...</td>\n",
              "      <td>livened and whitened by the moonlight  an embo...</td>\n",
              "      <td>the large and apparently well off families fil...</td>\n",
              "      <td>business with the stage company nor with ME  a...</td>\n",
              "      <td>into the lane to shake some bedside carpets   ...</td>\n",
              "    </tr>\n",
              "    <tr>\n",
              "      <th>17</th>\n",
              "      <td>dressed in white flannel  with a straw hat and...</td>\n",
              "      <td>considerable numbers  As soon as they are in  ...</td>\n",
              "      <td>On the door being opened  a room too large to ...</td>\n",
              "      <td>house for water  for I can never drink that st...</td>\n",
              "      <td>shall but in one point offend  Breaks the whol...</td>\n",
              "      <td>that he actually shook Romayne s belief in his...</td>\n",
              "      <td>sets of experiments tried at different periods...</td>\n",
              "      <td>a commerce in superficialities  and each provi...</td>\n",
              "      <td>happened   asked Dick    I certainly kin do th...</td>\n",
              "      <td>the bank  The bed of the brook lay about six f...</td>\n",
              "      <td>them   Fitz is right  I m dead  only I don t s...</td>\n",
              "      <td>substantial Matter  which tho  it is full of S...</td>\n",
              "      <td>sound of horses  hoofs  and lo  Messire de Mon...</td>\n",
              "      <td>the congregation  as if to address them  and t...</td>\n",
              "      <td>return once more to Carloman                  ...</td>\n",
              "      <td>of courage  and the end of the battle found hi...</td>\n",
              "      <td>Beside the little girls      stands a bald POL...</td>\n",
              "      <td>revived for a moment  and he uttered a feeble ...</td>\n",
              "      <td>the foreman  as he quietly pushed him into the...</td>\n",
              "      <td>idea yet  of Estella s views on the adoration ...</td>\n",
              "    </tr>\n",
              "    <tr>\n",
              "      <th>18</th>\n",
              "      <td>but how illogical   Grace remarked  and mused ...</td>\n",
              "      <td>afterwards at her labour   Poor baggage  after...</td>\n",
              "      <td>grand semibreves went living on under my finge...</td>\n",
              "      <td>and we were all thrown into the sea  As none o...</td>\n",
              "      <td>they in their appearances  the Pharisee  very ...</td>\n",
              "      <td>English  I was told   Medical Rubber   and tha...</td>\n",
              "      <td>object  or in imitation of others  and then be...</td>\n",
              "      <td>revolutionary idea to him   He was still fendi...</td>\n",
              "      <td>the white milk  as plain as day  Taking up the...</td>\n",
              "      <td>as the state of his mind was concerned  upon t...</td>\n",
              "      <td>people  Now  too  I am hot and now I am cold  ...</td>\n",
              "      <td>the slip both together  and never heard more o...</td>\n",
              "      <td>leniency caused him years of trouble   Meanwhi...</td>\n",
              "      <td>fence  and thereon shall you  and all the good...</td>\n",
              "      <td>Meeting  the  iii  415   Caledonian Mercury   ...</td>\n",
              "      <td>made faces at me as usual across the rim of th...</td>\n",
              "      <td>ears and eyes as bright as diamonds    Betty  ...</td>\n",
              "      <td>to speak    Further converse was interrupted b...</td>\n",
              "      <td>as that Mixer  and Nibbles  who borrowed money...</td>\n",
              "      <td>innumerable old gentlemen of respectable  not ...</td>\n",
              "    </tr>\n",
              "    <tr>\n",
              "      <th>19</th>\n",
              "      <td>had been scrambling over mossy rocks  and his ...</td>\n",
              "      <td>interference of the wealthy merchant Ali Dordu...</td>\n",
              "      <td>novelty in a poor lady turning actress  and no...</td>\n",
              "      <td>then  the ship might sink all of a suddint  be...</td>\n",
              "      <td>justified in the sight of God  so it is also a...</td>\n",
              "      <td>carried an umbrella and a travelling bag  and ...</td>\n",
              "      <td>height  very unusual on this side of the conti...</td>\n",
              "      <td>blackmailing Book or News Trust squalidly  fig...</td>\n",
              "      <td>managed to come through  after all  It certain...</td>\n",
              "      <td>because there wasn t any road around     Held ...</td>\n",
              "      <td>necessary to get to the piston and the jammed ...</td>\n",
              "      <td>itself  I thought it seemed to lie higher out ...</td>\n",
              "      <td>he could not bring himself to admit that it wa...</td>\n",
              "      <td>betrayed  on this occasion  the district of Ar...</td>\n",
              "      <td>this        Ulr                 Indeed        ...</td>\n",
              "      <td>can you explain away the fact that you came ou...</td>\n",
              "      <td>you a pink cream  Mr  Soames  like in old days...</td>\n",
              "      <td>out of the ship s way as much as he could  and...</td>\n",
              "      <td>entangling girl friendships or confidences  an...</td>\n",
              "      <td>Maggy   Well  I suppose it would though   And ...</td>\n",
              "    </tr>\n",
              "  </tbody>\n",
              "</table>\n",
              "</div>"
            ],
            "text/plain": [
              "                                      Harold Bindloss  \\\n",
              "0   carefully  went a yard or two along the trunk ...   \n",
              "1   make for Tomlinson  He had been a strong and h...   \n",
              "2   usually happens  however  that when one sets a...   \n",
              "3   by the oxen s slower pace  and his own labored...   \n",
              "4   curious half‐veiled appeal in his eyes at Viol...   \n",
              "5   without a purpose  because I want you to under...   \n",
              "6   Watson s a quiet man  an  makes no unnecessar ...   \n",
              "7   as dusk grew near  the haste with which the me...   \n",
              "8   worse for him    Did you have much trouble   B...   \n",
              "9   known that the police were in pursuit of him  ...   \n",
              "10  as much before     I did   said Holbrook    Th...   \n",
              "11  again  sat very still  though her companion no...   \n",
              "12  himself somewhere and holds a Government post ...   \n",
              "13  stung his skin  the pools on the creek were fr...   \n",
              "14  hard because he had helped a farmer to put a h...   \n",
              "15  seemed to me from that draft of the arrangemen...   \n",
              "16  charming manners called at our hotel and is co...   \n",
              "17  dressed in white flannel  with a straw hat and...   \n",
              "18  but how illogical   Grace remarked  and mused ...   \n",
              "19  had been scrambling over mossy rocks  and his ...   \n",
              "\n",
              "                                    Washington Irving  \\\n",
              "0   politician  electioneered  written for the new...   \n",
              "1   face to comfort me  Well  as I was saying  my ...   \n",
              "2   popular among the choice spirits of the last c...   \n",
              "3   cacique was inflexible  He reminded them of th...   \n",
              "4   Was I then to act with reserve toward him  in ...   \n",
              "5   forces in that quarter  while the main body of...   \n",
              "6   deserted  Most of the batteau men  who were to...   \n",
              "7   occurred  There was one time fished up from th...   \n",
              "8   use a poetical phrase  is perfectly surrounded...   \n",
              "9    CHRONICLE OF THE CONQUEST OF GRANADA  By Wash...   \n",
              "10  and his party continued up the course of the W...   \n",
              "11  the proposed bill  further measures of a strin...   \n",
              "12  Valencia de la Torre in 1502  in which they ex...   \n",
              "13  little realm where the Webbers had so long and...   \n",
              "14  made a certificate on the spot that the govern...   \n",
              "15  additions in the handwriting of Columbus  espe...   \n",
              "16  time to lose  Cornet Middleton was but two or ...   \n",
              "17  considerable numbers  As soon as they are in  ...   \n",
              "18  afterwards at her labour   Poor baggage  after...   \n",
              "19  interference of the wealthy merchant Ali Dordu...   \n",
              "\n",
              "                                         Thomas Hardy  \\\n",
              "0   the last you will ever sing to me     They may...   \n",
              "1   flush perceptibly    Ah  she is there   he tho...   \n",
              "2    THE WOODLANDERS   by  Thomas Hardy     CHAPTE...   \n",
              "3   said Marian   that I hardly cool down again ti...   \n",
              "4   he could bring himself to show no mercy   With...   \n",
              "5   principles    Swithin sighed    I admit it   h...   \n",
              "6   closely  Mrs  Charmond s furs consoling Grace ...   \n",
              "7   he saw her no more that day  Since he could no...   \n",
              "8   the corner of the building    I thought I shou...   \n",
              "9   excellent well   Ah yes  I wish I lived there ...   \n",
              "10  four hundred times    De Stancy immediately lo...   \n",
              "11  As Cytherea went along the passage leading to ...   \n",
              "12  midnight   All this feigning was most distaste...   \n",
              "13  other direction she saw another form coming al...   \n",
              "14  Tell me  now    What does my father wish      ...   \n",
              "15  document he had produced gave such unexpected ...   \n",
              "16  hardly believe that it rained so drearily ther...   \n",
              "17  On the door being opened  a room too large to ...   \n",
              "18  grand semibreves went living on under my finge...   \n",
              "19  novelty in a poor lady turning actress  and no...   \n",
              "\n",
              "                               Frank Richard Stockton  \\\n",
              "0   but that simple minded dependant and relative ...   \n",
              "1   it had not been for this unfortunate and jealo...   \n",
              "2   by  He filled it  then he sat down and wiped h...   \n",
              "3   and snooded to the lines with a neatness that ...   \n",
              "4   the pearl oysters  When he can stay down no lo...   \n",
              "5   all this time   let s go  let s go     I belie...   \n",
              "6   Lodloe  and paid little heed to the chatter of...   \n",
              "7   came into my mind  And here we are  Now  what ...   \n",
              "8                     John Gayther s Garden and   ...   \n",
              "9   continued  often with great earnestness and he...   \n",
              "10  it unsafe to mine any further in this part of ...   \n",
              "11  terrible fight seemed almost like a hand to ha...   \n",
              "12  before me and taken the place I crave  I have ...   \n",
              "13  that he is  he has eaten up everything fit to ...   \n",
              "14  of the  Arato   Among other methods of precaut...   \n",
              "15   She s been gone more  n half an hour  She don...   \n",
              "16  story of that gown  What does the master say  ...   \n",
              "17  house for water  for I can never drink that st...   \n",
              "18  and we were all thrown into the sea  As none o...   \n",
              "19  then  the ship might sink all of a suddint  be...   \n",
              "\n",
              "                                          John Bunyan  \\\n",
              "0   yet come  though he is coming  is not fit  not...   \n",
              "1   promise of none effect  therefore they of the ...   \n",
              "2   other intelligence  if possibly he may arrive ...   \n",
              "3   unbelief  whose foundation was ignorance and f...   \n",
              "4   unspeakable the mercy  that the persecutor can...   \n",
              "5   that he would make the very bed shake under hi...   \n",
              "6   in the behalf of sinners  in that God hath giv...   \n",
              "7   consulted again  and sent another petition  an...   \n",
              "8   To forget to watch for that I pray for  6  Apt...   \n",
              "9   was of the nature of flesh eaters   Well  so s...   \n",
              "10  wherefore Paul  when he had put the church in ...   \n",
              "11  graces  as will be for thy good hereafter  tak...   \n",
              "12    Illustration  Christian Confides in His Wife...   \n",
              "13  Jerusalem the God of heaven and eternal mercy ...   \n",
              "14  have  through their unbelief  eclipsed the glo...   \n",
              "15  them  and with what else thou shalt find here ...   \n",
              "16  almost a disease epidemical among professors  ...   \n",
              "17  shall but in one point offend  Breaks the whol...   \n",
              "18  they in their appearances  the Pharisee  very ...   \n",
              "19  justified in the sight of God  so it is also a...   \n",
              "\n",
              "                                       Wilkie Collins  \\\n",
              "0   bowed  That incorrigible old woman treated him...   \n",
              "1    them   there shall be no rest for  you     Th...   \n",
              "2   health  and the doctor s plain warning of peri...   \n",
              "3   back by the wind  in a snug roadstead  for the...   \n",
              "4   felt her fondly founded hopes already sinking ...   \n",
              "5   need my life be prolonged artificially by drug...   \n",
              "6   through Laura  without a moment s hesitation  ...   \n",
              "7   unscrupulous man has just given to me   I  am ...   \n",
              "8   vindictive daring had defied all restraints  t...   \n",
              "9   not your enemy now  It is no fault of yours th...   \n",
              "10  refuse     I refuse  because I have come round...   \n",
              "11  and which she copied with the quaintest exactn...   \n",
              "12  escape her in that state  seems to excite some...   \n",
              "13  cousin   Early in the morning  the plunder sti...   \n",
              "14  Superintendent Danville  to visit the citoyenn...   \n",
              "15  morning   I continued    No   she said quickly...   \n",
              "16  one other thing  between ourselves  Lord Holch...   \n",
              "17  that he actually shook Romayne s belief in his...   \n",
              "18  English  I was told   Medical Rubber   and tha...   \n",
              "19  carried an umbrella and a travelling bag  and ...   \n",
              "\n",
              "                                       Charles Darwin  \\\n",
              "0   twelve marked perfect flowers yielded a capsul...   \n",
              "1   their brethren of the northern or southern hem...   \n",
              "2    page 74   pinkish colour  and many present a ...   \n",
              "3     THE DESCENT OF MAN   AND  SELECTION IN RELAT...   \n",
              "4   had gained much experience  castrated and fert...   \n",
              "5   space of 480 miles in length  and about 100 br...   \n",
              "6   with a most awkward gait  Except when running ...   \n",
              "7    25 22  I owe to the kindness of M  Chauman  o...   \n",
              "8   along the external surfaces of each valve  see...   \n",
              "9   to verify this assertion  and have found it tr...   \n",
              "10  more remarkable differences between the sexes ...   \n",
              "11  greatly preponderate in the first  whilst in t...   \n",
              "12  this paper has been translated in the  America...   \n",
              "13  all the same to the inexorable principles of n...   \n",
              "14  be seen that the amount  of earth brought to t...   \n",
              "15  close interbreeding within the limits of the s...   \n",
              "16  been completely transposed  for the females ar...   \n",
              "17  sets of experiments tried at different periods...   \n",
              "18  object  or in imitation of others  and then be...   \n",
              "19  height  very unusual on this side of the conti...   \n",
              "\n",
              "                                 Herbert George Wells  \\\n",
              "0   his sleeve      Had she even loved Booth Wilmi...   \n",
              "1   in the following fashion   To contrive a revol...   \n",
              "2   his day   4  a bibliography  Such a complete b...   \n",
              "3   old grey butler was really wonderfully good   ...   \n",
              "4   Teddy  Poor old Adam and Eve we are  Ficial Re...   \n",
              "5   grey outline against the shimmer of the moon  ...   \n",
              "6   7   Side by side with Lady Forthundred  it is ...   \n",
              "7   the earth  There is our Prince  He is in me  h...   \n",
              "8   wheezy voice of a very old man   Graham hesita...   \n",
              "9    mad    This going to and fro and to and fro a...   \n",
              "10  in this interval the race had lost its manline...   \n",
              "11  to attempt to cure the gathered ill of a centu...   \n",
              "12  stratification  who has concerned himself with...   \n",
              "13  conduct is against whatever accentuates one s ...   \n",
              "14  long time      Buzard rose out of waves of sub...   \n",
              "15  But what may finally become a much larger prop...   \n",
              "16  that came and went spelt out         DOES THIS...   \n",
              "17  a commerce in superficialities  and each provi...   \n",
              "18  revolutionary idea to him   He was still fendi...   \n",
              "19  blackmailing Book or News Trust squalidly  fig...   \n",
              "\n",
              "                                   Edward Stratemeyer  \\\n",
              "0   about that four hundred dollar diamond ring th...   \n",
              "1   discomfiture a miner came along who said he ha...   \n",
              "2   keep from being discovered   As they sped alon...   \n",
              "3   murmured Allen to himself as he surveyed the s...   \n",
              "4   the dock    I see them   returned Dick   Come ...   \n",
              "5   a great deal  But I try to make enough to pay ...   \n",
              "6   give the man who had drunk the stuff an emetic...   \n",
              "7   pointing to a morning newspaper he had purchas...   \n",
              "8   ear   It was the last straw  With no fresh air...   \n",
              "9   statement    Let me see the paper   cried Saun...   \n",
              "10  the action of the        administration       ...   \n",
              "11  a bit red   She told me a piece of news that i...   \n",
              "12  their shotguns to the front   Snap was the fir...   \n",
              "13  neighboring bushes  They were Indians and one ...   \n",
              "14  nice here  Much better than the old farm  eh  ...   \n",
              "15  outcome of the trouble  What if  after all  Ja...   \n",
              "16  think we ought to pay for it  anyway   answere...   \n",
              "17  happened   asked Dick    I certainly kin do th...   \n",
              "18  the white milk  as plain as day  Taking up the...   \n",
              "19  managed to come through  after all  It certain...   \n",
              "\n",
              "                                            Zane Grey  \\\n",
              "0   voice    Yes  What s wanted   answered Lane   ...   \n",
              "1   presently stopped his plunging which gave me a...   \n",
              "2   and bye our wash grew to be a wide canyon  win...   \n",
              "3   sit down to breakfast  and here and there caug...   \n",
              "4   Only a young soldier came over with Major McCo...   \n",
              "5   swollen lines and shades of beastly greed  Ben...   \n",
              "6   plunged down  exhausted  in the shade of a led...   \n",
              "7   that draws real sportsmen to a place and makes...   \n",
              "8   safety of those behind the leader  Sometimes w...   \n",
              "9   to rob him of strength  Then he heard the rapi...   \n",
              "10  asking or offering of quarter here  This was t...   \n",
              "11  into a strip of purple sage  It ended abruptly...   \n",
              "12  however  rode beside Joan  Once  at an opportu...   \n",
              "13  his intelligence and his emotion had believed ...   \n",
              "14  haughty eyes upon Stewart  but inwardly she wa...   \n",
              "15  knelt and  with splashing  washed out her eyes...   \n",
              "16  at hand  Then she opened the pack of supplies ...   \n",
              "17  the bank  The bed of the brook lay about six f...   \n",
              "18  as the state of his mind was concerned  upon t...   \n",
              "19  because there wasn t any road around     Held ...   \n",
              "\n",
              "                                      Rudyard Kipling  \\\n",
              "0   As Thou didst teach all lovers speech        A...   \n",
              "1   You ve too much conceited Brain  too little St...   \n",
              "2   they used him too much at the start       Mayb...   \n",
              "3   she isn t under White s dormitory at all yet  ...   \n",
              "4   conning tower  and wheel  to the doll s house ...   \n",
              "5    Mamma     THE SECOND BAG      Ah  well a day ...   \n",
              "6   It did not lift that day  nor the next  Dick a...   \n",
              "7   you attempt it    It was not the Colonel that ...   \n",
              "8   limb   sez I  catchin  him by the scruff   Com...   \n",
              "9   Caurobert s artillery  and for aught they knew...   \n",
              "10  niver touched him  D you remember when he went...   \n",
              "11  care for sweets   MRS  G  In deed   Pip   CAPT...   \n",
              "12   the gravid polled Angus  business  Come along...   \n",
              "13  lost her temper with the children  she abused ...   \n",
              "14  brimstone Spanish  and he swung down on our ra...   \n",
              "15   THE JUNGLE BOOK  By Rudyard Kipling    Conten...   \n",
              "16  worshipped by the King  but  drunk with pride ...   \n",
              "17  them   Fitz is right  I m dead  only I don t s...   \n",
              "18  people  Now  too  I am hot and now I am cold  ...   \n",
              "19  necessary to get to the piston and the jammed ...   \n",
              "\n",
              "                                         Daniel Defoe  \\\n",
              "0   that the kings of France and Spain were united...   \n",
              "1   them and to me  First  he turned to me  and po...   \n",
              "2   the Divine Powers  for saving  my life  when t...   \n",
              "3    Vespers   with Delight enough to my self  and...   \n",
              "4   enemy s country  entered their associated coun...   \n",
              "5   he  could never mention without some remark of...   \n",
              "6   committed a great Mistake in it  for we percei...   \n",
              "7   so that  upon the whole  I thought it much my ...   \n",
              "8   nothing by me    I warrant you  madam   says s...   \n",
              "9   tradesman ruined by marrying a good wife  in w...   \n",
              "10  the utmost affliction  and now  indeed  and no...   \n",
              "11  case for good artists to bring the ship home  ...   \n",
              "12  fatal Defeat of  Noah   who had he liv d untai...   \n",
              "13  bread  roots  and sixteen good hogs on board t...   \n",
              "14  or lords  progenitors  Beggars and bastards by...   \n",
              "15  on exactly what conditions he was released fro...   \n",
              "16  musket  I sat down myself to load all the rest...   \n",
              "17  substantial Matter  which tho  it is full of S...   \n",
              "18  the slip both together  and never heard more o...   \n",
              "19  itself  I thought it seemed to lie higher out ...   \n",
              "\n",
              "                                          Andrew Lang  \\\n",
              "0   truth there may be in Saint Germain s travels ...   \n",
              "1   did he see the princess than he fell in love w...   \n",
              "2   And all the folk fair Helen must convey  Crown...   \n",
              "3   the woman who has come within the gates of the...   \n",
              "4   are now arranged in a designed order   During ...   \n",
              "5   Right in front of him was a large farm house  ...   \n",
              "6   matters are proved to be no more than a dream ...   \n",
              "7   but only a little thin soup  and some oatmeal ...   \n",
              "8   Parmi leschine sun grant espee li passe     Th...   \n",
              "9   stooped to caress the strange creature which h...   \n",
              "10  publication   276a   This part of the  History...   \n",
              "11  he had joined them   It is not impossible   He...   \n",
              "12  before  she borrowed a brush and brushed her h...   \n",
              "13  Atlas  who keeps heaven and earth asunder    H...   \n",
              "14  are fugitive    We would liefer see a young ma...   \n",
              "15  head  Great preparations were going on in the ...   \n",
              "16  well as the suspension holes    on each side  ...   \n",
              "17  sound of horses  hoofs  and lo  Messire de Mon...   \n",
              "18  leniency caused him years of trouble   Meanwhi...   \n",
              "19  he could not bring himself to admit that it wa...   \n",
              "\n",
              "                                     Sir Walter Scott  \\\n",
              "0   o  them   and I ll hae somebody waiting to wei...   \n",
              "1   playhouse ditty            Lawn as white as dr...   \n",
              "2   love or money     Tony Foster lives and thrive...   \n",
              "3   would admit that the chief end of their being ...   \n",
              "4   designs against their neighbours  over whom he...   \n",
              "5   Barclay  then lying there in the garrison  Thi...   \n",
              "6   without any of those alarming consequences whi...   \n",
              "7    TRIAL OF  DUNCAN TERIG ALIAS CLERK  AND ALEXA...   \n",
              "8   heard another person enter the house   This   ...   \n",
              "9   Kirklands in Roxburghshire  which he had purch...   \n",
              "10  shut  and still shrewish in her expostulation ...   \n",
              "11  the river  which is navigable for vessels of l...   \n",
              "12  they shall either fight or flee  Your grace sh...   \n",
              "13  there remain any which fall under none of thos...   \n",
              "14  all my northern readers  there is a passage bo...   \n",
              "15  her  I would believe all he can say     Sir Ge...   \n",
              "16  state had been lulled asleep by the opportunit...   \n",
              "17  the congregation  as if to address them  and t...   \n",
              "18  fence  and thereon shall you  and all the good...   \n",
              "19  betrayed  on this occasion  the district of Ar...   \n",
              "\n",
              "                                           Lord Byron  \\\n",
              "0   Gael and Saxon mingling banners shine      And...   \n",
              "1   STANZAS  591                            1     ...   \n",
              "2   marble where her feet                         ...   \n",
              "3   grandeur   But it may fairly match with Byron ...   \n",
              "4   Alarique  a Poet s Reverie  with other Poems  ...   \n",
              "5   but sure and slow      He faded  and so calm a...   \n",
              "6   thee hence                                140 ...   \n",
              "7   phantoms  but the chief    Seems royal still  ...   \n",
              "8   scrubby paper to write on  excuse it  I am cer...   \n",
              "9   do go                         LXXXIX        Ou...   \n",
              "10  mortal labours light        To hear each voice...   \n",
              "11  unnoticed  Some will be directly pointed out  ...   \n",
              "12  then       And thus your houri  it may be  dis...   \n",
              "13  Lara   Parisina  etc   Paris  Sold by François...   \n",
              "14   THE WORKS  OF  LORD BYRON         A NEW  REVI...   \n",
              "15  metaphor     387   335  The answer of the moth...   \n",
              "16  Byron remarks   Rogers has not fulfilled the p...   \n",
              "17  return once more to Carloman                  ...   \n",
              "18  Meeting  the  iii  415   Caledonian Mercury   ...   \n",
              "19  this        Ulr                 Indeed        ...   \n",
              "\n",
              "                                          Jack London  \\\n",
              "0    THE HOUSE OF PRIDE   Contents   The House of ...   \n",
              "1   three days I lived off guavas  ohia apples  an...   \n",
              "2   breath in a half sob  then tightened her lips ...   \n",
              "3   be out of it     No  we  re in for it   said F...   \n",
              "4   placed her above all women   Sitka Charley was...   \n",
              "5   roasting  from opihis to limu  from fowl to wi...   \n",
              "6   were iron   They were perceivers  willers  and...   \n",
              "7   All of which I submit   Never  in my life of D...   \n",
              "8   Koyokuk rush in the early nineties   he would ...   \n",
              "9   years  Danny s all right  but he ain t got go ...   \n",
              "10  can t get a schooner with an engine   I might ...   \n",
              "11  briefest of inspection  he turned back to Vill...   \n",
              "12  Sutherland  before the wind and sea  He had lo...   \n",
              "13  twin  Sun Dogs  and a  Frost Queen  followed s...   \n",
              "14  screaming with fear  run from him to their mot...   \n",
              "15  warmer  Buck was wildly glad  He knew he was a...   \n",
              "16  dead reckoning can never calculate  Before lon...   \n",
              "17  of courage  and the end of the battle found hi...   \n",
              "18  made faces at me as usual across the rim of th...   \n",
              "19  can you explain away the fact that you came ou...   \n",
              "\n",
              "                                      John Galsworthy  \\\n",
              "0   his face  what a substitute for her soft cheek...   \n",
              "1   a pale bright streak along the water  and hid ...   \n",
              "2   country village  I  however  was so angry that...   \n",
              "3   shocked  and quite unable to write anything  H...   \n",
              "4   regular black Highlander  What s the trouble e...   \n",
              "5   never smiled   Aunt Juley s bewildered   Fancy...   \n",
              "6    MRS  SEDDON takes the sovereign and fumbles f...   \n",
              "7   read your book  of course    To Courtier it se...   \n",
              "8   plucked looking neck   On his      right  ROUS...   \n",
              "9   again   I don t want           He breaks off a...   \n",
              "10   E s come too late  that s all   THE GIRL   He...   \n",
              "11  publisher   His grey eyes scrutinised the agit...   \n",
              "12  require proof   ST ERTH   He can make it a cri...   \n",
              "13  her effect  she broke off suddenly  and hastil...   \n",
              "14   THE DARK FLOWER  by John Galsworthy          ...   \n",
              "15  take it in and operate it   It s sweated  Your...   \n",
              "16  livened and whitened by the moonlight  an embo...   \n",
              "17  Beside the little girls      stands a bald POL...   \n",
              "18  ears and eyes as bright as diamonds    Betty  ...   \n",
              "19  you a pink cream  Mr  Soames  like in old days...   \n",
              "\n",
              "                                       R M Ballantyne  \\\n",
              "0   Lucien was grave  gentle  and studious  elegan...   \n",
              "1   impressed with the mysterious and important ob...   \n",
              "2   Thus spake the Greyton oracle  but  prophet th...   \n",
              "3   incomparably more grand and horrible than the ...   \n",
              "4   lives in combat   qualities which the crafty s...   \n",
              "5   salutation   I ll go and have a look at the li...   \n",
              "6   and the moon rose and sank again  but Tommy la...   \n",
              "7   thralls and freemen  was engaged in cutting an...   \n",
              "8   enthusiasm in a good cause that had conducted ...   \n",
              "9   on which  however  there was an air of calm re...   \n",
              "10  head in  than out came a most awful growl   Th...   \n",
              "11  seemed about to overwhelm them   In a more dis...   \n",
              "12  blue cloth  and bright scarlet cloth  and vari...   \n",
              "13  How gratefully the sound falls upon ears that ...   \n",
              "14  feelings so as to attend to her   She and the ...   \n",
              "15  west River    Rigolet    Kiboksk    Eyelick   ...   \n",
              "16  the large and apparently well off families fil...   \n",
              "17  revived for a moment  and he uttered a feeble ...   \n",
              "18  to speak    Further converse was interrupted b...   \n",
              "19  out of the ship s way as much as he could  and...   \n",
              "\n",
              "                                           Bret Harte  \\\n",
              "0   you can find out where they got in and remove ...   \n",
              "1   indication I had received of Miss Mannersley s...   \n",
              "2   intrigue than physical revenge  He was not awa...   \n",
              "3   the few silver coins placed in a pile before h...   \n",
              "4   flushed and disturbed with some new excitement...   \n",
              "5   There was a quiet in her eye      Appalling to...   \n",
              "6   arm  she seemed to have left behind her the fr...   \n",
              "7   came here  That s all  It isn t much  Tom  You...   \n",
              "8   needless to add that it was impossible to conc...   \n",
              "9   directed to the young spirited near horse he w...   \n",
              "10  election poster  and sauntered down towards th...   \n",
              "11  small shut eyes  the feeble nose  the ponderou...   \n",
              "12  made opaque  without being so thick and suffoc...   \n",
              "13  employer s chambers in Sacramento  and handed ...   \n",
              "14  him   I hope it will not be deemed inconceivab...   \n",
              "15  slight platform  A grizzled  hard faced old ma...   \n",
              "16  business with the stage company nor with ME  a...   \n",
              "17  the foreman  as he quietly pushed him into the...   \n",
              "18  as that Mixer  and Nibbles  who borrowed money...   \n",
              "19  entangling girl friendships or confidences  an...   \n",
              "\n",
              "                                      Charles Dickens  \n",
              "0   fingers as I ever watched    Well  Charley   s...  \n",
              "1   mournful past  as if the house and he had had ...  \n",
              "2   could he  could he  could he  and lost utteran...  \n",
              "3   have taken a great deal of pains with his whis...  \n",
              "4   chest upon the shore   without anybody heeding...  \n",
              "5   says so to me    Bella met the steady look for...  \n",
              "6   traversing immense prairies  Thence by the lak...  \n",
              "7   was a day  and tries to pass upon us now  for ...  \n",
              "8   of the conspiracies it brought to light  by se...  \n",
              "9   and Mrs  Bigby don t want no male parties here...  \n",
              "10  transports of emotion called Mr  Winkle  Wretc...  \n",
              "11  tore out  roasted  and ate  Now  I ain t alone...  \n",
              "12  returning to London   Charles Dickens remained...  \n",
              "13  pen again  and before he went to bed wrote ano...  \n",
              "14  in his face with her bleared eyes   Come  Begi...  \n",
              "15  at the last moment  used to come running forth...  \n",
              "16  into the lane to shake some bedside carpets   ...  \n",
              "17  idea yet  of Estella s views on the adoration ...  \n",
              "18  innumerable old gentlemen of respectable  not ...  \n",
              "19  Maggy   Well  I suppose it would though   And ...  "
            ]
          },
          "metadata": {
            "tags": []
          },
          "execution_count": 36
        }
      ]
    },
    {
      "metadata": {
        "id": "aDuqUWsrFu5P",
        "colab_type": "code",
        "outputId": "84b4c200-e017-46d7-e407-025dd1d623dc",
        "colab": {
          "base_uri": "https://localhost:8080/",
          "height": 153
        }
      },
      "cell_type": "code",
      "source": [
        "!pip install stemming"
      ],
      "execution_count": 8,
      "outputs": [
        {
          "output_type": "stream",
          "text": [
            "Collecting stemming\n",
            "  Downloading https://files.pythonhosted.org/packages/d1/eb/fd53fb51b83a4e3b8e98cfec2fa9e4b99401fce5177ec346e4a5c61df71e/stemming-1.0.1.tar.gz\n",
            "Building wheels for collected packages: stemming\n",
            "  Running setup.py bdist_wheel for stemming ... \u001b[?25l-\b \bdone\n",
            "\u001b[?25h  Stored in directory: /root/.cache/pip/wheels/e8/05/2e/2ddeb64d4464b854b48323f9676528c17560da7d153db7b0e2\n",
            "Successfully built stemming\n",
            "Installing collected packages: stemming\n",
            "Successfully installed stemming-1.0.1\n"
          ],
          "name": "stdout"
        }
      ]
    },
    {
      "metadata": {
        "id": "v3BN_ReBF0fH",
        "colab_type": "code",
        "colab": {}
      },
      "cell_type": "code",
      "source": [
        "from stemming.porter2 import stem\n",
        "\n",
        "dataset = [[stem(word.lower()) for word in fragment.split(\" \")] for author in dataset.columns.values for fragment in dataset[author]]"
      ],
      "execution_count": 0,
      "outputs": []
    },
    {
      "metadata": {
        "id": "O7iboABAGDxw",
        "colab_type": "code",
        "colab": {}
      },
      "cell_type": "code",
      "source": [
        "dataset = [' '.join(fragment) for fragment in dataset]\n",
        "dataset = [fragment.replace('\\n',' ') for fragment in dataset]"
      ],
      "execution_count": 0,
      "outputs": []
    },
    {
      "metadata": {
        "id": "FYCWaQDkXwP_",
        "colab_type": "code",
        "outputId": "ae74238c-7c13-4b87-851c-80b24477ff45",
        "colab": {
          "base_uri": "https://localhost:8080/",
          "height": 34
        }
      },
      "cell_type": "code",
      "source": [
        "len(dataset)"
      ],
      "execution_count": 39,
      "outputs": [
        {
          "output_type": "execute_result",
          "data": {
            "text/plain": [
              "400"
            ]
          },
          "metadata": {
            "tags": []
          },
          "execution_count": 39
        }
      ]
    },
    {
      "metadata": {
        "id": "Xxf5m9XpZAci",
        "colab_type": "text"
      },
      "cell_type": "markdown",
      "source": [
        "## Make author labels for training. "
      ]
    },
    {
      "metadata": {
        "id": "cCusaD5QlNMT",
        "colab_type": "text"
      },
      "cell_type": "markdown",
      "source": [
        "In aceasta sectiune am codificat numele fiecarui autor in indici de la 0 la 19 pe care ii vom folosi pentru antrenare."
      ]
    },
    {
      "metadata": {
        "id": "1tRkQW2uGWod",
        "colab_type": "code",
        "colab": {}
      },
      "cell_type": "code",
      "source": [
        "authors = ['Harold Bindloss', 'Washington Irving', 'Thomas Hardy',\n",
        "       'Frank Richard Stockton', 'John Bunyan', 'Wilkie Collins',\n",
        "       'Charles Darwin', 'Herbert George Wells', 'Edward Stratemeyer',\n",
        "       'Zane Grey', 'Rudyard Kipling', 'Daniel Defoe', 'Andrew Lang',\n",
        "       'Sir Walter Scott', 'Lord Byron', 'Jack London', 'John Galsworthy',\n",
        "       'R M Ballantyne', 'Bret Harte', 'Charles Dickens']\n",
        "authors_dict = {}\n",
        "for index in range(len(authors)):\n",
        "  authors_dict[index] = authors[index];"
      ],
      "execution_count": 0,
      "outputs": []
    },
    {
      "metadata": {
        "id": "xlW_1eHT-kjA",
        "colab_type": "code",
        "outputId": "ee7b42f1-6353-4f67-b0d2-28cc95b6d901",
        "colab": {
          "base_uri": "https://localhost:8080/",
          "height": 357
        }
      },
      "cell_type": "code",
      "source": [
        "authors_dict"
      ],
      "execution_count": 41,
      "outputs": [
        {
          "output_type": "execute_result",
          "data": {
            "text/plain": [
              "{0: 'Harold Bindloss',\n",
              " 1: 'Washington Irving',\n",
              " 2: 'Thomas Hardy',\n",
              " 3: 'Frank Richard Stockton',\n",
              " 4: 'John Bunyan',\n",
              " 5: 'Wilkie Collins',\n",
              " 6: 'Charles Darwin',\n",
              " 7: 'Herbert George Wells',\n",
              " 8: 'Edward Stratemeyer',\n",
              " 9: 'Zane Grey',\n",
              " 10: 'Rudyard Kipling',\n",
              " 11: 'Daniel Defoe',\n",
              " 12: 'Andrew Lang',\n",
              " 13: 'Sir Walter Scott',\n",
              " 14: 'Lord Byron',\n",
              " 15: 'Jack London',\n",
              " 16: 'John Galsworthy',\n",
              " 17: 'R M Ballantyne',\n",
              " 18: 'Bret Harte',\n",
              " 19: 'Charles Dickens'}"
            ]
          },
          "metadata": {
            "tags": []
          },
          "execution_count": 41
        }
      ]
    },
    {
      "metadata": {
        "id": "PtWNocHpZc7a",
        "colab_type": "code",
        "outputId": "f2c782d7-c984-45b0-9962-6943a8293178",
        "colab": {
          "base_uri": "https://localhost:8080/",
          "height": 71
        }
      },
      "cell_type": "code",
      "source": [
        "authors_encodings = list(range(20))\n",
        "authors_encodings = sorted(authors_encodings*20)\n",
        "\n",
        "print (authors_encodings)\n",
        "print (len(authors_encodings))"
      ],
      "execution_count": 42,
      "outputs": [
        {
          "output_type": "stream",
          "text": [
            "[0, 0, 0, 0, 0, 0, 0, 0, 0, 0, 0, 0, 0, 0, 0, 0, 0, 0, 0, 0, 1, 1, 1, 1, 1, 1, 1, 1, 1, 1, 1, 1, 1, 1, 1, 1, 1, 1, 1, 1, 2, 2, 2, 2, 2, 2, 2, 2, 2, 2, 2, 2, 2, 2, 2, 2, 2, 2, 2, 2, 3, 3, 3, 3, 3, 3, 3, 3, 3, 3, 3, 3, 3, 3, 3, 3, 3, 3, 3, 3, 4, 4, 4, 4, 4, 4, 4, 4, 4, 4, 4, 4, 4, 4, 4, 4, 4, 4, 4, 4, 5, 5, 5, 5, 5, 5, 5, 5, 5, 5, 5, 5, 5, 5, 5, 5, 5, 5, 5, 5, 6, 6, 6, 6, 6, 6, 6, 6, 6, 6, 6, 6, 6, 6, 6, 6, 6, 6, 6, 6, 7, 7, 7, 7, 7, 7, 7, 7, 7, 7, 7, 7, 7, 7, 7, 7, 7, 7, 7, 7, 8, 8, 8, 8, 8, 8, 8, 8, 8, 8, 8, 8, 8, 8, 8, 8, 8, 8, 8, 8, 9, 9, 9, 9, 9, 9, 9, 9, 9, 9, 9, 9, 9, 9, 9, 9, 9, 9, 9, 9, 10, 10, 10, 10, 10, 10, 10, 10, 10, 10, 10, 10, 10, 10, 10, 10, 10, 10, 10, 10, 11, 11, 11, 11, 11, 11, 11, 11, 11, 11, 11, 11, 11, 11, 11, 11, 11, 11, 11, 11, 12, 12, 12, 12, 12, 12, 12, 12, 12, 12, 12, 12, 12, 12, 12, 12, 12, 12, 12, 12, 13, 13, 13, 13, 13, 13, 13, 13, 13, 13, 13, 13, 13, 13, 13, 13, 13, 13, 13, 13, 14, 14, 14, 14, 14, 14, 14, 14, 14, 14, 14, 14, 14, 14, 14, 14, 14, 14, 14, 14, 15, 15, 15, 15, 15, 15, 15, 15, 15, 15, 15, 15, 15, 15, 15, 15, 15, 15, 15, 15, 16, 16, 16, 16, 16, 16, 16, 16, 16, 16, 16, 16, 16, 16, 16, 16, 16, 16, 16, 16, 17, 17, 17, 17, 17, 17, 17, 17, 17, 17, 17, 17, 17, 17, 17, 17, 17, 17, 17, 17, 18, 18, 18, 18, 18, 18, 18, 18, 18, 18, 18, 18, 18, 18, 18, 18, 18, 18, 18, 18, 19, 19, 19, 19, 19, 19, 19, 19, 19, 19, 19, 19, 19, 19, 19, 19, 19, 19, 19, 19]\n",
            "400\n"
          ],
          "name": "stdout"
        }
      ]
    },
    {
      "metadata": {
        "id": "kA4t19FeZLjR",
        "colab_type": "text"
      },
      "cell_type": "markdown",
      "source": [
        "## Make feature vectors for training."
      ]
    },
    {
      "metadata": {
        "id": "ZbJjTRlGlXdF",
        "colab_type": "text"
      },
      "cell_type": "markdown",
      "source": [
        "* Am codificat fragmentele de text preprocesate folosind doua metode: CountVectorizer si TfidfVectorizer(ce se bazeaza atat CountVectorizer, dar si pe TfidfTransformer ce atribuie fiecarui cuvant o importanta invers proportionala cu frecventa pe care o are in textul dat.)\n",
        "\n",
        "* Am transformat in vectori matricele reiesite din CountVectorizer si TfidfVectorizer pentru a le putea folosi pentru antrenare."
      ]
    },
    {
      "metadata": {
        "id": "lA4LpUbjFmBi",
        "colab_type": "code",
        "colab": {}
      },
      "cell_type": "code",
      "source": [
        "text_fragments = dataset"
      ],
      "execution_count": 0,
      "outputs": []
    },
    {
      "metadata": {
        "id": "fknAkYnmZT1v",
        "colab_type": "text"
      },
      "cell_type": "markdown",
      "source": [
        "### CountVectorizer "
      ]
    },
    {
      "metadata": {
        "id": "1Ia-4o9j9OCe",
        "colab_type": "code",
        "colab": {}
      },
      "cell_type": "code",
      "source": [
        "vectorizer = CountVectorizer()\n",
        "text_fragments_count = vectorizer.fit_transform(text_fragments)\n"
      ],
      "execution_count": 0,
      "outputs": []
    },
    {
      "metadata": {
        "id": "Pd7uw2wz_rZ7",
        "colab_type": "code",
        "outputId": "c044dffc-dfc9-450a-a2bf-a1d5326af116",
        "colab": {
          "base_uri": "https://localhost:8080/",
          "height": 34
        }
      },
      "cell_type": "code",
      "source": [
        "X_count = text_fragments_count.toarray()\n",
        "y_count = authors_encodings\n",
        "\n",
        "print (X_count.shape)"
      ],
      "execution_count": 45,
      "outputs": [
        {
          "output_type": "stream",
          "text": [
            "(400, 110457)\n"
          ],
          "name": "stdout"
        }
      ]
    },
    {
      "metadata": {
        "id": "HHbdfFKXZX2c",
        "colab_type": "text"
      },
      "cell_type": "markdown",
      "source": [
        "### TfIdfVectorizer "
      ]
    },
    {
      "metadata": {
        "id": "uIcQXsDutdFf",
        "colab_type": "code",
        "colab": {}
      },
      "cell_type": "code",
      "source": [
        "vectorizer = TfidfVectorizer()\n",
        "text_fragments_Tfid = vectorizer.fit_transform(text_fragments)\n"
      ],
      "execution_count": 0,
      "outputs": []
    },
    {
      "metadata": {
        "id": "q06pJ7NWvBRJ",
        "colab_type": "code",
        "outputId": "62d27669-a08d-49b8-f8aa-addcc75933d5",
        "colab": {
          "base_uri": "https://localhost:8080/",
          "height": 34
        }
      },
      "cell_type": "code",
      "source": [
        "X_tfidf = text_fragments_Tfid.toarray()\n",
        "y_tfidf = authors_encodings\n",
        "\n",
        "print (X_tfidf.shape)"
      ],
      "execution_count": 47,
      "outputs": [
        {
          "output_type": "stream",
          "text": [
            "(400, 110457)\n"
          ],
          "name": "stdout"
        }
      ]
    },
    {
      "metadata": {
        "id": "751LaNe9tMtZ",
        "colab_type": "text"
      },
      "cell_type": "markdown",
      "source": [
        "# Task  1:  Text  Classification"
      ]
    },
    {
      "metadata": {
        "id": "bUEYGiJVmRZf",
        "colab_type": "text"
      },
      "cell_type": "markdown",
      "source": [
        "Pentru acest prim task vom antrena folosind SVC si vom cauta cei mai buni parametri din punctul de vedere al acuratetii modelului folosind GridSearch. Parametri pe care ii vom varia sunt: \n",
        "* kernel: linear, rbf\n",
        "* C: 1, 10 \n",
        "* gamma: 1, 10 \n",
        "\n",
        "Atat pentru setul de date pe care il avem cu Count Vectorizer, dar si pentru cel pe care l-am obtinut cu TfidfVectorizer, vom imparti datele in set de antrenare si set de testare, vom rula GridSearch pentru cel de antrenare, iar la finala vom compara scorurile de acuratete. \n",
        "\n",
        "Apoi, pentru a vizualiza mai bine rezultatele, vom adauga doua matrice de confuzie pentru a vedea ce autori sunt cel mai frecvent gresit clasificati. \n"
      ]
    },
    {
      "metadata": {
        "id": "tHjkKUd4d5uW",
        "colab_type": "text"
      },
      "cell_type": "markdown",
      "source": [
        "## CountVectorizer"
      ]
    },
    {
      "metadata": {
        "id": "dEKlYhiUd6C1",
        "colab_type": "code",
        "colab": {}
      },
      "cell_type": "code",
      "source": [
        "parameters = {'kernel':('linear', 'rbf'), 'C':[1, 10], 'gamma':[1,10]}"
      ],
      "execution_count": 0,
      "outputs": []
    },
    {
      "metadata": {
        "id": "588mZd5stkyH",
        "colab_type": "code",
        "outputId": "c6e1d88a-20ee-4d93-ce22-0b48f9d18619",
        "colab": {
          "base_uri": "https://localhost:8080/",
          "height": 204
        }
      },
      "cell_type": "code",
      "source": [
        "svc = SVC()\n",
        "\n",
        "X_train, X_test, y_train, y_test = train_test_split(X_count, y_count, test_size = 0.3)\n",
        "\n",
        "classifier = GridSearchCV(svc, parameters, return_train_score=True, verbose=True)\n",
        "classifier.fit(X_train, y_train)\n"
      ],
      "execution_count": 0,
      "outputs": [
        {
          "output_type": "stream",
          "text": [
            "Fitting 3 folds for each of 8 candidates, totalling 24 fits\n"
          ],
          "name": "stdout"
        },
        {
          "output_type": "stream",
          "text": [
            "[Parallel(n_jobs=1)]: Done  24 out of  24 | elapsed:  8.7min finished\n"
          ],
          "name": "stderr"
        },
        {
          "output_type": "execute_result",
          "data": {
            "text/plain": [
              "GridSearchCV(cv=None, error_score='raise',\n",
              "       estimator=SVC(C=1.0, cache_size=200, class_weight=None, coef0=0.0,\n",
              "  decision_function_shape='ovr', degree=3, gamma='auto', kernel='rbf',\n",
              "  max_iter=-1, probability=False, random_state=None, shrinking=True,\n",
              "  tol=0.001, verbose=False),\n",
              "       fit_params=None, iid=True, n_jobs=1,\n",
              "       param_grid={'kernel': ('linear', 'rbf'), 'C': [1, 10], 'gamma': [1, 10]},\n",
              "       pre_dispatch='2*n_jobs', refit=True, return_train_score=True,\n",
              "       scoring=None, verbose=True)"
            ]
          },
          "metadata": {
            "tags": []
          },
          "execution_count": 21
        }
      ]
    },
    {
      "metadata": {
        "id": "9-iHNzs1gvA0",
        "colab_type": "code",
        "outputId": "2c01b5a5-6368-40af-b258-32ac1da2608b",
        "colab": {
          "base_uri": "https://localhost:8080/",
          "height": 411
        }
      },
      "cell_type": "code",
      "source": [
        "print (classifier.cv_results_)\n",
        "print (classifier.best_score_)\n",
        "print (classifier.best_params_)"
      ],
      "execution_count": 0,
      "outputs": [
        {
          "output_type": "stream",
          "text": [
            "{'mean_fit_time': array([ 8.4527746 , 14.40457455,  8.34889555, 14.22637391,  8.22813026,\n",
            "       14.68634868,  8.57653761, 14.84918674]), 'std_fit_time': array([0.4057966 , 1.06355288, 0.45132914, 1.12647733, 0.4770465 ,\n",
            "       1.19267249, 0.34860251, 1.09117205]), 'mean_score_time': array([3.21147068, 3.51490966, 3.20005234, 3.48920679, 3.19696259,\n",
            "       3.60541852, 3.27057791, 3.64186247]), 'std_score_time': array([0.06908565, 0.1263329 , 0.09832585, 0.15588123, 0.10159803,\n",
            "       0.18608411, 0.08863987, 0.13359718]), 'param_C': masked_array(data=[1, 1, 1, 1, 10, 10, 10, 10],\n",
            "             mask=[False, False, False, False, False, False, False, False],\n",
            "       fill_value='?',\n",
            "            dtype=object), 'param_gamma': masked_array(data=[1, 1, 10, 10, 1, 1, 10, 10],\n",
            "             mask=[False, False, False, False, False, False, False, False],\n",
            "       fill_value='?',\n",
            "            dtype=object), 'param_kernel': masked_array(data=['linear', 'rbf', 'linear', 'rbf', 'linear', 'rbf',\n",
            "                   'linear', 'rbf'],\n",
            "             mask=[False, False, False, False, False, False, False, False],\n",
            "       fill_value='?',\n",
            "            dtype=object), 'params': [{'C': 1, 'gamma': 1, 'kernel': 'linear'}, {'C': 1, 'gamma': 1, 'kernel': 'rbf'}, {'C': 1, 'gamma': 10, 'kernel': 'linear'}, {'C': 1, 'gamma': 10, 'kernel': 'rbf'}, {'C': 10, 'gamma': 1, 'kernel': 'linear'}, {'C': 10, 'gamma': 1, 'kernel': 'rbf'}, {'C': 10, 'gamma': 10, 'kernel': 'linear'}, {'C': 10, 'gamma': 10, 'kernel': 'rbf'}], 'split0_test_score': array([0.91176471, 0.05882353, 0.91176471, 0.05882353, 0.91176471,\n",
            "       0.05882353, 0.91176471, 0.05882353]), 'split1_test_score': array([0.93548387, 0.06451613, 0.93548387, 0.06451613, 0.93548387,\n",
            "       0.06451613, 0.93548387, 0.06451613]), 'split2_test_score': array([0.91764706, 0.05882353, 0.91764706, 0.05882353, 0.91764706,\n",
            "       0.05882353, 0.91764706, 0.05882353]), 'mean_test_score': array([0.92142857, 0.06071429, 0.92142857, 0.06071429, 0.92142857,\n",
            "       0.06071429, 0.92142857, 0.06071429]), 'std_test_score': array([0.01019691, 0.00268111, 0.01019691, 0.00268111, 0.01019691,\n",
            "       0.00268111, 0.01019691, 0.00268111]), 'rank_test_score': array([1, 5, 1, 5, 1, 5, 1, 5], dtype=int32), 'split0_train_score': array([1., 1., 1., 1., 1., 1., 1., 1.]), 'split1_train_score': array([1., 1., 1., 1., 1., 1., 1., 1.]), 'split2_train_score': array([1., 1., 1., 1., 1., 1., 1., 1.]), 'mean_train_score': array([1., 1., 1., 1., 1., 1., 1., 1.]), 'std_train_score': array([0., 0., 0., 0., 0., 0., 0., 0.])}\n",
            "0.9214285714285714\n",
            "{'C': 1, 'gamma': 1, 'kernel': 'linear'}\n"
          ],
          "name": "stdout"
        }
      ]
    },
    {
      "metadata": {
        "id": "chSw8E3lkCCc",
        "colab_type": "code",
        "outputId": "26ed3972-30f4-4f70-ff7b-4b93db4ce097",
        "colab": {
          "base_uri": "https://localhost:8080/",
          "height": 34
        }
      },
      "cell_type": "code",
      "source": [
        "y_prezis = classifier.predict(X_test)\n",
        "print (accuracy_score(y_prezis, y_test))"
      ],
      "execution_count": 0,
      "outputs": [
        {
          "output_type": "stream",
          "text": [
            "0.9416666666666667\n"
          ],
          "name": "stdout"
        }
      ]
    },
    {
      "metadata": {
        "id": "LYD1fd2oMnZw",
        "colab_type": "code",
        "outputId": "fb89a814-923d-4b77-c93a-175733c0d824",
        "colab": {
          "base_uri": "https://localhost:8080/",
          "height": 54
        }
      },
      "cell_type": "code",
      "source": [
        "authors_dict.values()"
      ],
      "execution_count": 0,
      "outputs": [
        {
          "output_type": "execute_result",
          "data": {
            "text/plain": [
              "dict_values(['Harold Bindloss', 'Washington Irving', 'Thomas Hardy', 'Frank Richard Stockton', 'John Bunyan', 'Wilkie Collins', 'Charles Darwin', 'Herbert George Wells', 'Edward Stratemeyer', 'Zane Grey', 'Rudyard Kipling', 'Daniel Defoe', 'Andrew Lang', 'Sir Walter Scott', 'Lord Byron', 'Jack London', 'John Galsworthy', 'R M Ballantyne', 'Bret Harte', 'Charles Dickens'])"
            ]
          },
          "metadata": {
            "tags": []
          },
          "execution_count": 25
        }
      ]
    },
    {
      "metadata": {
        "id": "ODjgYUxIFtxD",
        "colab_type": "code",
        "outputId": "16a64d08-200f-423d-bc68-f73f9701ff44",
        "colab": {
          "base_uri": "https://localhost:8080/",
          "height": 391
        }
      },
      "cell_type": "code",
      "source": [
        "confusionMatrixClassification = confusion_matrix(y_prezis, y_test);\n",
        "plt.title(\"Confusion matrix classification CountVectorizer\");\n",
        "sns.heatmap(confusionMatrixClassification, annot=True, xticklabels=list(authors_dict.values()), yticklabels=list(authors_dict.values()))"
      ],
      "execution_count": 0,
      "outputs": [
        {
          "output_type": "execute_result",
          "data": {
            "text/plain": [
              "<matplotlib.axes._subplots.AxesSubplot at 0x7f7d5a2389e8>"
            ]
          },
          "metadata": {
            "tags": []
          },
          "execution_count": 26
        },
        {
          "output_type": "display_data",
          "data": {
            "image/png": "[encoded data removed]",
            "text/plain": [
              "<matplotlib.figure.Figure at 0x7f7d5a2473c8>"
            ]
          },
          "metadata": {
            "tags": []
          }
        }
      ]
    },
    {
      "metadata": {
        "id": "k2WNqAqAd-Kw",
        "colab_type": "text"
      },
      "cell_type": "markdown",
      "source": [
        "## TfidfVectorizer\n"
      ]
    },
    {
      "metadata": {
        "id": "rFu1rDemeAEv",
        "colab_type": "code",
        "outputId": "81da10b2-df62-48aa-e1be-3aaf4b16e35b",
        "colab": {
          "base_uri": "https://localhost:8080/",
          "height": 204
        }
      },
      "cell_type": "code",
      "source": [
        "svc = SVC()\n",
        "\n",
        "X_train, X_test, y_train, y_test = train_test_split(X_tfidf, y_tfidf, test_size = 0.3)\n",
        "\n",
        "classifier = GridSearchCV(svc, parameters, return_train_score=True, verbose=True)\n",
        "classifier.fit(X_train, y_train)\n"
      ],
      "execution_count": 0,
      "outputs": [
        {
          "output_type": "stream",
          "text": [
            "Fitting 3 folds for each of 8 candidates, totalling 24 fits\n"
          ],
          "name": "stdout"
        },
        {
          "output_type": "stream",
          "text": [
            "[Parallel(n_jobs=1)]: Done  24 out of  24 | elapsed:  9.3min finished\n"
          ],
          "name": "stderr"
        },
        {
          "output_type": "execute_result",
          "data": {
            "text/plain": [
              "GridSearchCV(cv=None, error_score='raise',\n",
              "       estimator=SVC(C=1.0, cache_size=200, class_weight=None, coef0=0.0,\n",
              "  decision_function_shape='ovr', degree=3, gamma='auto', kernel='rbf',\n",
              "  max_iter=-1, probability=False, random_state=None, shrinking=True,\n",
              "  tol=0.001, verbose=False),\n",
              "       fit_params=None, iid=True, n_jobs=1,\n",
              "       param_grid={'kernel': ('linear', 'rbf'), 'C': [1, 10], 'gamma': [1, 10]},\n",
              "       pre_dispatch='2*n_jobs', refit=True, return_train_score=True,\n",
              "       scoring=None, verbose=True)"
            ]
          },
          "metadata": {
            "tags": []
          },
          "execution_count": 27
        }
      ]
    },
    {
      "metadata": {
        "id": "C_jSichvn5TZ",
        "colab_type": "code",
        "outputId": "e02f3378-bdf3-4de5-c5e0-73d11c65b3d7",
        "colab": {
          "base_uri": "https://localhost:8080/",
          "height": 496
        }
      },
      "cell_type": "code",
      "source": [
        "print (classifier.cv_results_)\n",
        "print (classifier.best_score_)\n",
        "print (classifier.best_params_)"
      ],
      "execution_count": 0,
      "outputs": [
        {
          "output_type": "stream",
          "text": [
            "{'mean_fit_time': array([13.23846777, 13.83802334, 12.83268563, 13.94211284, 11.84030342,\n",
            "       13.14511847, 12.11152156, 14.13661639]), 'std_fit_time': array([0.62597831, 0.4149515 , 0.70315257, 0.72151124, 0.45569687,\n",
            "       0.73625202, 0.49682877, 0.58593387]), 'mean_score_time': array([3.42568731, 3.48223265, 3.40034   , 3.52162321, 3.2700301 ,\n",
            "       3.38307428, 3.32331975, 3.41175961]), 'std_score_time': array([0.10304053, 0.08499597, 0.06867087, 0.13109085, 0.09169497,\n",
            "       0.10792613, 0.09498461, 0.12128985]), 'param_C': masked_array(data=[1, 1, 1, 1, 10, 10, 10, 10],\n",
            "             mask=[False, False, False, False, False, False, False, False],\n",
            "       fill_value='?',\n",
            "            dtype=object), 'param_gamma': masked_array(data=[1, 1, 10, 10, 1, 1, 10, 10],\n",
            "             mask=[False, False, False, False, False, False, False, False],\n",
            "       fill_value='?',\n",
            "            dtype=object), 'param_kernel': masked_array(data=['linear', 'rbf', 'linear', 'rbf', 'linear', 'rbf',\n",
            "                   'linear', 'rbf'],\n",
            "             mask=[False, False, False, False, False, False, False, False],\n",
            "       fill_value='?',\n",
            "            dtype=object), 'params': [{'C': 1, 'gamma': 1, 'kernel': 'linear'}, {'C': 1, 'gamma': 1, 'kernel': 'rbf'}, {'C': 1, 'gamma': 10, 'kernel': 'linear'}, {'C': 1, 'gamma': 10, 'kernel': 'rbf'}, {'C': 10, 'gamma': 1, 'kernel': 'linear'}, {'C': 10, 'gamma': 1, 'kernel': 'rbf'}, {'C': 10, 'gamma': 10, 'kernel': 'linear'}, {'C': 10, 'gamma': 10, 'kernel': 'rbf'}], 'split0_test_score': array([0.19191919, 0.41414141, 0.19191919, 0.75757576, 0.92929293,\n",
            "       0.93939394, 0.92929293, 0.75757576]), 'split1_test_score': array([0.25531915, 0.39361702, 0.25531915, 0.73404255, 0.91489362,\n",
            "       0.90425532, 0.91489362, 0.76595745]), 'split2_test_score': array([0.20689655, 0.42528736, 0.20689655, 0.81609195, 0.94252874,\n",
            "       0.94252874, 0.94252874, 0.82758621]), 'mean_test_score': array([0.21785714, 0.41071429, 0.21785714, 0.76785714, 0.92857143,\n",
            "       0.92857143, 0.92857143, 0.78214286]), 'std_test_score': array([0.0273193 , 0.0129721 , 0.0273193 , 0.03382523, 0.01111393,\n",
            "       0.01733322, 0.01111393, 0.03070826]), 'rank_test_score': array([7, 6, 7, 5, 1, 1, 1, 4], dtype=int32), 'split0_train_score': array([0.20994475, 0.58563536, 0.20994475, 0.99447514, 0.98895028,\n",
            "       1.        , 0.98895028, 1.        ]), 'split1_train_score': array([0.33870968, 0.51612903, 0.33870968, 1.        , 0.99462366,\n",
            "       1.        , 0.99462366, 1.        ]), 'split2_train_score': array([0.2746114 , 0.57512953, 0.2746114 , 1.        , 0.99481865,\n",
            "       1.        , 0.99481865, 1.        ]), 'mean_train_score': array([0.27442194, 0.55896464, 0.27442194, 0.99815838, 0.99279753,\n",
            "       1.        , 0.99279753, 1.        ]), 'std_train_score': array([0.05256823, 0.0305915 , 0.05256823, 0.00260444, 0.00272158,\n",
            "       0.        , 0.00272158, 0.        ])}\n",
            "0.9285714285714286\n",
            "{'C': 10, 'gamma': 1, 'kernel': 'linear'}\n"
          ],
          "name": "stdout"
        }
      ]
    },
    {
      "metadata": {
        "id": "i1JzckKen03l",
        "colab_type": "code",
        "outputId": "5d0be330-8aff-4f46-f78a-b32d1617a287",
        "colab": {
          "base_uri": "https://localhost:8080/",
          "height": 34
        }
      },
      "cell_type": "code",
      "source": [
        "y_prezis = classifier.predict(X_test)\n",
        "print (accuracy_score(y_prezis, y_test))"
      ],
      "execution_count": 0,
      "outputs": [
        {
          "output_type": "stream",
          "text": [
            "0.95\n"
          ],
          "name": "stdout"
        }
      ]
    },
    {
      "metadata": {
        "id": "CIa4lr3oFvQ9",
        "colab_type": "code",
        "outputId": "0835e43f-9d82-483b-f245-4ce92c7b339e",
        "colab": {
          "base_uri": "https://localhost:8080/",
          "height": 391
        }
      },
      "cell_type": "code",
      "source": [
        "confusionMatrixClassification = confusion_matrix(y_prezis, y_test);\n",
        "plt.title(\"Confusion matrix classification TfidfVectorizer\");\n",
        "sns.heatmap(confusionMatrixClassification, annot=True, xticklabels=list(authors_dict.values()), yticklabels=list(authors_dict.values()))"
      ],
      "execution_count": 0,
      "outputs": [
        {
          "output_type": "execute_result",
          "data": {
            "text/plain": [
              "<matplotlib.axes._subplots.AxesSubplot at 0x7f7cf4d494e0>"
            ]
          },
          "metadata": {
            "tags": []
          },
          "execution_count": 30
        },
        {
          "output_type": "display_data",
          "data": {
            "image/png": "[encoded data removed]",
            "text/plain": [
              "<matplotlib.figure.Figure at 0x7f7d598ac898>"
            ]
          },
          "metadata": {
            "tags": []
          }
        }
      ]
    },
    {
      "metadata": {
        "id": "OLjHqutroJvE",
        "colab_type": "text"
      },
      "cell_type": "markdown",
      "source": [
        "## PCA "
      ]
    },
    {
      "metadata": {
        "id": "T30e_CpYrPZM",
        "colab_type": "text"
      },
      "cell_type": "markdown",
      "source": [
        "Putem reduce dimensiunea vectorilor folosind PCA, atat pentru setul de date cu CountVectorizer, cat si pentru cel cu TfidfVectorizer. Impartim din nou in multime de antrenare si multime de testare, reantrenam si cautam din nou cei mai buni parametri. "
      ]
    },
    {
      "metadata": {
        "id": "hvMPyWYfo1C6",
        "colab_type": "text"
      },
      "cell_type": "markdown",
      "source": [
        "### CountVectorizer"
      ]
    },
    {
      "metadata": {
        "id": "-FeOgkwFoJXi",
        "colab_type": "code",
        "colab": {}
      },
      "cell_type": "code",
      "source": [
        "pca = PCA()\n",
        "X_count_pca= pca.fit_transform(X_count)"
      ],
      "execution_count": 0,
      "outputs": []
    },
    {
      "metadata": {
        "id": "FyE65j0IpUHf",
        "colab_type": "code",
        "outputId": "9a389dce-370a-45ea-b357-1782a9596e26",
        "colab": {
          "base_uri": "https://localhost:8080/",
          "height": 204
        }
      },
      "cell_type": "code",
      "source": [
        "svc = SVC()\n",
        "\n",
        "X_train, X_test, y_train, y_test = train_test_split(X_count_pca, y_count, test_size = 0.3)\n",
        "\n",
        "classifier = GridSearchCV(svc, parameters, return_train_score=True, verbose=True)\n",
        "classifier.fit(X_train, y_train)\n"
      ],
      "execution_count": 0,
      "outputs": [
        {
          "output_type": "stream",
          "text": [
            "Fitting 3 folds for each of 8 candidates, totalling 24 fits\n"
          ],
          "name": "stdout"
        },
        {
          "output_type": "stream",
          "text": [
            "[Parallel(n_jobs=1)]: Done  24 out of  24 | elapsed:    1.8s finished\n"
          ],
          "name": "stderr"
        },
        {
          "output_type": "execute_result",
          "data": {
            "text/plain": [
              "GridSearchCV(cv=None, error_score='raise',\n",
              "       estimator=SVC(C=1.0, cache_size=200, class_weight=None, coef0=0.0,\n",
              "  decision_function_shape='ovr', degree=3, gamma='auto', kernel='rbf',\n",
              "  max_iter=-1, probability=False, random_state=None, shrinking=True,\n",
              "  tol=0.001, verbose=False),\n",
              "       fit_params=None, iid=True, n_jobs=1,\n",
              "       param_grid={'kernel': ('linear', 'rbf'), 'C': [1, 10], 'gamma': [1, 10]},\n",
              "       pre_dispatch='2*n_jobs', refit=True, return_train_score=True,\n",
              "       scoring=None, verbose=True)"
            ]
          },
          "metadata": {
            "tags": []
          },
          "execution_count": 32
        }
      ]
    },
    {
      "metadata": {
        "id": "9308jACopYoc",
        "colab_type": "code",
        "outputId": "fc739075-0945-4f61-8c2a-94ba88c5ff50",
        "colab": {
          "base_uri": "https://localhost:8080/",
          "height": 394
        }
      },
      "cell_type": "code",
      "source": [
        "print (classifier.cv_results_)\n",
        "print (classifier.best_score_)\n",
        "print (classifier.best_params_)"
      ],
      "execution_count": 0,
      "outputs": [
        {
          "output_type": "stream",
          "text": [
            "{'mean_fit_time': array([0.02982744, 0.05113467, 0.03005711, 0.05090078, 0.03002628,\n",
            "       0.05094798, 0.02990158, 0.05123973]), 'std_fit_time': array([0.00044972, 0.00200345, 0.00020043, 0.00240465, 0.00054434,\n",
            "       0.00295073, 0.00050638, 0.00211944]), 'mean_score_time': array([0.01062934, 0.01228452, 0.01060049, 0.01182032, 0.010475  ,\n",
            "       0.01207892, 0.01092275, 0.01197823]), 'std_score_time': array([0.0004495 , 0.00024078, 0.00042571, 0.00030141, 0.00030134,\n",
            "       0.00030762, 0.00012759, 0.00048146]), 'param_C': masked_array(data=[1, 1, 1, 1, 10, 10, 10, 10],\n",
            "             mask=[False, False, False, False, False, False, False, False],\n",
            "       fill_value='?',\n",
            "            dtype=object), 'param_gamma': masked_array(data=[1, 1, 10, 10, 1, 1, 10, 10],\n",
            "             mask=[False, False, False, False, False, False, False, False],\n",
            "       fill_value='?',\n",
            "            dtype=object), 'param_kernel': masked_array(data=['linear', 'rbf', 'linear', 'rbf', 'linear', 'rbf',\n",
            "                   'linear', 'rbf'],\n",
            "             mask=[False, False, False, False, False, False, False, False],\n",
            "       fill_value='?',\n",
            "            dtype=object), 'params': [{'C': 1, 'gamma': 1, 'kernel': 'linear'}, {'C': 1, 'gamma': 1, 'kernel': 'rbf'}, {'C': 1, 'gamma': 10, 'kernel': 'linear'}, {'C': 1, 'gamma': 10, 'kernel': 'rbf'}, {'C': 10, 'gamma': 1, 'kernel': 'linear'}, {'C': 10, 'gamma': 1, 'kernel': 'rbf'}, {'C': 10, 'gamma': 10, 'kernel': 'linear'}, {'C': 10, 'gamma': 10, 'kernel': 'rbf'}], 'split0_test_score': array([0.92, 0.06, 0.92, 0.06, 0.92, 0.06, 0.92, 0.06]), 'split1_test_score': array([0.92391304, 0.06521739, 0.92391304, 0.06521739, 0.92391304,\n",
            "       0.06521739, 0.92391304, 0.06521739]), 'split2_test_score': array([0.93181818, 0.05681818, 0.93181818, 0.05681818, 0.93181818,\n",
            "       0.05681818, 0.93181818, 0.05681818]), 'mean_test_score': array([0.925     , 0.06071429, 0.925     , 0.06071429, 0.925     ,\n",
            "       0.06071429, 0.925     , 0.06071429]), 'std_test_score': array([0.00489154, 0.00340818, 0.00489154, 0.00340818, 0.00489154,\n",
            "       0.00340818, 0.00489154, 0.00340818]), 'rank_test_score': array([1, 5, 1, 5, 1, 5, 1, 5], dtype=int32), 'split0_train_score': array([1., 1., 1., 1., 1., 1., 1., 1.]), 'split1_train_score': array([1., 1., 1., 1., 1., 1., 1., 1.]), 'split2_train_score': array([1., 1., 1., 1., 1., 1., 1., 1.]), 'mean_train_score': array([1., 1., 1., 1., 1., 1., 1., 1.]), 'std_train_score': array([0., 0., 0., 0., 0., 0., 0., 0.])}\n",
            "0.925\n",
            "{'C': 1, 'gamma': 1, 'kernel': 'linear'}\n"
          ],
          "name": "stdout"
        }
      ]
    },
    {
      "metadata": {
        "id": "rXN8qMQWpZ87",
        "colab_type": "code",
        "outputId": "5495f206-99f5-4956-ef11-5a2722a3504e",
        "colab": {
          "base_uri": "https://localhost:8080/",
          "height": 34
        }
      },
      "cell_type": "code",
      "source": [
        "y_prezis = classifier.predict(X_test)\n",
        "print (accuracy_score(y_prezis, y_test))"
      ],
      "execution_count": 0,
      "outputs": [
        {
          "output_type": "stream",
          "text": [
            "0.925\n"
          ],
          "name": "stdout"
        }
      ]
    },
    {
      "metadata": {
        "id": "xizaWVAdCOHz",
        "colab_type": "code",
        "outputId": "bfff5ec0-f273-4997-f3dd-7837b9f8faaf",
        "colab": {
          "base_uri": "https://localhost:8080/",
          "height": 391
        }
      },
      "cell_type": "code",
      "source": [
        "confusionMatrixClassification = confusion_matrix(y_prezis, y_test);\n",
        "plt.title(\"Confusion matrix classification CountVectorizer with PCA\");\n",
        "sns.heatmap(confusionMatrixClassification, annot=True, xticklabels=list(authors_dict.values()), yticklabels=list(authors_dict.values()))"
      ],
      "execution_count": 0,
      "outputs": [
        {
          "output_type": "execute_result",
          "data": {
            "text/plain": [
              "<matplotlib.axes._subplots.AxesSubplot at 0x7f7ce94d9358>"
            ]
          },
          "metadata": {
            "tags": []
          },
          "execution_count": 35
        },
        {
          "output_type": "display_data",
          "data": {
            "image/png": "[encoded data removed]",
            "text/plain": [
              "<matplotlib.figure.Figure at 0x7f7ce94e7048>"
            ]
          },
          "metadata": {
            "tags": []
          }
        }
      ]
    },
    {
      "metadata": {
        "id": "xCHJRH8Fo5Sf",
        "colab_type": "text"
      },
      "cell_type": "markdown",
      "source": [
        "### TfidfVectorizer"
      ]
    },
    {
      "metadata": {
        "id": "fYJKgZSDo4Tl",
        "colab_type": "code",
        "colab": {}
      },
      "cell_type": "code",
      "source": [
        "pca = PCA()\n",
        "X_tfidf_pca= pca.fit_transform(X_tfidf)"
      ],
      "execution_count": 0,
      "outputs": []
    },
    {
      "metadata": {
        "id": "9O5p06D5pVJK",
        "colab_type": "code",
        "outputId": "a8b40ef5-334e-4ada-80e6-918cfb843a93",
        "colab": {
          "base_uri": "https://localhost:8080/",
          "height": 204
        }
      },
      "cell_type": "code",
      "source": [
        "svc = SVC()\n",
        "\n",
        "X_train, X_test, y_train, y_test = train_test_split(X_tfidf_pca, y_tfidf, test_size = 0.3)\n",
        "\n",
        "classifier = GridSearchCV(svc, parameters, return_train_score=True, verbose=True)\n",
        "classifier.fit(X_train, y_train)\n"
      ],
      "execution_count": 0,
      "outputs": [
        {
          "output_type": "stream",
          "text": [
            "Fitting 3 folds for each of 8 candidates, totalling 24 fits\n"
          ],
          "name": "stdout"
        },
        {
          "output_type": "stream",
          "text": [
            "[Parallel(n_jobs=1)]: Done  24 out of  24 | elapsed:    2.0s finished\n"
          ],
          "name": "stderr"
        },
        {
          "output_type": "execute_result",
          "data": {
            "text/plain": [
              "GridSearchCV(cv=None, error_score='raise',\n",
              "       estimator=SVC(C=1.0, cache_size=200, class_weight=None, coef0=0.0,\n",
              "  decision_function_shape='ovr', degree=3, gamma='auto', kernel='rbf',\n",
              "  max_iter=-1, probability=False, random_state=None, shrinking=True,\n",
              "  tol=0.001, verbose=False),\n",
              "       fit_params=None, iid=True, n_jobs=1,\n",
              "       param_grid={'kernel': ('linear', 'rbf'), 'C': [1, 10], 'gamma': [1, 10]},\n",
              "       pre_dispatch='2*n_jobs', refit=True, return_train_score=True,\n",
              "       scoring=None, verbose=True)"
            ]
          },
          "metadata": {
            "tags": []
          },
          "execution_count": 37
        }
      ]
    },
    {
      "metadata": {
        "id": "wg1cfJpNpbOU",
        "colab_type": "code",
        "outputId": "87a5db05-facc-44e1-8d31-f0dec356bfec",
        "colab": {
          "base_uri": "https://localhost:8080/",
          "height": 496
        }
      },
      "cell_type": "code",
      "source": [
        "print (classifier.cv_results_)\n",
        "print (classifier.best_score_)\n",
        "print (classifier.best_params_)"
      ],
      "execution_count": 0,
      "outputs": [
        {
          "output_type": "stream",
          "text": [
            "{'mean_fit_time': array([0.04519526, 0.05433353, 0.04542581, 0.05306864, 0.04379026,\n",
            "       0.05013378, 0.04179756, 0.05223314]), 'std_fit_time': array([0.00279939, 0.00512812, 0.00291416, 0.00185609, 0.00187369,\n",
            "       0.00243475, 0.00175709, 0.00213336]), 'mean_score_time': array([0.01152436, 0.01460497, 0.01133243, 0.01229938, 0.01103417,\n",
            "       0.01166709, 0.01114074, 0.01208671]), 'std_score_time': array([0.0001396 , 0.00116281, 0.00030984, 0.00049757, 0.00012931,\n",
            "       0.00022759, 0.00019208, 0.00034148]), 'param_C': masked_array(data=[1, 1, 1, 1, 10, 10, 10, 10],\n",
            "             mask=[False, False, False, False, False, False, False, False],\n",
            "       fill_value='?',\n",
            "            dtype=object), 'param_gamma': masked_array(data=[1, 1, 10, 10, 1, 1, 10, 10],\n",
            "             mask=[False, False, False, False, False, False, False, False],\n",
            "       fill_value='?',\n",
            "            dtype=object), 'param_kernel': masked_array(data=['linear', 'rbf', 'linear', 'rbf', 'linear', 'rbf',\n",
            "                   'linear', 'rbf'],\n",
            "             mask=[False, False, False, False, False, False, False, False],\n",
            "       fill_value='?',\n",
            "            dtype=object), 'params': [{'C': 1, 'gamma': 1, 'kernel': 'linear'}, {'C': 1, 'gamma': 1, 'kernel': 'rbf'}, {'C': 1, 'gamma': 10, 'kernel': 'linear'}, {'C': 1, 'gamma': 10, 'kernel': 'rbf'}, {'C': 10, 'gamma': 1, 'kernel': 'linear'}, {'C': 10, 'gamma': 1, 'kernel': 'rbf'}, {'C': 10, 'gamma': 10, 'kernel': 'linear'}, {'C': 10, 'gamma': 10, 'kernel': 'rbf'}], 'split0_test_score': array([0.12121212, 0.37373737, 0.12121212, 0.81818182, 0.94949495,\n",
            "       0.96969697, 0.94949495, 0.86868687]), 'split1_test_score': array([0.12765957, 0.30851064, 0.12765957, 0.82978723, 0.92553191,\n",
            "       0.93617021, 0.92553191, 0.82978723]), 'split2_test_score': array([0.14942529, 0.42528736, 0.14942529, 0.8045977 , 0.91954023,\n",
            "       0.93103448, 0.91954023, 0.81609195]), 'mean_test_score': array([0.13214286, 0.36785714, 0.13214286, 0.81785714, 0.93214286,\n",
            "       0.94642857, 0.93214286, 0.83928571]), 'std_test_score': array([0.01190789, 0.04711073, 0.01190789, 0.01012156, 0.01305682,\n",
            "       0.01733179, 0.01305682, 0.02242932]), 'rank_test_score': array([7, 6, 7, 5, 2, 1, 2, 4], dtype=int32), 'split0_train_score': array([0.19337017, 0.50276243, 0.19337017, 0.99447514, 0.98895028,\n",
            "       1.        , 0.98895028, 1.        ]), 'split1_train_score': array([0.21505376, 0.45698925, 0.21505376, 1.        , 0.99462366,\n",
            "       1.        , 0.99462366, 1.        ]), 'split2_train_score': array([0.21761658, 0.49222798, 0.21761658, 1.        , 0.99481865,\n",
            "       1.        , 0.99481865, 1.        ]), 'mean_train_score': array([0.20868017, 0.48399322, 0.20868017, 0.99815838, 0.99279753,\n",
            "       1.        , 0.99279753, 1.        ]), 'std_train_score': array([0.01087625, 0.01957302, 0.01087625, 0.00260444, 0.00272158,\n",
            "       0.        , 0.00272158, 0.        ])}\n",
            "0.9464285714285714\n",
            "{'C': 10, 'gamma': 1, 'kernel': 'rbf'}\n"
          ],
          "name": "stdout"
        }
      ]
    },
    {
      "metadata": {
        "id": "rXM3D-yspcJG",
        "colab_type": "code",
        "outputId": "4dd808e7-74f9-4cb4-9b1f-2935a1c045e2",
        "colab": {
          "base_uri": "https://localhost:8080/",
          "height": 34
        }
      },
      "cell_type": "code",
      "source": [
        "y_prezis = classifier.predict(X_test)\n",
        "print (accuracy_score(y_prezis, y_test))"
      ],
      "execution_count": 0,
      "outputs": [
        {
          "output_type": "stream",
          "text": [
            "0.9833333333333333\n"
          ],
          "name": "stdout"
        }
      ]
    },
    {
      "metadata": {
        "id": "amaVAhRHGpxr",
        "colab_type": "code",
        "outputId": "a40c636a-1694-488f-d08b-cf5cd6489d57",
        "colab": {
          "base_uri": "https://localhost:8080/",
          "height": 391
        }
      },
      "cell_type": "code",
      "source": [
        "confusionMatrixClassification = confusion_matrix(y_prezis, y_test);\n",
        "plt.title(\"Confusion matrix classification TfidfVectorizer with PCA\");\n",
        "sns.heatmap(confusionMatrixClassification, annot=True, xticklabels=list(authors_dict.values()), yticklabels=list(authors_dict.values()))"
      ],
      "execution_count": 0,
      "outputs": [
        {
          "output_type": "execute_result",
          "data": {
            "text/plain": [
              "<matplotlib.axes._subplots.AxesSubplot at 0x7f7ce5eef9e8>"
            ]
          },
          "metadata": {
            "tags": []
          },
          "execution_count": 40
        },
        {
          "output_type": "display_data",
          "data": {
            "image/png": "[encoded data removed]",
            "text/plain": [
              "<matplotlib.figure.Figure at 0x7f7ce94e72b0>"
            ]
          },
          "metadata": {
            "tags": []
          }
        }
      ]
    },
    {
      "metadata": {
        "id": "yyPIr-RTtv4R",
        "colab_type": "text"
      },
      "cell_type": "markdown",
      "source": [
        "Antrenarea dupa ce am folosit PCA a durat semnificativ mai putin timp, dar rezultatele obtinute din punctul de vedere al acuratetii sunt similare ca atunci cand nu erau reduse dimensiunile vectorilor. "
      ]
    },
    {
      "metadata": {
        "id": "piKdOq9_rKxH",
        "colab_type": "text"
      },
      "cell_type": "markdown",
      "source": [
        "In concluzie, in urma celor 4 seturi de date folosite am ajuns la urmatoarele rezultate:\n",
        "* Set de date cu CountVectorizer\n",
        "      1) Cei mai buni parametri GridSearch: {'C': 1, 'gamma': 1, 'kernel': 'linear'}\n",
        "      2) Cel mai bun scor GridSearch: 0.921\n",
        "      3) Acuratete set de test: 0.941\n",
        "      4) Numar de exemple gresit clasificate: 7\n",
        "* Set de date cu TfidfVectorizer\n",
        "      1) Cei mai buni parametri GridSearch: {'C': 10, 'gamma': 1, 'kernel': 'linear'}\n",
        "      2) Cel mai bun scor GridSearch: 0.928\n",
        "      3) Acuratete set de test: 0.95\n",
        "      4) Numar de exemple gresit clasificate: 6\n",
        "* Set de date cu CountVectorizer si PCA\n",
        "      1) Cei mai buni parametri GridSearch: {'C': 1, 'gamma': 1, 'kernel': 'linear'}\n",
        "      2) Cel mai bun scor GridSearch: 0.925\n",
        "      3) Acuratete set de test: 0.925\n",
        "      4) Numar de exemple gresit clasificate: 9\n",
        "* Set de date cu TfidfVectorizer si PCA\n",
        "      1) Cei mai buni parametri GridSearch: {'C': 10, 'gamma': 1, 'kernel': 'rbf'}\n",
        "      2) Cel mai bun scor GridSearch: 0.946\n",
        "      3) Acuratete set de test: 0.983\n",
        "      4) Numar de exemple gresit clasificate: 2"
      ]
    },
    {
      "metadata": {
        "id": "pj-BRvrYtdMs",
        "colab_type": "text"
      },
      "cell_type": "markdown",
      "source": [
        "# Task 2: Text Clustering\n",
        "\n"
      ]
    },
    {
      "metadata": {
        "id": "rpZqmM60rEWA",
        "colab_type": "text"
      },
      "cell_type": "markdown",
      "source": [
        "Pentru acest prim task vom incerca sa gasim cea mai buna impartite in clustere pentru cele 20 de clase pe care le avem folosind KMeans, AgglomerativeClustering si DBSCAN. \n",
        "\n",
        "Vom analiza din noua cele patru seturi de date pe care le avem (datasetul cu CountVectorizer, cu TfidfVectorizer, dar si fiecare dintre ele dupa PCA). \n",
        "\n",
        "Ulterior, pentru a vizualiza clusterele - vom reduce dimensiunea la 2D si vom plota puncte corespunzatoare fiecarui text al fiecarui autor in parte. "
      ]
    },
    {
      "metadata": {
        "id": "eU27ArivsmzN",
        "colab_type": "text"
      },
      "cell_type": "markdown",
      "source": [
        "## CountVectorizer"
      ]
    },
    {
      "metadata": {
        "id": "vWX6q95UKtmP",
        "colab_type": "code",
        "colab": {
          "base_uri": "https://localhost:8080/",
          "height": 34
        },
        "outputId": "222b7334-4a6d-4dd0-e112-ba9620110859"
      },
      "cell_type": "code",
      "source": [
        "len(X_count)"
      ],
      "execution_count": 23,
      "outputs": [
        {
          "output_type": "execute_result",
          "data": {
            "text/plain": [
              "100"
            ]
          },
          "metadata": {
            "tags": []
          },
          "execution_count": 23
        }
      ]
    },
    {
      "metadata": {
        "id": "2cuFQj1Zsppx",
        "colab_type": "code",
        "colab": {}
      },
      "cell_type": "code",
      "source": [
        "# algorithms = [KMeans, AgglomerativeClustering]\n",
        "algorithms = [DBSCAN]\n",
        "\n",
        "for i, Algorithm in enumerate(algorithms):\n",
        "    print(Algorithm)\n",
        "    cl = Algorithm()\n",
        "    #cl.set_params(n_clusters=20)\n",
        "    \n",
        "    y_pred = cl.fit_predict(X_count);\n",
        "    \n",
        "    #ss = silhouette_score(X_count, y_pred)\n",
        "    #print(\"Silhuette score:\", ss)\n",
        "\n",
        "    ar = adjusted_rand_score(y_count, y_pred)\n",
        "    print(\"Adjusted rand score:\", ar)\n",
        "    \n",
        "    hs = homogeneity_score(y_count, y_pred)\n",
        "    print(\"Homogenity score:\", hs)\n",
        "    \n",
        "    cs = completeness_score(y_count, y_pred)\n",
        "    print(\"Completeness score:\", cs)"
      ],
      "execution_count": 0,
      "outputs": []
    },
    {
      "metadata": {
        "id": "SOhTaT3fskgG",
        "colab_type": "text"
      },
      "cell_type": "markdown",
      "source": [
        "## TfidfVectorizer"
      ]
    },
    {
      "metadata": {
        "id": "WiTgWEmVtj-k",
        "colab_type": "code",
        "outputId": "1c289f3d-9bfd-42d6-b864-1a17df05f5db",
        "colab": {
          "base_uri": "https://localhost:8080/",
          "height": 85
        }
      },
      "cell_type": "code",
      "source": [
        "#algorithms = [KMeans, AgglomerativeClustering]\n",
        "algorithms = [DBSCAN]\n",
        "metrics = ['cityblock', 'cosine', 'l1', 'l2', 'manhattan']\n",
        "\n",
        "for i, Algorithm in enumerate(algorithms):\n",
        "    print(Algorithm)\n",
        "    cl = Algorithm()\n",
        "    #cl.set_params(n_clusters=20)\n",
        "    cl.set_params(metric='cosine')\n",
        "    \n",
        "    y_pred = cl.fit_predict(X_tfidf);\n",
        "    \n",
        "    #ss = silhouette_score(X_tfidf, y_pred)\n",
        "    #print(\"Silhuette score:\", ss)\n",
        "\n",
        "    ar = adjusted_rand_score(y_tfidf, y_pred)\n",
        "    print(\"Adjusted rand score:\", ar)\n",
        "    \n",
        "    hs = homogeneity_score(y_tfidf, y_pred)\n",
        "    print(\"Homogenity score:\", hs)\n",
        "    \n",
        "    cs = completeness_score(y_tfidf, y_pred)\n",
        "    print(\"Completeness score:\", cs)"
      ],
      "execution_count": 58,
      "outputs": [
        {
          "output_type": "stream",
          "text": [
            "<class 'sklearn.cluster.dbscan_.DBSCAN'>\n",
            "Adjusted rand score: 0.0\n",
            "Homogenity score: -1.8530077511032753e-16\n",
            "Completeness score: 1.0\n"
          ],
          "name": "stdout"
        }
      ]
    },
    {
      "metadata": {
        "id": "-jXkNsaOmDjV",
        "colab_type": "text"
      },
      "cell_type": "markdown",
      "source": [
        "## PCA"
      ]
    },
    {
      "metadata": {
        "id": "XjpmDtpamIxr",
        "colab_type": "text"
      },
      "cell_type": "markdown",
      "source": [
        "### CountVectorizer"
      ]
    },
    {
      "metadata": {
        "id": "Azq0RKrGmSMc",
        "colab_type": "code",
        "colab": {
          "base_uri": "https://localhost:8080/",
          "height": 187
        },
        "outputId": "bdf13307-0f27-491d-99a6-e7467a40a021"
      },
      "cell_type": "code",
      "source": [
        "algorithms = [KMeans, AgglomerativeClustering]\n",
        "# algorithms = [DBSCAN]\n",
        "\n",
        "for i, Algorithm in enumerate(algorithms):\n",
        "    print(Algorithm)\n",
        "    cl = Algorithm()\n",
        "    cl.set_params(n_clusters=20)\n",
        "    \n",
        "    y_pred = cl.fit_predict(X_count_pca);\n",
        "    \n",
        "    ss = silhouette_score(X_count_pca, y_pred)\n",
        "    print(\"Silhuette score:\", ss)\n",
        "\n",
        "    ar = adjusted_rand_score(y_count, y_pred)\n",
        "    print(\"Adjusted rand score:\", ar)\n",
        "    \n",
        "    hs = homogeneity_score(y_count, y_pred)\n",
        "    print(\"Homogenity score:\", hs)\n",
        "    \n",
        "    cs = completeness_score(y_count, y_pred)\n",
        "    print(\"Completeness score:\", cs)"
      ],
      "execution_count": 59,
      "outputs": [
        {
          "output_type": "stream",
          "text": [
            "<class 'sklearn.cluster.k_means_.KMeans'>\n",
            "Silhuette score: 0.1574988085622107\n",
            "Adjusted rand score: 0.44666353383458646\n",
            "Homogenity score: 0.6733057055832191\n",
            "Completeness score: 0.7140283971595858\n",
            "<class 'sklearn.cluster.hierarchical.AgglomerativeClustering'>\n",
            "Silhuette score: 0.14567296970932472\n",
            "Adjusted rand score: 0.5919817078616895\n",
            "Homogenity score: 0.7728125617208996\n",
            "Completeness score: 0.8020811177190355\n"
          ],
          "name": "stdout"
        }
      ]
    },
    {
      "metadata": {
        "id": "q0Cg4_lKmLI8",
        "colab_type": "text"
      },
      "cell_type": "markdown",
      "source": [
        "### TfidfVectorizer"
      ]
    },
    {
      "metadata": {
        "id": "IAmQ1PoemCpn",
        "colab_type": "code",
        "colab": {
          "base_uri": "https://localhost:8080/",
          "height": 187
        },
        "outputId": "df3fe2ef-0cde-420d-968f-56e1285db6e0"
      },
      "cell_type": "code",
      "source": [
        "algorithms = [KMeans, AgglomerativeClustering]\n",
        "# algorithms = [DBSCAN]\n",
        "\n",
        "for i, Algorithm in enumerate(algorithms):\n",
        "    print(Algorithm)\n",
        "    cl = Algorithm()\n",
        "    cl.set_params(n_clusters=20)\n",
        "    \n",
        "    y_pred = cl.fit_predict(X_tfidf_pca);\n",
        "    \n",
        "    ss = silhouette_score(X_tfidf_pca, y_pred)\n",
        "    print(\"Silhuette score:\", ss)\n",
        "\n",
        "    ar = adjusted_rand_score(y_tfidf, y_pred)\n",
        "    print(\"Adjusted rand score:\", ar)\n",
        "    \n",
        "    hs = homogeneity_score(y_tfidf, y_pred)\n",
        "    print(\"Homogenity score:\", hs)\n",
        "    \n",
        "    cs = completeness_score(y_tfidf, y_pred)\n",
        "    print(\"Completeness score:\", cs)"
      ],
      "execution_count": 60,
      "outputs": [
        {
          "output_type": "stream",
          "text": [
            "<class 'sklearn.cluster.k_means_.KMeans'>\n",
            "Silhuette score: 0.0370075594560829\n",
            "Adjusted rand score: 0.4084214296823819\n",
            "Homogenity score: 0.6285332030833216\n",
            "Completeness score: 0.7318980588798295\n",
            "<class 'sklearn.cluster.hierarchical.AgglomerativeClustering'>\n",
            "Silhuette score: 0.040469448886132436\n",
            "Adjusted rand score: 0.4146566398561131\n",
            "Homogenity score: 0.6652501283678071\n",
            "Completeness score: 0.7792252723639098\n"
          ],
          "name": "stdout"
        }
      ]
    },
    {
      "metadata": {
        "id": "UhTm6NDEzRax",
        "colab_type": "text"
      },
      "cell_type": "markdown",
      "source": [
        "In urma variantelor incercate cu cei 3 algoritmi am obtinut urmatoarele rezultate:\n",
        "\n",
        "* Set de date cu CountVectorizer:\n",
        "      1) KMeans: \n",
        "        * Silhuette score: 0.15581554046370472\n",
        "        * Adjusted rand score: 0.5004620936078031\n",
        "        * Homogenity score: 0.7021141579865764\n",
        "        * Completness score: 0.7300836432821347\n",
        "      2) AglomerativeClustering: \n",
        "        * Silhuette score: 0.14567296970932384\n",
        "        * Adjusted rand score: 0.5919817078616895\n",
        "        * Homogenity score: 0.7728125617208996\n",
        "        * Completness score: 0.8020811177190355\n",
        "      3) DBSCAN: \n",
        "        * Adjusted rand score: 0.0\n",
        "        * Homogenity score: -1.8530077511032753e-16\n",
        "        * Completness score: 1.0\n",
        "* Set de date cu TfidfVectorizer:\n",
        "      1) KMeans: \n",
        "        * Silhuette score: 0.03769535878473589\n",
        "        * Adjusted rand score: 0.32824866135562225\n",
        "        * Homogenity socre: 0.564404916762279\n",
        "        * Completness score: 0.6856411274525063 \n",
        "      2) AglomerativeClustering: \n",
        "        * Silhuette score: 0.04046944888613252\n",
        "        * Adjusted rand score: 0.4146566398561131\n",
        "        * Homogenity score: 0.6652501283678071\n",
        "        * Completness score: 0.7792252723639098\n",
        "      3) DBSCAN: \n",
        "        * Adjusted rand score:  0.0024715782671175285\n",
        "        * Homogenity score: 0.03036233220116259\n",
        "        * Completness score: 0.3781870119994985\n",
        " \n",
        " In rezultate de mai sus am folosit distanta setata implicita ('euclidean') si n_clusters=20 pentru KMeans si AglomerativeClustering. Dupa care, pentru DBSCAN folosind setul de date cu TfidfVectorizer am incercat si alte variante de distante si am obtinut urmatoarele rezultate: \n",
        "        1) 'cityblock': \n",
        "        Adjusted rand score: 0.0\n",
        "        Homogenity score: -1.8530077511032753e-16\n",
        "        Completeness score: 1.0\n",
        "        2) 'manhattan':\n",
        "        Adjusted rand score: 0.0\n",
        "        Homogenity score: -1.8530077511032753e-16\n",
        "        Completeness score: 1.0\n",
        "        3) 'cosine' \n",
        "        Adjusted rand score: 0.0\n",
        "        Homogenity score: -1.8530077511032753e-16\n",
        "        Completeness score: 1.0\n",
        " \n",
        " \n",
        " \n"
      ]
    },
    {
      "metadata": {
        "id": "8d5uep1OXooY",
        "colab_type": "text"
      },
      "cell_type": "markdown",
      "source": [
        "In concluzie, vectorii de dimensiuni mari nu produc cele mai bune clustere folosind cei trei algoritmi. Cel mai slab scor este obtinut folosind DBSCAN, intrucat atunci cand datele sunt vectorizate cu CountVectorizer obtine un scor de completness perfect, doar ca uitandu-ne la valorile prezise observam ca tot ce face este sa clasfice toate datele intr-o singura categorie - astfel, restul scorurilor fiind foarte aproape de zero. (clustere suprapuse perfect)\n",
        "\n",
        "Ulterior, am reantrenat si dupa ce am folosit PCA pentru a reduce dimensiunile setului de date, dar rezultatele nu s-au imbunatatit semnificativ. In continuare KMeans si AgglomerativeClustering reusesc sa obtine cele mai bune rezultate, dar totusi 'silhoutte score' pentru amandoua este in jurul valorii de 0.1 - 0.2 ceea ce indica o suprapunere destul de mare a clusterelor. Cu toate acestea, consider ca cel mai bun rezultat a fost obtinut pe setul de date cu CountVectorizer, folosind AgglomerativeClustering: \n",
        "\n",
        "* Silhuette score: 0.14567296970932472\n",
        "* Adjusted rand score: 0.5919817078616895\n",
        "* Homogenity score: 0.7728125617208996\n",
        "* Completeness score: 0.8020811177190355\n",
        "\n",
        "In aceasta varianta, clusterele se disting cel mai mult, iar elemente ale aceeasi clase ajung sa fie pozitionate in acelasi cluster. "
      ]
    },
    {
      "metadata": {
        "id": "oVZ10pznr_Ig",
        "colab_type": "text"
      },
      "cell_type": "markdown",
      "source": [
        "### Visualize PCA clusters"
      ]
    },
    {
      "metadata": {
        "id": "uvek7nybcv5Z",
        "colab_type": "text"
      },
      "cell_type": "markdown",
      "source": [
        "Am redus dimensiunea vectorilor la 2 pentru a ii putea plota si a observa suprapunerile ce apar intre autori. "
      ]
    },
    {
      "metadata": {
        "colab_type": "code",
        "id": "uzleX3rJ4EZ6",
        "colab": {}
      },
      "cell_type": "code",
      "source": [
        "colors = ['firebrick', 'darksalmon', 'gold', 'deepskyblue', 'navy', 'plum',\n",
        "          'palevioletred', 'chocolate', 'teal', 'cyan', 'grey', 'lightpink',\n",
        "          'hotpink', 'y', 'olive', 'cornflowerblue', 'indigo', 'r', 'peru',\n",
        "          'springgreen']"
      ],
      "execution_count": 0,
      "outputs": []
    },
    {
      "metadata": {
        "id": "kOD4ocm92IZn",
        "colab_type": "text"
      },
      "cell_type": "markdown",
      "source": [
        "CountVectorizer"
      ]
    },
    {
      "metadata": {
        "id": "4idE5s-gsJ3t",
        "colab_type": "code",
        "colab": {}
      },
      "cell_type": "code",
      "source": [
        "pca = PCA(n_components=2)\n",
        "X = pca.fit_transform(X_count)"
      ],
      "execution_count": 0,
      "outputs": []
    },
    {
      "metadata": {
        "id": "4wCVt9sYzXlc",
        "colab_type": "code",
        "outputId": "2dd5b02d-55d5-4859-cf96-adc3c3530a0b",
        "colab": {
          "base_uri": "https://localhost:8080/",
          "height": 592
        }
      },
      "cell_type": "code",
      "source": [
        "plt.figure(figsize=(10,10))\n",
        "for i in range(0 , len(colors)):\n",
        "    indices = [j for j in range(len(y_tfidf)) if y_count[j] == i]\n",
        "    plt.scatter(X[indices, 0], X[indices, 1], color=colors[i], label=authors_dict[i])\n",
        "plt.legend()\n",
        "plt.show()"
      ],
      "execution_count": 0,
      "outputs": [
        {
          "output_type": "display_data",
          "data": {
            "image/png": "[encoded data removed]",
            "text/plain": [
              "<matplotlib.figure.Figure at 0x7f0ee47236d8>"
            ]
          },
          "metadata": {
            "tags": []
          }
        }
      ]
    },
    {
      "metadata": {
        "id": "cn0faLQAc4jA",
        "colab_type": "text"
      },
      "cell_type": "markdown",
      "source": [
        "Se disting dintre autori urmatorii: \n",
        "* Charles Darwin \n",
        "* Lord Byron \n",
        "* Washington Irving \n",
        "* John Galsworthy \n",
        "* Frank Richard Stockton \n",
        "\n",
        "Exista cele mai mari suprapuneri intre urmatorii autori: \n",
        "* R M Ballantyne si John Bunyan \n",
        "* Charles Dickens, Herbert George Wells, Rudyard Kipling \n",
        "* Wilkie Collins si Jack London "
      ]
    },
    {
      "metadata": {
        "id": "Wr0ngXSx2Bq9",
        "colab_type": "text"
      },
      "cell_type": "markdown",
      "source": [
        "TfidfVectorizer"
      ]
    },
    {
      "metadata": {
        "id": "rM4QzEAzsGsX",
        "colab_type": "code",
        "outputId": "471cd3ea-cdb6-437c-89b8-d96dc6175a4b",
        "colab": {
          "base_uri": "https://localhost:8080/",
          "height": 592
        }
      },
      "cell_type": "code",
      "source": [
        "pca = PCA(n_components=2)\n",
        "X = pca.fit_transform(X_tfidf)\n",
        "\n",
        "plt.figure(figsize=(10,10))\n",
        "for i in range(0 , len(colors)):\n",
        "    indices = [j for j in range(len(y_tfidf)) if y_tfidf[j] == i]\n",
        "    plt.scatter(X[indices, 0], X[indices, 1], color=colors[i], label=authors_dict[i])\n",
        "plt.legend()\n",
        "plt.show()"
      ],
      "execution_count": 0,
      "outputs": [
        {
          "output_type": "display_data",
          "data": {
            "image/png": "[encoded data removed]",
            "text/plain": [
              "<matplotlib.figure.Figure at 0x7f0ee471c208>"
            ]
          },
          "metadata": {
            "tags": []
          }
        }
      ]
    },
    {
      "metadata": {
        "id": "OggArEUqfxZe",
        "colab_type": "text"
      },
      "cell_type": "markdown",
      "source": [
        "Se disting dintre autori urmatorii: \n",
        "* John Bunyan\n",
        "* Charles Darwin\n",
        "* Washington Irving \n",
        "* Daniel Defoe \n",
        "* Sir Walter Scott \n",
        "* John Galsworthy \n",
        "* R M Ballantyne \n",
        "\n",
        "Exista cele mai mari suprapuneri intre urmatorii autori: \n",
        "* Zane Grey, Jack London si Edward Stratemeyer \n",
        "* Wilkie Collins si Thomas Hardy "
      ]
    }
  ]
}