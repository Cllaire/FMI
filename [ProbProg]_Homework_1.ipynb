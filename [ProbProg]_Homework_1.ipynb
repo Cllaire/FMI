{
  "nbformat": 4,
  "nbformat_minor": 0,
  "metadata": {
    "colab": {
      "name": "[ProbProg] Homework 1",
      "provenance": [],
      "collapsed_sections": [],
      "toc_visible": true,
      "machine_shape": "hm",
      "include_colab_link": true
    },
    "kernelspec": {
      "name": "python3",
      "display_name": "Python 3"
    }
  },
  "cells": [
    {
      "cell_type": "markdown",
      "metadata": {
        "id": "view-in-github",
        "colab_type": "text"
      },
      "source": [
        "<a href=\"https://colab.research.google.com/github/Cllaire/FMI/blob/master/%5BProbProg%5D_Homework_1.ipynb\" target=\"_parent\"><img src=\"https://colab.research.google.com/assets/colab-badge.svg\" alt=\"Open In Colab\"/></a>"
      ]
    },
    {
      "cell_type": "code",
      "metadata": {
        "id": "CWNA1qqogi1B",
        "colab_type": "code",
        "outputId": "776eaeb9-2dfd-4e9a-8280-9e9322507104",
        "cellView": "form",
        "colab": {
          "base_uri": "https://localhost:8080/",
          "height": 219
        }
      },
      "source": [
        "#@title\n",
        "!pip install pymc"
      ],
      "execution_count": 1,
      "outputs": [
        {
          "output_type": "stream",
          "text": [
            "Collecting pymc\n",
            "\u001b[?25l  Downloading https://files.pythonhosted.org/packages/0c/1c/2eb7016284e04ccf401fdcf11b817b160629cf8cf230240ceb348311ac2e/pymc-2.3.6.tar.gz (348kB)\n",
            "\r\u001b[K     |█                               | 10kB 20.5MB/s eta 0:00:01\r\u001b[K     |█▉                              | 20kB 1.8MB/s eta 0:00:01\r\u001b[K     |██▉                             | 30kB 2.5MB/s eta 0:00:01\r\u001b[K     |███▊                            | 40kB 1.7MB/s eta 0:00:01\r\u001b[K     |████▊                           | 51kB 2.1MB/s eta 0:00:01\r\u001b[K     |█████▋                          | 61kB 2.6MB/s eta 0:00:01\r\u001b[K     |██████▋                         | 71kB 2.9MB/s eta 0:00:01\r\u001b[K     |███████▌                        | 81kB 3.3MB/s eta 0:00:01\r\u001b[K     |████████▌                       | 92kB 3.7MB/s eta 0:00:01\r\u001b[K     |█████████▍                      | 102kB 2.9MB/s eta 0:00:01\r\u001b[K     |██████████▍                     | 112kB 2.9MB/s eta 0:00:01\r\u001b[K     |███████████▎                    | 122kB 2.9MB/s eta 0:00:01\r\u001b[K     |████████████▎                   | 133kB 2.9MB/s eta 0:00:01\r\u001b[K     |█████████████▏                  | 143kB 2.9MB/s eta 0:00:01\r\u001b[K     |██████████████                  | 153kB 2.9MB/s eta 0:00:01\r\u001b[K     |███████████████                 | 163kB 2.9MB/s eta 0:00:01\r\u001b[K     |████████████████                | 174kB 2.9MB/s eta 0:00:01\r\u001b[K     |█████████████████               | 184kB 2.9MB/s eta 0:00:01\r\u001b[K     |█████████████████▉              | 194kB 2.9MB/s eta 0:00:01\r\u001b[K     |██████████████████▉             | 204kB 2.9MB/s eta 0:00:01\r\u001b[K     |███████████████████▊            | 215kB 2.9MB/s eta 0:00:01\r\u001b[K     |████████████████████▊           | 225kB 2.9MB/s eta 0:00:01\r\u001b[K     |█████████████████████▋          | 235kB 2.9MB/s eta 0:00:01\r\u001b[K     |██████████████████████▋         | 245kB 2.9MB/s eta 0:00:01\r\u001b[K     |███████████████████████▌        | 256kB 2.9MB/s eta 0:00:01\r\u001b[K     |████████████████████████▌       | 266kB 2.9MB/s eta 0:00:01\r\u001b[K     |█████████████████████████▍      | 276kB 2.9MB/s eta 0:00:01\r\u001b[K     |██████████████████████████▍     | 286kB 2.9MB/s eta 0:00:01\r\u001b[K     |███████████████████████████▎    | 296kB 2.9MB/s eta 0:00:01\r\u001b[K     |████████████████████████████▏   | 307kB 2.9MB/s eta 0:00:01\r\u001b[K     |█████████████████████████████▏  | 317kB 2.9MB/s eta 0:00:01\r\u001b[K     |██████████████████████████████  | 327kB 2.9MB/s eta 0:00:01\r\u001b[K     |███████████████████████████████ | 337kB 2.9MB/s eta 0:00:01\r\u001b[K     |████████████████████████████████| 348kB 2.9MB/s eta 0:00:01\r\u001b[K     |████████████████████████████████| 358kB 2.9MB/s \n",
            "\u001b[?25hBuilding wheels for collected packages: pymc\n",
            "  Building wheel for pymc (setup.py) ... \u001b[?25l\u001b[?25hdone\n",
            "  Created wheel for pymc: filename=pymc-2.3.6-cp36-cp36m-linux_x86_64.whl size=1272749 sha256=a0de7c8f5b985230df718d4010b5b056cff23c1176fde2e5387310b11e856473\n",
            "  Stored in directory: /root/.cache/pip/wheels/e4/6d/cf/3c408a39cf0f43e3b8abcace9758575f29c6aa860e17e9222d\n",
            "Successfully built pymc\n",
            "Installing collected packages: pymc\n",
            "Successfully installed pymc-2.3.6\n"
          ],
          "name": "stdout"
        }
      ]
    },
    {
      "cell_type": "code",
      "metadata": {
        "id": "aDuqUWsrFu5P",
        "colab_type": "code",
        "outputId": "5a0650c0-1035-4ed5-a119-3d382b3263bc",
        "cellView": "form",
        "colab": {
          "base_uri": "https://localhost:8080/",
          "height": 201
        }
      },
      "source": [
        "#@title\n",
        "!pip install stemming"
      ],
      "execution_count": 2,
      "outputs": [
        {
          "output_type": "stream",
          "text": [
            "Collecting stemming\n",
            "  Downloading https://files.pythonhosted.org/packages/d1/eb/fd53fb51b83a4e3b8e98cfec2fa9e4b99401fce5177ec346e4a5c61df71e/stemming-1.0.1.tar.gz\n",
            "Building wheels for collected packages: stemming\n",
            "  Building wheel for stemming (setup.py) ... \u001b[?25l\u001b[?25hdone\n",
            "  Created wheel for stemming: filename=stemming-1.0.1-cp36-none-any.whl size=11138 sha256=7e68f864f7d724dbbf92a3cd979d131b6591f3310193baa88cfd66514cdbd13f\n",
            "  Stored in directory: /root/.cache/pip/wheels/e8/05/2e/2ddeb64d4464b854b48323f9676528c17560da7d153db7b0e2\n",
            "Successfully built stemming\n",
            "Installing collected packages: stemming\n",
            "Successfully installed stemming-1.0.1\n"
          ],
          "name": "stdout"
        }
      ]
    },
    {
      "cell_type": "markdown",
      "metadata": {
        "id": "kVw3SFvQ0Hl2",
        "colab_type": "text"
      },
      "source": [
        "# Get all the imports!"
      ]
    },
    {
      "cell_type": "code",
      "metadata": {
        "id": "RfMEP-_MYd4H",
        "colab_type": "code",
        "colab": {}
      },
      "source": [
        "from nltk.corpus import stopwords \n",
        "from nltk.tokenize import word_tokenize \n",
        "from scipy.special import softmax\n",
        "from sklearn.datasets import make_spd_matrix\n",
        "from sklearn.metrics.pairwise import cosine_similarity\n",
        "from stemming.porter2 import stem\n",
        "\n",
        "import csv\n",
        "import matplotlib.pyplot as plt\n",
        "import nltk \n",
        "import numpy as np\n",
        "import pymc as pm\n",
        "import seaborn as sns;\n",
        "import string"
      ],
      "execution_count": 0,
      "outputs": []
    },
    {
      "cell_type": "markdown",
      "metadata": {
        "id": "ccTBsCNq0M9P",
        "colab_type": "text"
      },
      "source": [
        "# Chosen topics"
      ]
    },
    {
      "cell_type": "code",
      "metadata": {
        "id": "r_kaJPMtXdTo",
        "colab_type": "code",
        "outputId": "e4018072-d940-43e1-fa4d-e617952e5b0a",
        "cellView": "form",
        "colab": {
          "base_uri": "https://localhost:8080/",
          "height": 72
        }
      },
      "source": [
        "#@title \n",
        "nltk.download('stopwords')"
      ],
      "execution_count": 4,
      "outputs": [
        {
          "output_type": "stream",
          "text": [
            "[nltk_data] Downloading package stopwords to /root/nltk_data...\n",
            "[nltk_data]   Unzipping corpora/stopwords.zip.\n"
          ],
          "name": "stdout"
        },
        {
          "output_type": "execute_result",
          "data": {
            "text/plain": [
              "True"
            ]
          },
          "metadata": {
            "tags": []
          },
          "execution_count": 4
        }
      ]
    },
    {
      "cell_type": "markdown",
      "metadata": {
        "id": "rHiMbHqTWj84",
        "colab_type": "text"
      },
      "source": [
        "Throughout this homework, there will be present 10 different topics. Each one of them will be represented by 5 data samples. \n",
        "\n",
        "Topics are the following: \n",
        "* Astronomy\n",
        "* Biology \n",
        "* Chemistry\n",
        "* Physics\n",
        "* Philosophy\n",
        "* Economy \n",
        "* Photography \n",
        "* Geography\n",
        "* Computer Science \n",
        "* History \n",
        "\n",
        "The first 3 documents for each topic are taken from the specific Wikipedia page of each topic, while the remaining 2 documents are mostly a mix of the previous 3 articles. Since our data has such a small sample size, I wanted to increase the frequency of some specific words for each topic. Therefor, by looking into those 3 samples from Wikipedia, I've found some words that I believe best describe that topic and inserted them multiple times in the other samples as well. \n",
        "E.g. For Biology, i've added increased the frequency of words such as \"biology\", \"cell\", \"gene\". \n",
        "\n",
        "\n",
        "In this case, data is given already, but I've also implemented reading from a file, so that the input could be customized. "
      ]
    },
    {
      "cell_type": "code",
      "metadata": {
        "id": "4QfAJ2wQ02ix",
        "colab_type": "code",
        "colab": {
          "base_uri": "https://localhost:8080/",
          "height": 946
        },
        "outputId": "3a583e65-a4b6-42ea-a534-523a7eb27a04"
      },
      "source": [
        "with open('/content/[ProbProg] Dataset - Sheet1.csv') as csv_file:\n",
        "    csv_reader = csv.reader(csv_file, delimiter=',')\n",
        "    line_count = 0\n",
        "    for row in csv_reader:\n",
        "        line_count += 1\n",
        "\n",
        "documents = np.zeros([line_count,1], dtype=object)\n",
        "with open('/content/[ProbProg] Dataset - Sheet1.csv') as csv_file:\n",
        "    csv_reader = csv.reader(csv_file, delimiter=',')\n",
        "    line_count = 0\n",
        "    for row in csv_reader:\n",
        "      documents[line_count] = row\n",
        "      line_count += 1\n",
        "\n",
        "print (documents)      "
      ],
      "execution_count": 132,
      "outputs": [
        {
          "output_type": "stream",
          "text": [
            "[['Most early astronomy consisted of mapping the positions astronomy of the stars and planets, astronomy a science now referred to as astrometry.']\n",
            " ['Objects of interest for astronomy include planets, moons, stars, nebulae, galaxies, and comets. astronomy in his Book of Fixed Stars astronomy.']\n",
            " ['In 964, the Andromeda Galaxy, astronomy the largest galaxy in the Local Group, was described by the astronomy Persian Muslim astronomer Abd al-Rahman al-Sufi in his Book of Fixed Stars astronomy.']\n",
            " ['astronomy stars planets astrometry planets moon star astronomy astronomy the largest galaxy in the Local Group, now referred to as astrometry.']\n",
            " ['galaxy astronomer fixed star astronomy astronomy in his Book of Fixed Stars astronomy. largest galaxy in the consisted of mapping the positions astronomy of the stars and planets, astronomy a science']\n",
            " ['Biology recognizes the cell as the basic unit of life, genes as the basic unit of heredity, and evolution as the engine that propels the creation and extinction of species. mitochondria, chloroplasts, or other locations is collectively known as a cell genome biology.']\n",
            " ['The set Biology of chromosomes in a cell and any other hereditary information found in the mitochondria, chloroplasts, or other locations is collectively known as a cell genome biology. basic unit of heredity,']\n",
            " ['Genes encode the Biology information needed by cells for the synthesis of proteins, which in turn play a central role in influencing the final phenotype of the organism biology. Biology recognizes the cell as the basic unit of life, genes as the basic unit of heredity,']\n",
            " ['biology genes life evolution Biology engine species specie proteins. Biology recognizes the cell as the basic unit of life, genes as the basic unit of heredity,']\n",
            " ['biology mitochondria chloroplats Biology genome cell organism. biology genes life evolution Biology engine species specie proteins.']\n",
            " ['Chemistry addresses topics such as how atoms and molecules interact via chemical bonds to form new chemical compounds.']\n",
            " ['Chemistry is the scientific discipline involved with elements and compounds composed of atoms, chemistry molecules and ions: their composition, structure, properties, behavior and the changes they undergo during a reaction with other substances.']\n",
            " ['In a covalent bond, chemistry, one or more pairs of valence electrons are shared by two atoms: the resulting electrically neutral group of bonded atoms is termed a molecule.']\n",
            " ['Chemistry addresses topics such as how atoms with elements and compounds composed of atoms, molecules and chemistry ions: their composition, structure, properties.']\n",
            " ['Chemistry is the scientific discipline involved with elements and compounds composed of atoms the resulting chemistry electrically neutral group of bonded atoms is termed a molecule.']\n",
            " ['Physics is the natural science that studies matter, its motion and behavior through space and time, and that studies the related entities of energy and force.']\n",
            " ['Classical physics is generally concerned with matter and energy on the normal scale of observation, while much of modern physics is concerned with the behavior of matter and energy under extreme conditions or on a very large or very small scale.']\n",
            " ['Contemporary research in physics can be broadly divided into nuclear and particle physics; condensed matter physics; atomic, molecular, and optical physics; astrophysics; and applied physics.']\n",
            " ['Physics is the natural science that studies matter, and energy on the normal scale of observation, while much physics; atomic, molecular, and optical.']\n",
            " ['Contemporary research in physics can be broadly divided into nuclear and particle physics; while much of modern physics entities of energy and force.']\n",
            " ['Philosophy is the study of general and fundamental questions about existence, knowledge, values, reason, mind, and language.']\n",
            " ['Philosophers also pose more practical and concrete questions such as: Is there a best way to live? existence god philosophy question']\n",
            " ['Issues include the existence of God, philosophy the relationship between reason and faith, questions of philosophy religious epistemology, the relationship between religion and science, how to interpret religious experiences, questions about the possibility of an afterlife, the problem of religious language and the existence of souls and responses to religious pluralism and diversity.']\n",
            " ['Issues philosophy include the existence of God, the relationship between reason and faith knowledge, values, reason, mind, and language philosophy.']\n",
            " ['such as: Is there a best way to live? Philosophy is the study of general questions existence. philosophy']\n",
            " ['Today the range of fields of study examining the economy revolves around the social science of economics, but may include sociology (economic sociology), history (economic history), anthropology (economic anthropology), and geography (economic geography).']\n",
            " ['An economy is an area of the production, distribution and trade, as well as consumption of goods and services by different agents.']\n",
            " ['A market-based economy is one where goods and services are produced and exchanged according to demand and supply between participants (economic agents) by barter or a medium of exchange with a credit or debit value accepted within the network, such as a unit of currency.']\n",
            " ['An economy is an area of the production, distribution and trade, and exchanged according to demand and supply between participants (economic agents).']\n",
            " ['trade, as well as consumption of goods and services by different agents (economic sociology), history (economic history), anthropology (economic anthropology), and geography (economic geography).']\n",
            " ['Photography is the art, application and practice of creating durable images by recording light or other electromagnetic radiation, either Photography electronically by means of an image sensor, or chemically by means of a light-sensitive material such as photographic film.']\n",
            " ['Photography Photographers control the camera and lens to expose the light recording material to the required amount Photography of light to form a latent image (on plate or film) or RAW file (in digital cameras) which, after appropriate processing, is converted to a usable image.']\n",
            " ['Photographs, Photography both monochrome and color, can be captured and displayed through two side-by-side images that emulate human stereoscopic vision.']\n",
            " ['Photographers control the Photography camera and lens to expose the light recording material side-by-side images that emulate human stereoscopic vision.']\n",
            " ['electromagnetic radiation, either Photography electronically by means of an image sensor, or chemically by means of a light-sensitive Photography material such as photographic film.']\n",
            " ['Geography is a field of science devoted to the study of the lands, features, inhabitants, and phenomena of the Earth and planets.']\n",
            " ['The latter examines the natural environment, geography and how organisms, climate, soil, water, and landforms produce and interact.']\n",
            " ['Physical geography (or physiography) focuses on geography as an Earth science.']\n",
            " ['natural environment, and how organisms, climate, soil, water, and landforms produce and interact geography as an Earth science.']\n",
            " ['features, inhabitants, and phenomena of the Earth and geography planets The latter examines the natural environment, and how organisms.']\n",
            " ['Computer science (sometimes called computation science or computing science, but not to be confused with computational science or software engineering) is the study of processes that interact with data and that can be represented as data in the form of programs.']\n",
            " ['Programming language theory considers approaches to the description of computational processes, while computer programming itself involves the use of programming languages and complex systems.']\n",
            " ['Computer science focuses on methods involved in design, specification, programming, verification, implementation and testing of human-made computing systems.']\n",
            " ['Computer science (sometimes called computation science or computing science, programming, verification, implementation and testing of human-made computing systems.']\n",
            " ['Computer science focuses on methods involved in design, computational processes, while computer programming itself involves the use of programming languages and complex systems.']\n",
            " ['History is an umbrella term that relates to past events as well as the memory, discovery, collection, organization, presentation, and History interpretation of information about these events. Scholars who write about history are called historians.']\n",
            " ['History also includes the academic discipline which uses a narrative to examine and analyse a sequence of past events, History and objectively determine the patterns of cause and effect that determine them.']\n",
            " ['The modern study of history is wide-ranging, and includes the study of specific regions and the study of certain topical or thematical elements of historical investigation. Often history is taught as part of primary and secondary education, and the academic study of history is a major discipline in university studies.']\n",
            " ['history is wide-ranging, and includes the study of specific regions to examine and analyse a sequence of past events, and objectively determine the patterns of History cause and effect that determine them.']\n",
            " ['interpretation of information about these events. Scholars who write about history are called historians. History study of specific regions and']]\n"
          ],
          "name": "stdout"
        }
      ]
    },
    {
      "cell_type": "code",
      "metadata": {
        "id": "EHbms9PrYMxh",
        "colab_type": "code",
        "outputId": "c906f878-8af6-4f39-faa4-00da811acd53",
        "colab": {
          "base_uri": "https://localhost:8080/",
          "height": 946
        }
      },
      "source": [
        "documents = np.zeros([50,1], dtype=object)\n",
        "# Astronomy \n",
        "documents[0] = \"Most early astronomy consisted of mapping the positions astronomy of the stars and planets, astronomy a science now referred to as astrometry.\"\n",
        "documents[1] = \"Objects of interest for astronomy include planets, moons, stars, nebulae, galaxies, and comets. astronomy in his Book of Fixed Stars astronomy.\"\n",
        "documents[2] = \"In 964, the Andromeda Galaxy, astronomy the largest galaxy in the Local Group, was described by the astronomy Persian Muslim astronomer Abd al-Rahman al-Sufi in his Book of Fixed Stars astronomy.\"\n",
        "documents[3] = \"astronomy stars planets astrometry planets moon star astronomy astronomy the largest galaxy in the Local Group, now referred to as astrometry.\"\n",
        "documents[4] = \"galaxy astronomer fixed star astronomy astronomy in his Book of Fixed Stars astronomy. largest galaxy in the consisted of mapping the positions astronomy of the stars and planets, astronomy a science\"\n",
        "# Biology\n",
        "documents[5] = \"Biology recognizes the cell as the basic unit of life, genes as the basic unit of heredity, and evolution as the engine that propels the creation and extinction of species. mitochondria, chloroplasts, or other locations is collectively known as a cell genome biology.\"\n",
        "documents[6] = \"The set Biology of chromosomes in a cell and any other hereditary information found in the mitochondria, chloroplasts, or other locations is collectively known as a cell genome biology. basic unit of heredity,\"\n",
        "documents[7] = \"Genes encode the Biology information needed by cells for the synthesis of proteins, which in turn play a central role in influencing the final phenotype of the organism biology. Biology recognizes the cell as the basic unit of life, genes as the basic unit of heredity,\"\n",
        "documents[8] = \"biology genes life evolution Biology engine species specie proteins. Biology recognizes the cell as the basic unit of life, genes as the basic unit of heredity,\"\n",
        "documents[9] = \"biology mitochondria chloroplats Biology genome cell organism. biology genes life evolution Biology engine species specie proteins.\"\n",
        "# Chemistry \n",
        "documents[10] = \"Chemistry addresses topics such as how atoms and molecules interact via chemical bonds to form new chemical compounds.\"\n",
        "documents[11] = \"Chemistry is the scientific discipline involved with elements and compounds composed of atoms, chemistry molecules and ions: their composition, structure, properties, behavior and the changes they undergo during a reaction with other substances.\"\n",
        "documents[12] = \"In a covalent bond, chemistry, one or more pairs of valence electrons are shared by two atoms: the resulting electrically neutral group of bonded atoms is termed a molecule.\"\n",
        "documents[13] = \"Chemistry addresses topics such as how atoms with elements and compounds composed of atoms, molecules and chemistry ions: their composition, structure, properties.\"\n",
        "documents[14] = \"Chemistry is the scientific discipline involved with elements and compounds composed of atoms the resulting chemistry electrically neutral group of bonded atoms is termed a molecule.\"\n",
        "# Physics \n",
        "documents[15] = \"Physics is the natural science that studies matter, its motion and behavior through space and time, and that studies the related entities of energy and force.\"\n",
        "documents[16] = \"Classical physics is generally concerned with matter and energy on the normal scale of observation, while much of modern physics is concerned with the behavior of matter and energy under extreme conditions or on a very large or very small scale.\"\n",
        "documents[17] = \"Contemporary research in physics can be broadly divided into nuclear and particle physics; condensed matter physics; atomic, molecular, and optical physics; astrophysics; and applied physics.\"\n",
        "documents[18] = \"Physics is the natural science that studies matter, and energy on the normal scale of observation, while much physics; atomic, molecular, and optical.\"\n",
        "documents[19] = \"Contemporary research in physics can be broadly divided into nuclear and particle physics; while much of modern physics entities of energy and force.\"\n",
        "# Philosophy \n",
        "documents[20] = \"Philosophy is the study of general and fundamental questions about existence, knowledge, values, reason, mind, and language.\"\n",
        "documents[21] = \"Philosophers also pose more practical and concrete questions such as: Is there a best way to live? existence god philosophy question\"\n",
        "documents[22] = \"Issues include the existence of God, philosophy the relationship between reason and faith, questions of philosophy religious epistemology, the relationship between religion and science, how to interpret religious experiences, questions about the possibility of an afterlife, the problem of religious language and the existence of souls and responses to religious pluralism and diversity.\"\n",
        "documents[23] = \"Issues philosophy include the existence of God, the relationship between reason and faith knowledge, values, reason, mind, and language philosophy.\"\n",
        "documents[24] = \"such as: Is there a best way to live? Philosophy is the study of general questions existence. philosophy\"\n",
        "# Economy \n",
        "documents[25] = \"Today the range of fields of study examining the economy revolves around the social science of economics, but may include sociology (economic sociology), history (economic history), anthropology (economic anthropology), and geography (economic geography).\"\n",
        "documents[26] = \"An economy is an area of the production, distribution and trade, as well as consumption of goods and services by different agents.\"\n",
        "documents[27] = \"A market-based economy is one where goods and services are produced and exchanged according to demand and supply between participants (economic agents) by barter or a medium of exchange with a credit or debit value accepted within the network, such as a unit of currency.\"\n",
        "documents[28] = \"An economy is an area of the production, distribution and trade, and exchanged according to demand and supply between participants (economic agents).\"\n",
        "documents[29] = \"trade, as well as consumption of goods and services by different agents (economic sociology), history (economic history), anthropology (economic anthropology), and geography (economic geography).\"\n",
        "# Photography \n",
        "documents[30] = \"Photography is the art, application and practice of creating durable images by recording light or other electromagnetic radiation, either Photography electronically by means of an image sensor, or chemically by means of a light-sensitive material such as photographic film.\" \n",
        "documents[31] = \"Photography Photographers control the camera and lens to expose the light recording material to the required amount Photography of light to form a latent image (on plate or film) or RAW file (in digital cameras) which, after appropriate processing, is converted to a usable image.\"\n",
        "documents[32] = \"Photographs, Photography both monochrome and color, can be captured and displayed through two side-by-side images that emulate human stereoscopic vision.\"\n",
        "documents[33] = \"Photographers control the Photography camera and lens to expose the light recording material side-by-side images that emulate human stereoscopic vision.\"\n",
        "documents[34] = \"electromagnetic radiation, either Photography electronically by means of an image sensor, or chemically by means of a light-sensitive Photography material such as photographic film.\"\n",
        "# Geography \n",
        "documents[35] = \"Geography is a field of science devoted to the study of the lands, features, inhabitants, and phenomena of the Earth and planets.\"\n",
        "documents[36] = \"The latter examines the natural environment, geography and how organisms, climate, soil, water, and landforms produce and interact.\" \n",
        "documents[37] = \"Physical geography (or physiography) focuses on geography as an Earth science.\"\n",
        "documents[38] = \"natural environment, and how organisms, climate, soil, water, and landforms produce and interact geography as an Earth science.\"\n",
        "documents[39] = \"features, inhabitants, and phenomena of the Earth and geography planets The latter examines the natural environment, and how organisms.\"\n",
        "# Computer Science \n",
        "documents[40] = \"Computer science (sometimes called computation science or computing science, but not to be confused with computational science or software engineering) is the study of processes that interact with data and that can be represented as data in the form of programs.\"\n",
        "documents[41] = \"Programming language theory considers approaches to the description of computational processes, while computer programming itself involves the use of programming languages and complex systems.\"\n",
        "documents[42] = \"Computer science focuses on methods involved in design, specification, programming, verification, implementation and testing of human-made computing systems.\"\n",
        "documents[43] = \"Computer science (sometimes called computation science or computing science, programming, verification, implementation and testing of human-made computing systems.\"\n",
        "documents[44] = \"Computer science focuses on methods involved in design, computational processes, while computer programming itself involves the use of programming languages and complex systems.\"\n",
        "# History \n",
        "documents[45] = \"History is an umbrella term that relates to past events as well as the memory, discovery, collection, organization, presentation, and History interpretation of information about these events. Scholars who write about history are called historians.\"\n",
        "documents[46] = \"History also includes the academic discipline which uses a narrative to examine and analyse a sequence of past events, History and objectively determine the patterns of cause and effect that determine them.\"\n",
        "documents[47] = \"The modern study of history is wide-ranging, and includes the study of specific regions and the study of certain topical or thematical elements of historical investigation. Often history is taught as part of primary and secondary education, and the academic study of history is a major discipline in university studies.\"\n",
        "documents[48] = \"history is wide-ranging, and includes the study of specific regions  to examine and analyse a sequence of past events, and objectively determine the patterns of History cause and effect that determine them.\"\n",
        "documents[49] = \"interpretation of information about these events. Scholars who write about history are called historians. History study of specific regions and\"\n",
        "\n",
        "print (documents)"
      ],
      "execution_count": 5,
      "outputs": [
        {
          "output_type": "stream",
          "text": [
            "[['Most early astronomy consisted of mapping the positions astronomy of the stars and planets, astronomy a science now referred to as astrometry.']\n",
            " ['Objects of interest for astronomy include planets, moons, stars, nebulae, galaxies, and comets. astronomy in his Book of Fixed Stars astronomy.']\n",
            " ['In 964, the Andromeda Galaxy, astronomy the largest galaxy in the Local Group, was described by the astronomy Persian Muslim astronomer Abd al-Rahman al-Sufi in his Book of Fixed Stars astronomy.']\n",
            " ['astronomy stars planets astrometry planets moon star astronomy astronomy the largest galaxy in the Local Group, now referred to as astrometry.']\n",
            " ['galaxy astronomer fixed star astronomy astronomy in his Book of Fixed Stars astronomy. largest galaxy in the consisted of mapping the positions astronomy of the stars and planets, astronomy a science']\n",
            " ['Biology recognizes the cell as the basic unit of life, genes as the basic unit of heredity, and evolution as the engine that propels the creation and extinction of species. mitochondria, chloroplasts, or other locations is collectively known as a cell genome biology.']\n",
            " ['The set Biology of chromosomes in a cell and any other hereditary information found in the mitochondria, chloroplasts, or other locations is collectively known as a cell genome biology. basic unit of heredity,']\n",
            " ['Genes encode the Biology information needed by cells for the synthesis of proteins, which in turn play a central role in influencing the final phenotype of the organism biology. Biology recognizes the cell as the basic unit of life, genes as the basic unit of heredity,']\n",
            " ['biology genes life evolution Biology engine species specie proteins. Biology recognizes the cell as the basic unit of life, genes as the basic unit of heredity,']\n",
            " ['biology mitochondria chloroplats Biology genome cell organism. biology genes life evolution Biology engine species specie proteins.']\n",
            " ['Chemistry addresses topics such as how atoms and molecules interact via chemical bonds to form new chemical compounds.']\n",
            " ['Chemistry is the scientific discipline involved with elements and compounds composed of atoms, chemistry molecules and ions: their composition, structure, properties, behavior and the changes they undergo during a reaction with other substances.']\n",
            " ['In a covalent bond, chemistry, one or more pairs of valence electrons are shared by two atoms: the resulting electrically neutral group of bonded atoms is termed a molecule.']\n",
            " ['Chemistry addresses topics such as how atoms with elements and compounds composed of atoms, molecules and chemistry ions: their composition, structure, properties.']\n",
            " ['Chemistry is the scientific discipline involved with elements and compounds composed of atoms the resulting chemistry electrically neutral group of bonded atoms is termed a molecule.']\n",
            " ['Physics is the natural science that studies matter, its motion and behavior through space and time, and that studies the related entities of energy and force.']\n",
            " ['Classical physics is generally concerned with matter and energy on the normal scale of observation, while much of modern physics is concerned with the behavior of matter and energy under extreme conditions or on a very large or very small scale.']\n",
            " ['Contemporary research in physics can be broadly divided into nuclear and particle physics; condensed matter physics; atomic, molecular, and optical physics; astrophysics; and applied physics.']\n",
            " ['Physics is the natural science that studies matter, and energy on the normal scale of observation, while much physics; atomic, molecular, and optical.']\n",
            " ['Contemporary research in physics can be broadly divided into nuclear and particle physics; while much of modern physics entities of energy and force.']\n",
            " ['Philosophy is the study of general and fundamental questions about existence, knowledge, values, reason, mind, and language.']\n",
            " ['Philosophers also pose more practical and concrete questions such as: Is there a best way to live? existence god philosophy question']\n",
            " ['Issues include the existence of God, philosophy the relationship between reason and faith, questions of philosophy religious epistemology, the relationship between religion and science, how to interpret religious experiences, questions about the possibility of an afterlife, the problem of religious language and the existence of souls and responses to religious pluralism and diversity.']\n",
            " ['Issues philosophy include the existence of God, the relationship between reason and faith knowledge, values, reason, mind, and language philosophy.']\n",
            " ['such as: Is there a best way to live? Philosophy is the study of general questions existence. philosophy']\n",
            " ['Today the range of fields of study examining the economy revolves around the social science of economics, but may include sociology (economic sociology), history (economic history), anthropology (economic anthropology), and geography (economic geography).']\n",
            " ['An economy is an area of the production, distribution and trade, as well as consumption of goods and services by different agents.']\n",
            " ['A market-based economy is one where goods and services are produced and exchanged according to demand and supply between participants (economic agents) by barter or a medium of exchange with a credit or debit value accepted within the network, such as a unit of currency.']\n",
            " ['An economy is an area of the production, distribution and trade, and exchanged according to demand and supply between participants (economic agents).']\n",
            " ['trade, as well as consumption of goods and services by different agents (economic sociology), history (economic history), anthropology (economic anthropology), and geography (economic geography).']\n",
            " ['Photography is the art, application and practice of creating durable images by recording light or other electromagnetic radiation, either Photography electronically by means of an image sensor, or chemically by means of a light-sensitive material such as photographic film.']\n",
            " ['Photography Photographers control the camera and lens to expose the light recording material to the required amount Photography of light to form a latent image (on plate or film) or RAW file (in digital cameras) which, after appropriate processing, is converted to a usable image.']\n",
            " ['Photographs, Photography both monochrome and color, can be captured and displayed through two side-by-side images that emulate human stereoscopic vision.']\n",
            " ['Photographers control the Photography camera and lens to expose the light recording material side-by-side images that emulate human stereoscopic vision.']\n",
            " ['electromagnetic radiation, either Photography electronically by means of an image sensor, or chemically by means of a light-sensitive Photography material such as photographic film.']\n",
            " ['Geography is a field of science devoted to the study of the lands, features, inhabitants, and phenomena of the Earth and planets.']\n",
            " ['The latter examines the natural environment, geography and how organisms, climate, soil, water, and landforms produce and interact.']\n",
            " ['Physical geography (or physiography) focuses on geography as an Earth science.']\n",
            " ['natural environment, and how organisms, climate, soil, water, and landforms produce and interact geography as an Earth science.']\n",
            " ['features, inhabitants, and phenomena of the Earth and geography planets The latter examines the natural environment, and how organisms.']\n",
            " ['Computer science (sometimes called computation science or computing science, but not to be confused with computational science or software engineering) is the study of processes that interact with data and that can be represented as data in the form of programs.']\n",
            " ['Programming language theory considers approaches to the description of computational processes, while computer programming itself involves the use of programming languages and complex systems.']\n",
            " ['Computer science focuses on methods involved in design, specification, programming, verification, implementation and testing of human-made computing systems.']\n",
            " ['Computer science (sometimes called computation science or computing science, programming, verification, implementation and testing of human-made computing systems.']\n",
            " ['Computer science focuses on methods involved in design, computational processes, while computer programming itself involves the use of programming languages and complex systems.']\n",
            " ['History is an umbrella term that relates to past events as well as the memory, discovery, collection, organization, presentation, and History interpretation of information about these events. Scholars who write about history are called historians.']\n",
            " ['History also includes the academic discipline which uses a narrative to examine and analyse a sequence of past events, History and objectively determine the patterns of cause and effect that determine them.']\n",
            " ['The modern study of history is wide-ranging, and includes the study of specific regions and the study of certain topical or thematical elements of historical investigation. Often history is taught as part of primary and secondary education, and the academic study of history is a major discipline in university studies.']\n",
            " ['history is wide-ranging, and includes the study of specific regions  to examine and analyse a sequence of past events, and objectively determine the patterns of History cause and effect that determine them.']\n",
            " ['interpretation of information about these events. Scholars who write about history are called historians. History study of specific regions and']]\n"
          ],
          "name": "stdout"
        }
      ]
    },
    {
      "cell_type": "markdown",
      "metadata": {
        "id": "6mG_rCn9hNt_",
        "colab_type": "text"
      },
      "source": [
        "# Data processing "
      ]
    },
    {
      "cell_type": "markdown",
      "metadata": {
        "id": "tzpqzrGO3vid",
        "colab_type": "text"
      },
      "source": [
        "In order to use the previously added data, I've done some data processing, which includes: \n",
        "* Remove all the punctuation such as \".,!\" and replacing them with spaces \n",
        "* Apply stemming to the documents, so that for each word will be reduced to its semantic root \n",
        "* Redo each document after stemming, by joining words separated by space and trim each document's spaces from both the end and the beginning \n",
        "* Remove all the stop words since they have a high frequency and are spread all over the documents, without providing any useful information \n",
        "* Filter out all the words that appear only once in throughout all documents  "
      ]
    },
    {
      "cell_type": "markdown",
      "metadata": {
        "id": "my2-1wzC809q",
        "colab_type": "text"
      },
      "source": [
        "## Removing punctuation "
      ]
    },
    {
      "cell_type": "code",
      "metadata": {
        "id": "0ieblsPhd86g",
        "colab_type": "code",
        "outputId": "63367904-e6bc-464a-ffe9-877fb268d70f",
        "colab": {
          "base_uri": "https://localhost:8080/",
          "height": 946
        }
      },
      "source": [
        "for index in range(len(documents)):\n",
        "  translator = str.maketrans(string.punctuation, ' '*len(string.punctuation))\n",
        "  print (documents[index])\n",
        "  documents[index] = str(documents[index]).translate(translator) "
      ],
      "execution_count": 6,
      "outputs": [
        {
          "output_type": "stream",
          "text": [
            "['Most early astronomy consisted of mapping the positions astronomy of the stars and planets, astronomy a science now referred to as astrometry.']\n",
            "['Objects of interest for astronomy include planets, moons, stars, nebulae, galaxies, and comets. astronomy in his Book of Fixed Stars astronomy.']\n",
            "['In 964, the Andromeda Galaxy, astronomy the largest galaxy in the Local Group, was described by the astronomy Persian Muslim astronomer Abd al-Rahman al-Sufi in his Book of Fixed Stars astronomy.']\n",
            "['astronomy stars planets astrometry planets moon star astronomy astronomy the largest galaxy in the Local Group, now referred to as astrometry.']\n",
            "['galaxy astronomer fixed star astronomy astronomy in his Book of Fixed Stars astronomy. largest galaxy in the consisted of mapping the positions astronomy of the stars and planets, astronomy a science']\n",
            "['Biology recognizes the cell as the basic unit of life, genes as the basic unit of heredity, and evolution as the engine that propels the creation and extinction of species. mitochondria, chloroplasts, or other locations is collectively known as a cell genome biology.']\n",
            "['The set Biology of chromosomes in a cell and any other hereditary information found in the mitochondria, chloroplasts, or other locations is collectively known as a cell genome biology. basic unit of heredity,']\n",
            "['Genes encode the Biology information needed by cells for the synthesis of proteins, which in turn play a central role in influencing the final phenotype of the organism biology. Biology recognizes the cell as the basic unit of life, genes as the basic unit of heredity,']\n",
            "['biology genes life evolution Biology engine species specie proteins. Biology recognizes the cell as the basic unit of life, genes as the basic unit of heredity,']\n",
            "['biology mitochondria chloroplats Biology genome cell organism. biology genes life evolution Biology engine species specie proteins.']\n",
            "['Chemistry addresses topics such as how atoms and molecules interact via chemical bonds to form new chemical compounds.']\n",
            "['Chemistry is the scientific discipline involved with elements and compounds composed of atoms, chemistry molecules and ions: their composition, structure, properties, behavior and the changes they undergo during a reaction with other substances.']\n",
            "['In a covalent bond, chemistry, one or more pairs of valence electrons are shared by two atoms: the resulting electrically neutral group of bonded atoms is termed a molecule.']\n",
            "['Chemistry addresses topics such as how atoms with elements and compounds composed of atoms, molecules and chemistry ions: their composition, structure, properties.']\n",
            "['Chemistry is the scientific discipline involved with elements and compounds composed of atoms the resulting chemistry electrically neutral group of bonded atoms is termed a molecule.']\n",
            "['Physics is the natural science that studies matter, its motion and behavior through space and time, and that studies the related entities of energy and force.']\n",
            "['Classical physics is generally concerned with matter and energy on the normal scale of observation, while much of modern physics is concerned with the behavior of matter and energy under extreme conditions or on a very large or very small scale.']\n",
            "['Contemporary research in physics can be broadly divided into nuclear and particle physics; condensed matter physics; atomic, molecular, and optical physics; astrophysics; and applied physics.']\n",
            "['Physics is the natural science that studies matter, and energy on the normal scale of observation, while much physics; atomic, molecular, and optical.']\n",
            "['Contemporary research in physics can be broadly divided into nuclear and particle physics; while much of modern physics entities of energy and force.']\n",
            "['Philosophy is the study of general and fundamental questions about existence, knowledge, values, reason, mind, and language.']\n",
            "['Philosophers also pose more practical and concrete questions such as: Is there a best way to live? existence god philosophy question']\n",
            "['Issues include the existence of God, philosophy the relationship between reason and faith, questions of philosophy religious epistemology, the relationship between religion and science, how to interpret religious experiences, questions about the possibility of an afterlife, the problem of religious language and the existence of souls and responses to religious pluralism and diversity.']\n",
            "['Issues philosophy include the existence of God, the relationship between reason and faith knowledge, values, reason, mind, and language philosophy.']\n",
            "['such as: Is there a best way to live? Philosophy is the study of general questions existence. philosophy']\n",
            "['Today the range of fields of study examining the economy revolves around the social science of economics, but may include sociology (economic sociology), history (economic history), anthropology (economic anthropology), and geography (economic geography).']\n",
            "['An economy is an area of the production, distribution and trade, as well as consumption of goods and services by different agents.']\n",
            "['A market-based economy is one where goods and services are produced and exchanged according to demand and supply between participants (economic agents) by barter or a medium of exchange with a credit or debit value accepted within the network, such as a unit of currency.']\n",
            "['An economy is an area of the production, distribution and trade, and exchanged according to demand and supply between participants (economic agents).']\n",
            "['trade, as well as consumption of goods and services by different agents (economic sociology), history (economic history), anthropology (economic anthropology), and geography (economic geography).']\n",
            "['Photography is the art, application and practice of creating durable images by recording light or other electromagnetic radiation, either Photography electronically by means of an image sensor, or chemically by means of a light-sensitive material such as photographic film.']\n",
            "['Photography Photographers control the camera and lens to expose the light recording material to the required amount Photography of light to form a latent image (on plate or film) or RAW file (in digital cameras) which, after appropriate processing, is converted to a usable image.']\n",
            "['Photographs, Photography both monochrome and color, can be captured and displayed through two side-by-side images that emulate human stereoscopic vision.']\n",
            "['Photographers control the Photography camera and lens to expose the light recording material side-by-side images that emulate human stereoscopic vision.']\n",
            "['electromagnetic radiation, either Photography electronically by means of an image sensor, or chemically by means of a light-sensitive Photography material such as photographic film.']\n",
            "['Geography is a field of science devoted to the study of the lands, features, inhabitants, and phenomena of the Earth and planets.']\n",
            "['The latter examines the natural environment, geography and how organisms, climate, soil, water, and landforms produce and interact.']\n",
            "['Physical geography (or physiography) focuses on geography as an Earth science.']\n",
            "['natural environment, and how organisms, climate, soil, water, and landforms produce and interact geography as an Earth science.']\n",
            "['features, inhabitants, and phenomena of the Earth and geography planets The latter examines the natural environment, and how organisms.']\n",
            "['Computer science (sometimes called computation science or computing science, but not to be confused with computational science or software engineering) is the study of processes that interact with data and that can be represented as data in the form of programs.']\n",
            "['Programming language theory considers approaches to the description of computational processes, while computer programming itself involves the use of programming languages and complex systems.']\n",
            "['Computer science focuses on methods involved in design, specification, programming, verification, implementation and testing of human-made computing systems.']\n",
            "['Computer science (sometimes called computation science or computing science, programming, verification, implementation and testing of human-made computing systems.']\n",
            "['Computer science focuses on methods involved in design, computational processes, while computer programming itself involves the use of programming languages and complex systems.']\n",
            "['History is an umbrella term that relates to past events as well as the memory, discovery, collection, organization, presentation, and History interpretation of information about these events. Scholars who write about history are called historians.']\n",
            "['History also includes the academic discipline which uses a narrative to examine and analyse a sequence of past events, History and objectively determine the patterns of cause and effect that determine them.']\n",
            "['The modern study of history is wide-ranging, and includes the study of specific regions and the study of certain topical or thematical elements of historical investigation. Often history is taught as part of primary and secondary education, and the academic study of history is a major discipline in university studies.']\n",
            "['history is wide-ranging, and includes the study of specific regions  to examine and analyse a sequence of past events, and objectively determine the patterns of History cause and effect that determine them.']\n",
            "['interpretation of information about these events. Scholars who write about history are called historians. History study of specific regions and']\n"
          ],
          "name": "stdout"
        }
      ]
    },
    {
      "cell_type": "markdown",
      "metadata": {
        "id": "dYU1kktL85G0",
        "colab_type": "text"
      },
      "source": [
        "## Stemming and rebuilding documents "
      ]
    },
    {
      "cell_type": "code",
      "metadata": {
        "id": "v3BN_ReBF0fH",
        "colab_type": "code",
        "colab": {}
      },
      "source": [
        "documents = [[stem(word.lower()) for word in document[0].split(\" \")] for document in documents]"
      ],
      "execution_count": 0,
      "outputs": []
    },
    {
      "cell_type": "code",
      "metadata": {
        "id": "O7iboABAGDxw",
        "colab_type": "code",
        "colab": {}
      },
      "source": [
        "documents = [' '.join(document) for document in documents]\n",
        "documents = [document.replace('\\n',' ') for document in documents]\n",
        "documents = [document.strip() for document in documents]"
      ],
      "execution_count": 0,
      "outputs": []
    },
    {
      "cell_type": "code",
      "metadata": {
        "id": "8E4a7Tq_gq5g",
        "colab_type": "code",
        "outputId": "ff2daef0-73c1-46a7-f29c-3cff640c4f7a",
        "colab": {
          "base_uri": "https://localhost:8080/",
          "height": 74
        }
      },
      "source": [
        "print (\"Documents after stemming and punctuation removal.\")\n",
        "print (documents)"
      ],
      "execution_count": 9,
      "outputs": [
        {
          "output_type": "stream",
          "text": [
            "Documents after stemming and punctuation removal.\n",
            "['most earli astronomi consist of map the posit astronomi of the star and planet  astronomi a scienc now refer to as astrometri', 'object of interest for astronomi includ planet  moon  star  nebula  galaxi  and comet  astronomi in his book of fix star astronomi', 'in 964  the andromeda galaxi  astronomi the largest galaxi in the local group  was describ by the astronomi persian muslim astronom abd al rahman al sufi in his book of fix star astronomi', 'astronomi star planet astrometri planet moon star astronomi astronomi the largest galaxi in the local group  now refer to as astrometri', 'galaxi astronom fix star astronomi astronomi in his book of fix star astronomi  largest galaxi in the consist of map the posit astronomi of the star and planet  astronomi a scienc', 'biolog recogn the cell as the basic unit of life  gene as the basic unit of hered  and evolut as the engin that propel the creation and extinct of speci  mitochondria  chloroplast  or other locat is collect known as a cell genom biolog', 'the set biolog of chromosom in a cell and ani other hereditari inform found in the mitochondria  chloroplast  or other locat is collect known as a cell genom biolog  basic unit of hered', 'gene encod the biolog inform need by cell for the synthesi of protein  which in turn play a central role in influenc the final phenotyp of the organ biolog  biolog recogn the cell as the basic unit of life  gene as the basic unit of hered', 'biolog gene life evolut biolog engin speci speci protein  biolog recogn the cell as the basic unit of life  gene as the basic unit of hered', 'biolog mitochondria chloroplat biolog genom cell organ  biolog gene life evolut biolog engin speci speci protein', 'chemistri address topic such as how atom and molecul interact via chemic bond to form new chemic compound', 'chemistri is the scientif disciplin involv with element and compound compos of atom  chemistri molecul and ion  their composit  structur  properti  behavior and the chang they undergo dure a reaction with other substanc', 'in a coval bond  chemistri  one or more pair of valenc electron are share by two atom  the result electr neutral group of bond atom is term a molecul', 'chemistri address topic such as how atom with element and compound compos of atom  molecul and chemistri ion  their composit  structur  properti', 'chemistri is the scientif disciplin involv with element and compound compos of atom the result chemistri electr neutral group of bond atom is term a molecul', 'physic is the natur scienc that studi matter  it motion and behavior through space and time  and that studi the relat entiti of energi and forc', 'classic physic is general concern with matter and energi on the normal scale of observ  while much of modern physic is concern with the behavior of matter and energi under extrem condit or on a veri larg or veri small scale', 'contemporari research in physic can be broad divid into nuclear and particl physic  condens matter physic  atom  molecular  and optic physic  astrophys  and appli physic', 'physic is the natur scienc that studi matter  and energi on the normal scale of observ  while much physic  atom  molecular  and optic', 'contemporari research in physic can be broad divid into nuclear and particl physic  while much of modern physic entiti of energi and forc', 'philosophi is the studi of general and fundament question about exist  knowledg  valu  reason  mind  and languag', 'philosoph also pose more practic and concret question such as  is there a best way to live  exist god philosophi question', 'issu includ the exist of god  philosophi the relationship between reason and faith  question of philosophi religi epistemolog  the relationship between religion and scienc  how to interpret religi experi  question about the possibl of an afterlif  the problem of religi languag and the exist of soul and respons to religi plural and divers', 'issu philosophi includ the exist of god  the relationship between reason and faith knowledg  valu  reason  mind  and languag philosophi', 'such as  is there a best way to live  philosophi is the studi of general question exist  philosophi', 'today the rang of field of studi examin the economi revolv around the social scienc of econom  but may includ sociolog  econom sociolog   histori  econom histori   anthropolog  econom anthropolog   and geographi  econom geographi', 'an economi is an area of the product  distribut and trade  as well as consumpt of good and servic by differ agent', 'a market base economi is one where good and servic are produc and exchang accord to demand and suppli between particip  econom agent  by barter or a medium of exchang with a credit or debit valu accept within the network  such as a unit of currenc', 'an economi is an area of the product  distribut and trade  and exchang accord to demand and suppli between particip  econom agent', 'trade  as well as consumpt of good and servic by differ agent  econom sociolog   histori  econom histori   anthropolog  econom anthropolog   and geographi  econom geographi', 'photographi is the art  applic and practic of creat durabl imag by record light or other electromagnet radiat  either photographi electron by mean of an imag sensor  or chemic by mean of a light sensit materi such as photograph film', 'photographi photograph control the camera and len to expos the light record materi to the requir amount photographi of light to form a latent imag  on plate or film  or raw file  in digit camera  which  after appropri process  is convert to a usabl imag', 'photograph  photographi both monochrom and color  can be captur and display through two side by side imag that emul human stereoscop vision', 'photograph control the photographi camera and len to expos the light record materi side by side imag that emul human stereoscop vision', 'electromagnet radiat  either photographi electron by mean of an imag sensor  or chemic by mean of a light sensit photographi materi such as photograph film', 'geographi is a field of scienc devot to the studi of the land  featur  inhabit  and phenomena of the earth and planet', 'the latter examin the natur environ  geographi and how organ  climat  soil  water  and landform produc and interact', 'physic geographi  or physiographi  focus on geographi as an earth scienc', 'natur environ  and how organ  climat  soil  water  and landform produc and interact geographi as an earth scienc', 'featur  inhabit  and phenomena of the earth and geographi planet the latter examin the natur environ  and how organ', 'comput scienc  sometim call comput scienc or comput scienc  but not to be confus with comput scienc or softwar engin  is the studi of process that interact with data and that can be repres as data in the form of program', 'program languag theori consid approach to the descript of comput process  while comput program itself involv the use of program languag and complex system', 'comput scienc focus on method involv in design  specif  program  verif  implement and test of human made comput system', 'comput scienc  sometim call comput scienc or comput scienc  program  verif  implement and test of human made comput system', 'comput scienc focus on method involv in design  comput process  while comput program itself involv the use of program languag and complex system', 'histori is an umbrella term that relat to past event as well as the memori  discoveri  collect  organ  present  and histori interpret of inform about these event  scholar who write about histori are call historian', 'histori also includ the academ disciplin which use a narrat to examin and analys a sequenc of past event  histori and object determin the pattern of caus and effect that determin them', 'the modern studi of histori is wide rang  and includ the studi of specif region and the studi of certain topic or themat element of histor investig  often histori is taught as part of primari and secondari educ  and the academ studi of histori is a major disciplin in univers studi', 'histori is wide rang  and includ the studi of specif region  to examin and analys a sequenc of past event  and object determin the pattern of histori caus and effect that determin them', 'interpret of inform about these event  scholar who write about histori are call historian  histori studi of specif region and']\n"
          ],
          "name": "stdout"
        }
      ]
    },
    {
      "cell_type": "markdown",
      "metadata": {
        "id": "m0Q2x8pk89Ms",
        "colab_type": "text"
      },
      "source": [
        "## Removing stopwords"
      ]
    },
    {
      "cell_type": "code",
      "metadata": {
        "id": "qFLbesodWjUe",
        "colab_type": "code",
        "colab": {}
      },
      "source": [
        "stop_words = set(stopwords.words('english')) \n",
        "filtered_documents = []\n",
        "for document in documents:\n",
        "  filtered_document = []\n",
        "  for word in document.split(\" \"):\n",
        "    if not word in stop_words:\n",
        "      filtered_document.append(word)\n",
        "  filtered_documents.append(' '.join(filtered_document))      "
      ],
      "execution_count": 0,
      "outputs": []
    },
    {
      "cell_type": "code",
      "metadata": {
        "id": "_-66A6YlXq2l",
        "colab_type": "code",
        "outputId": "18050920-7068-40b0-cca4-8480c3b10a0e",
        "colab": {
          "base_uri": "https://localhost:8080/",
          "height": 74
        }
      },
      "source": [
        "print (\"Documents after filtering all the stop words.\")\n",
        "print (filtered_documents)"
      ],
      "execution_count": 11,
      "outputs": [
        {
          "output_type": "stream",
          "text": [
            "Documents after filtering all the stop words.\n",
            "['earli astronomi consist map posit astronomi star planet  astronomi scienc refer astrometri', 'object interest astronomi includ planet  moon  star  nebula  galaxi  comet  astronomi book fix star astronomi', '964  andromeda galaxi  astronomi largest galaxi local group  describ astronomi persian muslim astronom abd al rahman al sufi book fix star astronomi', 'astronomi star planet astrometri planet moon star astronomi astronomi largest galaxi local group  refer astrometri', 'galaxi astronom fix star astronomi astronomi book fix star astronomi  largest galaxi consist map posit astronomi star planet  astronomi scienc', 'biolog recogn cell basic unit life  gene basic unit hered  evolut engin propel creation extinct speci  mitochondria  chloroplast  locat collect known cell genom biolog', 'set biolog chromosom cell ani hereditari inform found mitochondria  chloroplast  locat collect known cell genom biolog  basic unit hered', 'gene encod biolog inform need cell synthesi protein  turn play central role influenc final phenotyp organ biolog  biolog recogn cell basic unit life  gene basic unit hered', 'biolog gene life evolut biolog engin speci speci protein  biolog recogn cell basic unit life  gene basic unit hered', 'biolog mitochondria chloroplat biolog genom cell organ  biolog gene life evolut biolog engin speci speci protein', 'chemistri address topic atom molecul interact via chemic bond form new chemic compound', 'chemistri scientif disciplin involv element compound compos atom  chemistri molecul ion  composit  structur  properti  behavior chang undergo dure reaction substanc', 'coval bond  chemistri  one pair valenc electron share two atom  result electr neutral group bond atom term molecul', 'chemistri address topic atom element compound compos atom  molecul chemistri ion  composit  structur  properti', 'chemistri scientif disciplin involv element compound compos atom result chemistri electr neutral group bond atom term molecul', 'physic natur scienc studi matter  motion behavior space time  studi relat entiti energi forc', 'classic physic general concern matter energi normal scale observ  much modern physic concern behavior matter energi extrem condit veri larg veri small scale', 'contemporari research physic broad divid nuclear particl physic  condens matter physic  atom  molecular  optic physic  astrophys  appli physic', 'physic natur scienc studi matter  energi normal scale observ  much physic  atom  molecular  optic', 'contemporari research physic broad divid nuclear particl physic  much modern physic entiti energi forc', 'philosophi studi general fundament question exist  knowledg  valu  reason  mind  languag', 'philosoph also pose practic concret question  best way live  exist god philosophi question', 'issu includ exist god  philosophi relationship reason faith  question philosophi religi epistemolog  relationship religion scienc  interpret religi experi  question possibl afterlif  problem religi languag exist soul respons religi plural divers', 'issu philosophi includ exist god  relationship reason faith knowledg  valu  reason  mind  languag philosophi', ' best way live  philosophi studi general question exist  philosophi', 'today rang field studi examin economi revolv around social scienc econom  may includ sociolog  econom sociolog   histori  econom histori   anthropolog  econom anthropolog   geographi  econom geographi', 'economi area product  distribut trade  well consumpt good servic differ agent', 'market base economi one good servic produc exchang accord demand suppli particip  econom agent  barter medium exchang credit debit valu accept within network  unit currenc', 'economi area product  distribut trade  exchang accord demand suppli particip  econom agent', 'trade  well consumpt good servic differ agent  econom sociolog   histori  econom histori   anthropolog  econom anthropolog   geographi  econom geographi', 'photographi art  applic practic creat durabl imag record light electromagnet radiat  either photographi electron mean imag sensor  chemic mean light sensit materi photograph film', 'photographi photograph control camera len expos light record materi requir amount photographi light form latent imag  plate film  raw file  digit camera   appropri process  convert usabl imag', 'photograph  photographi monochrom color  captur display two side side imag emul human stereoscop vision', 'photograph control photographi camera len expos light record materi side side imag emul human stereoscop vision', 'electromagnet radiat  either photographi electron mean imag sensor  chemic mean light sensit photographi materi photograph film', 'geographi field scienc devot studi land  featur  inhabit  phenomena earth planet', 'latter examin natur environ  geographi organ  climat  soil  water  landform produc interact', 'physic geographi  physiographi  focus geographi earth scienc', 'natur environ  organ  climat  soil  water  landform produc interact geographi earth scienc', 'featur  inhabit  phenomena earth geographi planet latter examin natur environ  organ', 'comput scienc  sometim call comput scienc comput scienc  confus comput scienc softwar engin  studi process interact data repres data form program', 'program languag theori consid approach descript comput process  comput program involv use program languag complex system', 'comput scienc focus method involv design  specif  program  verif  implement test human made comput system', 'comput scienc  sometim call comput scienc comput scienc  program  verif  implement test human made comput system', 'comput scienc focus method involv design  comput process  comput program involv use program languag complex system', 'histori umbrella term relat past event well memori  discoveri  collect  organ  present  histori interpret inform event  scholar write histori call historian', 'histori also includ academ disciplin use narrat examin analys sequenc past event  histori object determin pattern caus effect determin', 'modern studi histori wide rang  includ studi specif region studi certain topic themat element histor investig  often histori taught part primari secondari educ  academ studi histori major disciplin univers studi', 'histori wide rang  includ studi specif region  examin analys sequenc past event  object determin pattern histori caus effect determin', 'interpret inform event  scholar write histori call historian  histori studi specif region']\n"
          ],
          "name": "stdout"
        }
      ]
    },
    {
      "cell_type": "markdown",
      "metadata": {
        "id": "aVTySM858cnb",
        "colab_type": "text"
      },
      "source": [
        "## Building documents' dictionary "
      ]
    },
    {
      "cell_type": "code",
      "metadata": {
        "id": "IeOAvSyiSvJJ",
        "colab_type": "code",
        "outputId": "86b2b6a7-2ba2-4c62-e1c8-667ce43dee06",
        "colab": {
          "base_uri": "https://localhost:8080/",
          "height": 74
        }
      },
      "source": [
        "dictionary = {}\n",
        "counter = 0\n",
        "for document in filtered_documents: \n",
        "  splitted_document = document.split(' ')\n",
        "  for word in splitted_document: \n",
        "    if (word not in dictionary.keys() and (not word.isspace()) and word):\n",
        "      dictionary[word] = counter\n",
        "      counter += 1\n",
        "\n",
        "print (\"Words present in documents after data preprocessing: \")      \n",
        "print (dictionary)      "
      ],
      "execution_count": 12,
      "outputs": [
        {
          "output_type": "stream",
          "text": [
            "Words present in documents after data preprocessing: \n",
            "{'earli': 0, 'astronomi': 1, 'consist': 2, 'map': 3, 'posit': 4, 'star': 5, 'planet': 6, 'scienc': 7, 'refer': 8, 'astrometri': 9, 'object': 10, 'interest': 11, 'includ': 12, 'moon': 13, 'nebula': 14, 'galaxi': 15, 'comet': 16, 'book': 17, 'fix': 18, '964': 19, 'andromeda': 20, 'largest': 21, 'local': 22, 'group': 23, 'describ': 24, 'persian': 25, 'muslim': 26, 'astronom': 27, 'abd': 28, 'al': 29, 'rahman': 30, 'sufi': 31, 'biolog': 32, 'recogn': 33, 'cell': 34, 'basic': 35, 'unit': 36, 'life': 37, 'gene': 38, 'hered': 39, 'evolut': 40, 'engin': 41, 'propel': 42, 'creation': 43, 'extinct': 44, 'speci': 45, 'mitochondria': 46, 'chloroplast': 47, 'locat': 48, 'collect': 49, 'known': 50, 'genom': 51, 'set': 52, 'chromosom': 53, 'ani': 54, 'hereditari': 55, 'inform': 56, 'found': 57, 'encod': 58, 'need': 59, 'synthesi': 60, 'protein': 61, 'turn': 62, 'play': 63, 'central': 64, 'role': 65, 'influenc': 66, 'final': 67, 'phenotyp': 68, 'organ': 69, 'chloroplat': 70, 'chemistri': 71, 'address': 72, 'topic': 73, 'atom': 74, 'molecul': 75, 'interact': 76, 'via': 77, 'chemic': 78, 'bond': 79, 'form': 80, 'new': 81, 'compound': 82, 'scientif': 83, 'disciplin': 84, 'involv': 85, 'element': 86, 'compos': 87, 'ion': 88, 'composit': 89, 'structur': 90, 'properti': 91, 'behavior': 92, 'chang': 93, 'undergo': 94, 'dure': 95, 'reaction': 96, 'substanc': 97, 'coval': 98, 'one': 99, 'pair': 100, 'valenc': 101, 'electron': 102, 'share': 103, 'two': 104, 'result': 105, 'electr': 106, 'neutral': 107, 'term': 108, 'physic': 109, 'natur': 110, 'studi': 111, 'matter': 112, 'motion': 113, 'space': 114, 'time': 115, 'relat': 116, 'entiti': 117, 'energi': 118, 'forc': 119, 'classic': 120, 'general': 121, 'concern': 122, 'normal': 123, 'scale': 124, 'observ': 125, 'much': 126, 'modern': 127, 'extrem': 128, 'condit': 129, 'veri': 130, 'larg': 131, 'small': 132, 'contemporari': 133, 'research': 134, 'broad': 135, 'divid': 136, 'nuclear': 137, 'particl': 138, 'condens': 139, 'molecular': 140, 'optic': 141, 'astrophys': 142, 'appli': 143, 'philosophi': 144, 'fundament': 145, 'question': 146, 'exist': 147, 'knowledg': 148, 'valu': 149, 'reason': 150, 'mind': 151, 'languag': 152, 'philosoph': 153, 'also': 154, 'pose': 155, 'practic': 156, 'concret': 157, 'best': 158, 'way': 159, 'live': 160, 'god': 161, 'issu': 162, 'relationship': 163, 'faith': 164, 'religi': 165, 'epistemolog': 166, 'religion': 167, 'interpret': 168, 'experi': 169, 'possibl': 170, 'afterlif': 171, 'problem': 172, 'soul': 173, 'respons': 174, 'plural': 175, 'divers': 176, 'today': 177, 'rang': 178, 'field': 179, 'examin': 180, 'economi': 181, 'revolv': 182, 'around': 183, 'social': 184, 'econom': 185, 'may': 186, 'sociolog': 187, 'histori': 188, 'anthropolog': 189, 'geographi': 190, 'area': 191, 'product': 192, 'distribut': 193, 'trade': 194, 'well': 195, 'consumpt': 196, 'good': 197, 'servic': 198, 'differ': 199, 'agent': 200, 'market': 201, 'base': 202, 'produc': 203, 'exchang': 204, 'accord': 205, 'demand': 206, 'suppli': 207, 'particip': 208, 'barter': 209, 'medium': 210, 'credit': 211, 'debit': 212, 'accept': 213, 'within': 214, 'network': 215, 'currenc': 216, 'photographi': 217, 'art': 218, 'applic': 219, 'creat': 220, 'durabl': 221, 'imag': 222, 'record': 223, 'light': 224, 'electromagnet': 225, 'radiat': 226, 'either': 227, 'mean': 228, 'sensor': 229, 'sensit': 230, 'materi': 231, 'photograph': 232, 'film': 233, 'control': 234, 'camera': 235, 'len': 236, 'expos': 237, 'requir': 238, 'amount': 239, 'latent': 240, 'plate': 241, 'raw': 242, 'file': 243, 'digit': 244, 'appropri': 245, 'process': 246, 'convert': 247, 'usabl': 248, 'monochrom': 249, 'color': 250, 'captur': 251, 'display': 252, 'side': 253, 'emul': 254, 'human': 255, 'stereoscop': 256, 'vision': 257, 'devot': 258, 'land': 259, 'featur': 260, 'inhabit': 261, 'phenomena': 262, 'earth': 263, 'latter': 264, 'environ': 265, 'climat': 266, 'soil': 267, 'water': 268, 'landform': 269, 'physiographi': 270, 'focus': 271, 'comput': 272, 'sometim': 273, 'call': 274, 'confus': 275, 'softwar': 276, 'data': 277, 'repres': 278, 'program': 279, 'theori': 280, 'consid': 281, 'approach': 282, 'descript': 283, 'use': 284, 'complex': 285, 'system': 286, 'method': 287, 'design': 288, 'specif': 289, 'verif': 290, 'implement': 291, 'test': 292, 'made': 293, 'umbrella': 294, 'past': 295, 'event': 296, 'memori': 297, 'discoveri': 298, 'present': 299, 'scholar': 300, 'write': 301, 'historian': 302, 'academ': 303, 'narrat': 304, 'analys': 305, 'sequenc': 306, 'determin': 307, 'pattern': 308, 'caus': 309, 'effect': 310, 'wide': 311, 'region': 312, 'certain': 313, 'themat': 314, 'histor': 315, 'investig': 316, 'often': 317, 'taught': 318, 'part': 319, 'primari': 320, 'secondari': 321, 'educ': 322, 'major': 323, 'univers': 324}\n"
          ],
          "name": "stdout"
        }
      ]
    },
    {
      "cell_type": "markdown",
      "metadata": {
        "id": "b1ibnIbjXDgi",
        "colab_type": "text"
      },
      "source": [
        "After building a dictionary with all words encountered in documents, each word will be replaced by its corresponding dictionary value. "
      ]
    },
    {
      "cell_type": "code",
      "metadata": {
        "id": "7PmwgJpTXGv8",
        "colab_type": "code",
        "colab": {}
      },
      "source": [
        "documents = [] \n",
        "for document in filtered_documents:\n",
        "  document_data = []\n",
        "  splitted_document = document.split(' ')\n",
        "  for word in splitted_document:\n",
        "    if ((not word.isspace()) and word):\n",
        "      document_data.append(dictionary[word])\n",
        "  documents.append(document_data)    "
      ],
      "execution_count": 0,
      "outputs": []
    },
    {
      "cell_type": "markdown",
      "metadata": {
        "id": "DNrQKiGg9T0_",
        "colab_type": "text"
      },
      "source": [
        "## Removing words which appear less than 2 times "
      ]
    },
    {
      "cell_type": "markdown",
      "metadata": {
        "id": "StQJ98jBDBqP",
        "colab_type": "text"
      },
      "source": [
        "Compute words frequencies for all the documents put together.  "
      ]
    },
    {
      "cell_type": "code",
      "metadata": {
        "id": "ZY1DZJqQGPWY",
        "colab_type": "code",
        "outputId": "f106a046-49d2-4c9e-dc59-775534bbec1d",
        "colab": {
          "base_uri": "https://localhost:8080/",
          "height": 55
        }
      },
      "source": [
        "full_corpus = [] \n",
        "for index in range(len(documents)):\n",
        "  full_corpus = full_corpus + documents[index]  \n",
        "\n",
        "print (full_corpus)  \n",
        "words, frequencies = np.unique(full_corpus, return_counts=True)"
      ],
      "execution_count": 14,
      "outputs": [
        {
          "output_type": "stream",
          "text": [
            "[0, 1, 2, 3, 4, 1, 5, 6, 1, 7, 8, 9, 10, 11, 1, 12, 6, 13, 5, 14, 15, 16, 1, 17, 18, 5, 1, 19, 20, 15, 1, 21, 15, 22, 23, 24, 1, 25, 26, 27, 28, 29, 30, 29, 31, 17, 18, 5, 1, 1, 5, 6, 9, 6, 13, 5, 1, 1, 21, 15, 22, 23, 8, 9, 15, 27, 18, 5, 1, 1, 17, 18, 5, 1, 21, 15, 2, 3, 4, 1, 5, 6, 1, 7, 32, 33, 34, 35, 36, 37, 38, 35, 36, 39, 40, 41, 42, 43, 44, 45, 46, 47, 48, 49, 50, 34, 51, 32, 52, 32, 53, 34, 54, 55, 56, 57, 46, 47, 48, 49, 50, 34, 51, 32, 35, 36, 39, 38, 58, 32, 56, 59, 34, 60, 61, 62, 63, 64, 65, 66, 67, 68, 69, 32, 32, 33, 34, 35, 36, 37, 38, 35, 36, 39, 32, 38, 37, 40, 32, 41, 45, 45, 61, 32, 33, 34, 35, 36, 37, 38, 35, 36, 39, 32, 46, 70, 32, 51, 34, 69, 32, 38, 37, 40, 32, 41, 45, 45, 61, 71, 72, 73, 74, 75, 76, 77, 78, 79, 80, 81, 78, 82, 71, 83, 84, 85, 86, 82, 87, 74, 71, 75, 88, 89, 90, 91, 92, 93, 94, 95, 96, 97, 98, 79, 71, 99, 100, 101, 102, 103, 104, 74, 105, 106, 107, 23, 79, 74, 108, 75, 71, 72, 73, 74, 86, 82, 87, 74, 75, 71, 88, 89, 90, 91, 71, 83, 84, 85, 86, 82, 87, 74, 105, 71, 106, 107, 23, 79, 74, 108, 75, 109, 110, 7, 111, 112, 113, 92, 114, 115, 111, 116, 117, 118, 119, 120, 109, 121, 122, 112, 118, 123, 124, 125, 126, 127, 109, 122, 92, 112, 118, 128, 129, 130, 131, 130, 132, 124, 133, 134, 109, 135, 136, 137, 138, 109, 139, 112, 109, 74, 140, 141, 109, 142, 143, 109, 109, 110, 7, 111, 112, 118, 123, 124, 125, 126, 109, 74, 140, 141, 133, 134, 109, 135, 136, 137, 138, 109, 126, 127, 109, 117, 118, 119, 144, 111, 121, 145, 146, 147, 148, 149, 150, 151, 152, 153, 154, 155, 156, 157, 146, 158, 159, 160, 147, 161, 144, 146, 162, 12, 147, 161, 144, 163, 150, 164, 146, 144, 165, 166, 163, 167, 7, 168, 165, 169, 146, 170, 171, 172, 165, 152, 147, 173, 174, 165, 175, 176, 162, 144, 12, 147, 161, 163, 150, 164, 148, 149, 150, 151, 152, 144, 158, 159, 160, 144, 111, 121, 146, 147, 144, 177, 178, 179, 111, 180, 181, 182, 183, 184, 7, 185, 186, 12, 187, 185, 187, 188, 185, 188, 189, 185, 189, 190, 185, 190, 181, 191, 192, 193, 194, 195, 196, 197, 198, 199, 200, 201, 202, 181, 99, 197, 198, 203, 204, 205, 206, 207, 208, 185, 200, 209, 210, 204, 211, 212, 149, 213, 214, 215, 36, 216, 181, 191, 192, 193, 194, 204, 205, 206, 207, 208, 185, 200, 194, 195, 196, 197, 198, 199, 200, 185, 187, 188, 185, 188, 189, 185, 189, 190, 185, 190, 217, 218, 219, 156, 220, 221, 222, 223, 224, 225, 226, 227, 217, 102, 228, 222, 229, 78, 228, 224, 230, 231, 232, 233, 217, 232, 234, 235, 236, 237, 224, 223, 231, 238, 239, 217, 224, 80, 240, 222, 241, 233, 242, 243, 244, 235, 245, 246, 247, 248, 222, 232, 217, 249, 250, 251, 252, 104, 253, 253, 222, 254, 255, 256, 257, 232, 234, 217, 235, 236, 237, 224, 223, 231, 253, 253, 222, 254, 255, 256, 257, 225, 226, 227, 217, 102, 228, 222, 229, 78, 228, 224, 230, 217, 231, 232, 233, 190, 179, 7, 258, 111, 259, 260, 261, 262, 263, 6, 264, 180, 110, 265, 190, 69, 266, 267, 268, 269, 203, 76, 109, 190, 270, 271, 190, 263, 7, 110, 265, 69, 266, 267, 268, 269, 203, 76, 190, 263, 7, 260, 261, 262, 263, 190, 6, 264, 180, 110, 265, 69, 272, 7, 273, 274, 272, 7, 272, 7, 275, 272, 7, 276, 41, 111, 246, 76, 277, 278, 277, 80, 279, 279, 152, 280, 281, 282, 283, 272, 246, 272, 279, 85, 284, 279, 152, 285, 286, 272, 7, 271, 287, 85, 288, 289, 279, 290, 291, 292, 255, 293, 272, 286, 272, 7, 273, 274, 272, 7, 272, 7, 279, 290, 291, 292, 255, 293, 272, 286, 272, 7, 271, 287, 85, 288, 272, 246, 272, 279, 85, 284, 279, 152, 285, 286, 188, 294, 108, 116, 295, 296, 195, 297, 298, 49, 69, 299, 188, 168, 56, 296, 300, 301, 188, 274, 302, 188, 154, 12, 303, 84, 284, 304, 180, 305, 306, 295, 296, 188, 10, 307, 308, 309, 310, 307, 127, 111, 188, 311, 178, 12, 111, 289, 312, 111, 313, 73, 314, 86, 315, 316, 317, 188, 318, 319, 320, 321, 322, 303, 111, 188, 323, 84, 324, 111, 188, 311, 178, 12, 111, 289, 312, 180, 305, 306, 295, 296, 10, 307, 308, 188, 309, 310, 307, 168, 56, 296, 300, 301, 188, 274, 302, 188, 111, 289, 312]\n"
          ],
          "name": "stdout"
        }
      ]
    },
    {
      "cell_type": "markdown",
      "metadata": {
        "id": "rVyXnT8oDLsf",
        "colab_type": "text"
      },
      "source": [
        "Remove words that have frequency less than 2. "
      ]
    },
    {
      "cell_type": "code",
      "metadata": {
        "id": "HGaugjt1G1ZE",
        "colab_type": "code",
        "outputId": "c5c86d76-6ac2-4bb2-9478-d4e3c6581886",
        "colab": {
          "base_uri": "https://localhost:8080/",
          "height": 55
        }
      },
      "source": [
        "final_documents = []\n",
        "for index_1 in range(len(documents)):\n",
        "  document = [] \n",
        "  for index_2 in range(len(documents[index_1])):\n",
        "    if frequencies[documents[index_1][index_2]] >= 2: \n",
        "      document.append(documents[index_1][index_2])\n",
        "  final_documents.append(document)    \n",
        "\n",
        "print (final_documents)      \n"
      ],
      "execution_count": 15,
      "outputs": [
        {
          "output_type": "stream",
          "text": [
            "[[1, 2, 3, 4, 1, 5, 6, 1, 7, 8, 9], [10, 1, 12, 6, 13, 5, 15, 1, 17, 18, 5, 1], [15, 1, 21, 15, 22, 23, 1, 27, 29, 29, 17, 18, 5, 1], [1, 5, 6, 9, 6, 13, 5, 1, 1, 21, 15, 22, 23, 8, 9], [15, 27, 18, 5, 1, 1, 17, 18, 5, 1, 21, 15, 2, 3, 4, 1, 5, 6, 1, 7], [32, 33, 34, 35, 36, 37, 38, 35, 36, 39, 40, 41, 45, 46, 47, 48, 49, 50, 34, 51, 32], [32, 34, 56, 46, 47, 48, 49, 50, 34, 51, 32, 35, 36, 39], [38, 32, 56, 34, 61, 69, 32, 32, 33, 34, 35, 36, 37, 38, 35, 36, 39], [32, 38, 37, 40, 32, 41, 45, 45, 61, 32, 33, 34, 35, 36, 37, 38, 35, 36, 39], [32, 46, 32, 51, 34, 69, 32, 38, 37, 40, 32, 41, 45, 45, 61], [71, 72, 73, 74, 75, 76, 78, 79, 80, 78, 82], [71, 83, 84, 85, 86, 82, 87, 74, 71, 75, 88, 89, 90, 91, 92], [79, 71, 99, 102, 104, 74, 105, 106, 107, 23, 79, 74, 108, 75], [71, 72, 73, 74, 86, 82, 87, 74, 75, 71, 88, 89, 90, 91], [71, 83, 84, 85, 86, 82, 87, 74, 105, 71, 106, 107, 23, 79, 74, 108, 75], [109, 110, 7, 111, 112, 92, 111, 116, 117, 118, 119], [109, 121, 122, 112, 118, 123, 124, 125, 126, 127, 109, 122, 92, 112, 118, 130, 130, 124], [133, 134, 109, 135, 136, 137, 138, 109, 112, 109, 74, 140, 141, 109, 109], [109, 110, 7, 111, 112, 118, 123, 124, 125, 126, 109, 74, 140, 141], [133, 134, 109, 135, 136, 137, 138, 109, 126, 127, 109, 117, 118, 119], [144, 111, 121, 146, 147, 148, 149, 150, 151, 152], [154, 156, 146, 158, 159, 160, 147, 161, 144, 146], [162, 12, 147, 161, 144, 163, 150, 164, 146, 144, 165, 163, 7, 168, 165, 146, 165, 152, 147, 165], [162, 144, 12, 147, 161, 163, 150, 164, 148, 149, 150, 151, 152, 144], [158, 159, 160, 144, 111, 121, 146, 147, 144], [178, 179, 111, 180, 181, 7, 185, 12, 187, 185, 187, 188, 185, 188, 189, 185, 189, 190, 185, 190], [181, 191, 192, 193, 194, 195, 196, 197, 198, 199, 200], [181, 99, 197, 198, 203, 204, 205, 206, 207, 208, 185, 200, 204, 149, 36], [181, 191, 192, 193, 194, 204, 205, 206, 207, 208, 185, 200], [194, 195, 196, 197, 198, 199, 200, 185, 187, 188, 185, 188, 189, 185, 189, 190, 185, 190], [217, 156, 222, 223, 224, 225, 226, 227, 217, 102, 228, 222, 229, 78, 228, 224, 230, 231, 232, 233], [217, 232, 234, 235, 236, 237, 224, 223, 231, 217, 224, 80, 222, 233, 235, 246, 222], [232, 217, 104, 253, 253, 222, 254, 255, 256, 257], [232, 234, 217, 235, 236, 237, 224, 223, 231, 253, 253, 222, 254, 255, 256, 257], [225, 226, 227, 217, 102, 228, 222, 229, 78, 228, 224, 230, 217, 231, 232, 233], [190, 179, 7, 111, 260, 261, 262, 263, 6], [264, 180, 110, 265, 190, 69, 266, 267, 268, 269, 203, 76], [109, 190, 271, 190, 263, 7], [110, 265, 69, 266, 267, 268, 269, 203, 76, 190, 263, 7], [260, 261, 262, 263, 190, 6, 264, 180, 110, 265, 69], [272, 7, 273, 274, 272, 7, 272, 7, 272, 7, 41, 111, 246, 76, 277, 277, 80, 279], [279, 152, 272, 246, 272, 279, 85, 284, 279, 152, 285, 286], [272, 7, 271, 287, 85, 288, 289, 279, 290, 291, 292, 255, 293, 272, 286], [272, 7, 273, 274, 272, 7, 272, 7, 279, 290, 291, 292, 255, 293, 272, 286], [272, 7, 271, 287, 85, 288, 272, 246, 272, 279, 85, 284, 279, 152, 285, 286], [188, 108, 116, 295, 296, 195, 49, 69, 188, 168, 56, 296, 300, 301, 188, 274, 302], [188, 154, 12, 303, 84, 284, 180, 305, 306, 295, 296, 188, 10, 307, 308, 309, 310, 307], [127, 111, 188, 311, 178, 12, 111, 289, 312, 111, 73, 86, 188, 303, 111, 188, 84, 111], [188, 311, 178, 12, 111, 289, 312, 180, 305, 306, 295, 296, 10, 307, 308, 188, 309, 310, 307], [168, 56, 296, 300, 301, 188, 274, 302, 188, 111, 289, 312]]\n"
          ],
          "name": "stdout"
        }
      ]
    },
    {
      "cell_type": "markdown",
      "metadata": {
        "id": "IJX6NFtGGP7E",
        "colab_type": "text"
      },
      "source": [
        "# Plots for words frequencies \n",
        "\n",
        "After finishing up with all data processing, we plot for each topic words frequencies, having on the OX axis the corresponding index (according to the word dictionary) and on the OY axis word frequency. "
      ]
    },
    {
      "cell_type": "code",
      "metadata": {
        "id": "RIWnYqKqU6TS",
        "colab_type": "code",
        "outputId": "5767ad12-e226-4a2a-a5a1-1bbd7e40cb73",
        "colab": {
          "base_uri": "https://localhost:8080/",
          "height": 1000
        }
      },
      "source": [
        "for topic in range(10):\n",
        "  all_documents = final_documents[topic * 5] + final_documents[topic * 5 + 1] + final_documents[topic * 5 + 2] + final_documents[topic * 5 + 3] + final_documents[topic * 5 + 4]\n",
        "  values = np.unique(all_documents)\n",
        "  frequencies = np.bincount(all_documents)\n",
        "  min_index = values[0]\n",
        "  max_index = values[-1] + 1\n",
        "  plt.figure(topic)\n",
        "  plt.title('Topic %d' % (topic))\n",
        "  plt.xlabel('Word index')\n",
        "  plt.ylabel('Word frequency')\n",
        "  plt.hist(all_documents, bins=300)\n",
        "  plt.show()\n"
      ],
      "execution_count": 16,
      "outputs": [
        {
          "output_type": "display_data",
          "data": {
            "image/png": "[encoded data removed]",
            "text/plain": [
              "<Figure size 432x288 with 1 Axes>"
            ]
          },
          "metadata": {
            "tags": []
          }
        },
        {
          "output_type": "display_data",
          "data": {
            "image/png": "[encoded data removed]",
            "text/plain": [
              "<Figure size 432x288 with 1 Axes>"
            ]
          },
          "metadata": {
            "tags": []
          }
        },
        {
          "output_type": "display_data",
          "data": {
            "image/png": "[encoded data removed]",
            "text/plain": [
              "<Figure size 432x288 with 1 Axes>"
            ]
          },
          "metadata": {
            "tags": []
          }
        },
        {
          "output_type": "display_data",
          "data": {
            "image/png": "[encoded data removed]",
            "text/plain": [
              "<Figure size 432x288 with 1 Axes>"
            ]
          },
          "metadata": {
            "tags": []
          }
        },
        {
          "output_type": "display_data",
          "data": {
            "image/png": "[encoded data removed]",
            "text/plain": [
              "<Figure size 432x288 with 1 Axes>"
            ]
          },
          "metadata": {
            "tags": []
          }
        },
        {
          "output_type": "display_data",
          "data": {
            "image/png": "[encoded data removed]",
            "text/plain": [
              "<Figure size 432x288 with 1 Axes>"
            ]
          },
          "metadata": {
            "tags": []
          }
        },
        {
          "output_type": "display_data",
          "data": {
            "image/png": "[encoded data removed]",
            "text/plain": [
              "<Figure size 432x288 with 1 Axes>"
            ]
          },
          "metadata": {
            "tags": []
          }
        },
        {
          "output_type": "display_data",
          "data": {
            "image/png": "[encoded data removed]",
            "text/plain": [
              "<Figure size 432x288 with 1 Axes>"
            ]
          },
          "metadata": {
            "tags": []
          }
        },
        {
          "output_type": "display_data",
          "data": {
            "image/png": "[encoded data removed]",
            "text/plain": [
              "<Figure size 432x288 with 1 Axes>"
            ]
          },
          "metadata": {
            "tags": []
          }
        },
        {
          "output_type": "display_data",
          "data": {
            "image/png": "[encoded data removed]",
            "text/plain": [
              "<Figure size 432x288 with 1 Axes>"
            ]
          },
          "metadata": {
            "tags": []
          }
        }
      ]
    },
    {
      "cell_type": "markdown",
      "metadata": {
        "id": "FaLh16_88sWz",
        "colab_type": "text"
      },
      "source": [
        "# LDA \n",
        "\n",
        "The actual part for solving Latent Dirichlet allocation. \n",
        "For the next part, variables have the following meanings: \n",
        "* K - number of topics (in this case 10) \n",
        "* M - number of words in our dictionary \n",
        "* N - number of documents present in the dataset \n",
        "* phi - distribution of words over each topic\n",
        "* theta - words distribution for each topic \n",
        "* z - an array for each document with topic assignments for each word (in this case between 0 and 9) \n",
        "\n"
      ]
    },
    {
      "cell_type": "markdown",
      "metadata": {
        "id": "ug1_5F6MlByN",
        "colab_type": "text"
      },
      "source": [
        "For finding the best alpha and beta parameters, I've run an exhaustive search over [0.2, 0.3, ..., 0.9] x [0.2, 0.3, ..., 0.9]. After the first trial, I've noticed that better results happen when beta and alpha have values equal (or almost equal) to one another. \n",
        "\n",
        "Thus, I've run another exhaustive search for finding the best value between 0.1 and 1 for alpha and beta (see exhaustive_search method). \n",
        "\n",
        "After sampling, I've taken the last trace for each topic and printed top 10 words (by probability) for each topic (using sort_keys method).  "
      ]
    },
    {
      "cell_type": "code",
      "metadata": {
        "id": "lKybT8byaybq",
        "colab_type": "code",
        "colab": {}
      },
      "source": [
        "def sort_keys(val):\n",
        "  return val[0]"
      ],
      "execution_count": 0,
      "outputs": []
    },
    {
      "cell_type": "code",
      "metadata": {
        "id": "bRgYXz9BUHL6",
        "colab_type": "code",
        "colab": {}
      },
      "source": [
        "def exhaustive_search(minus): \n",
        "  K = 10 \n",
        "  M = len(dictionary) \n",
        "  N = len(final_documents) \n",
        "\n",
        "  alpha = np.ones(K) - minus\n",
        "  beta = np.ones(M) - minus\n",
        "\n",
        "  theta = pm.Container([pm.CompletedDirichlet(\"theta_%s\" % i, pm.Dirichlet(\"ptheta_%s\" % i, theta=alpha)) for i in range(N)])\n",
        "  phi = pm.Container([pm.CompletedDirichlet(\"phi_%s\" % k, pm.Dirichlet(\"pphi_%s\" % k, theta=beta)) for k in range(K)])\n",
        "  documents_length = [len(document) for document in final_documents]\n",
        "\n",
        "  z = pm.Container([pm.Categorical('z_%i' % d, p = theta[d], size=documents_length[d], \n",
        "                                   value=np.random.randint(K, size=documents_length[d])) for d in range(N)])\n",
        "\n",
        "  w = pm.Container([pm.Categorical(\"w_%i_%i\" % (d,i), p = pm.Lambda('phi_z_%i_%i' % (d,i), lambda z=z[d][i], phi=phi: phi[z]),\n",
        "                                   value=final_documents[d][i], observed=True) for d in range(N) for i in range(documents_length[d])])\n",
        "\n",
        "  model = pm.Model([theta, phi, z, w])\n",
        "  mcmc = pm.MCMC(model)\n",
        "  mcmc.sample(3000, 1000)\n",
        "\n",
        "  print (\"For alpha = %s beta = %s\" %(1 - minus, 1 - minus))\n",
        "  for k in range(K):\n",
        "    v = (mcmc.trace('phi_%s'%k)[1999])\n",
        "    zipped = list(zip(v[0], (list(dictionary.keys()))))\n",
        "    zipped.sort(key=sort_keys, reverse=True)\n",
        "    print (\"Topic %i\" %k, zipped[:10])"
      ],
      "execution_count": 0,
      "outputs": []
    },
    {
      "cell_type": "markdown",
      "metadata": {
        "id": "MyQqm3Iu2WfC",
        "colab_type": "text"
      },
      "source": [
        "From this exhaustive search, it can be observed that alpha = 0.7 and beta = 0.7 seemed to be the most appropriate values for clustering together word from the same topic. \n",
        "\n",
        "For example, with those values, topic 1 has in its top 10 words (by probability) the following: \"forc\", \"physic\", \"system\", \"condens\" (all of them meant to be part of the Physics topic at the beginning).  \n",
        "Furthermore, topic 8 gathers together words such as \"univers\", \"astronom\", \"astromeri\" in its top 10, and all of the other topics seem to have quite more sense than the other experiments for different alpha/beta values. \n",
        "\n",
        "Since this dataset has a limited number of documents (30), each one of them with a modest number of words and 10 possible topics, I believe that even managing to cluster together a couple of words from the same topic is a great result.  "
      ]
    },
    {
      "cell_type": "code",
      "metadata": {
        "id": "t0-OkDmNUgwk",
        "colab_type": "code",
        "outputId": "6ee5e306-af17-48bd-b22a-1b1ef8426b6e",
        "colab": {
          "base_uri": "https://localhost:8080/",
          "height": 1000
        }
      },
      "source": [
        "minus = [0, 0.1, 0.2, 0.3, 0.4, 0.5, 0.6, 0.7, 0.8]\n",
        "for i in range(len(minus)):\n",
        "    exhaustive_search(minus[i])"
      ],
      "execution_count": 28,
      "outputs": [
        {
          "output_type": "stream",
          "text": [
            " [-----------------100%-----------------] 3000 of 3000 complete in 137.5 secFor alpha = 1 beta = 1\n",
            "Topic 0 [(0.02338559621700934, 'ani'), (0.021884562408408945, 'optic'), (0.020015093578468354, 'determin'), (0.019834441310813047, 'digit'), (0.019300515722513695, 'unit'), (0.01778032372368935, 'scienc'), (0.016792833989428827, 'local'), (0.015697274246834116, 'posit'), (0.014279734593507324, 'book'), (0.013980916110585767, 'languag')]\n",
            "Topic 1 [(0.024215611187753203, 'part'), (0.02119571362900593, 'veri'), (0.01763776577312541, 'scientif'), (0.01738472855675022, 'stereoscop'), (0.017110629176471635, 'rahman'), (0.015026779101719212, 'particip'), (0.014902093475462294, 'languag'), (0.014160510050011175, 'studi'), (0.013861085248798675, 'practic'), (0.01337127364488359, 'speci')]\n",
            "Topic 2 [(0.04288526285788238, 'concret'), (0.027586424858071786, 'captur'), (0.02074456095534177, 'chemic'), (0.018196341716028446, 'econom'), (0.01801913870479484, 'includ'), (0.017781960882271765, 'earli'), (0.017414695574661035, 'wide'), (0.016855331605563312, 'academ'), (0.01672759210396318, 'debit'), (0.014767865588559302, 'experi')]\n",
            "Topic 3 [(0.021013929208839186, 'live'), (0.019273090721491904, 'ion'), (0.019232571261017163, 'histori'), (0.018115849637833494, 'film'), (0.017232149491550178, 'map'), (0.014570451440659075, 'geographi'), (0.013171345823788136, 'god'), (0.012764582105601295, 'life'), (0.011250111278150378, 'properti'), (0.011172852788234386, 'genom')]\n",
            "Topic 4 [(0.02534870373800963, 'locat'), (0.025060092865831538, 'problem'), (0.023230267101293237, 'environ'), (0.02083337053654795, 'set'), (0.017559943111351835, 'around'), (0.017464461898861253, 'implement'), (0.017034519309307692, 'motion'), (0.016762325097878505, 'mitochondria'), (0.016343084732661592, 'extrem'), (0.01545011648382116, 'term')]\n",
            "Topic 5 [(0.024061348987382814, 'cell'), (0.020532000904450606, 'need'), (0.01918688051729891, 'scienc'), (0.01721088787956812, 'atom'), (0.016202384286150277, 'matter'), (0.015651952341799995, 'condens'), (0.015009796409910408, 'particl'), (0.014572009631969376, 'abd'), (0.01402346502233719, 'chromosom'), (0.012504828221527833, 'accept')]\n",
            "Topic 6 [(0.02227361852866447, 'interpret'), (0.0217393980228825, 'phenotyp'), (0.018065071936985127, 'observ'), (0.017585334359926603, 'made'), (0.01727517538019347, 'research'), (0.01608927817641898, 'trade'), (0.015171016442120558, 'materi'), (0.01349974928870547, 'map'), (0.013484610384810974, 'ion'), (0.012788842814176039, 'also')]\n",
            "Topic 7 [(0.023717991185292473, 'issu'), (0.02120233342401914, 'pose'), (0.020946570192713038, 'scholar'), (0.020861283268371476, 'educ'), (0.020107083210797724, 'collect'), (0.017588753068216667, 'god'), (0.017588491017467203, 'basic'), (0.01683255022642426, 'divid'), (0.015925721353866426, 'speci'), (0.015390779034256142, 'practic')]\n",
            "Topic 8 [(0.02264578769363617, 'divid'), (0.021460817141810095, 'materi'), (0.020029070834693474, 'creation'), (0.019639770650726175, 'design'), (0.01852600277973212, 'complex'), (0.01724658306936005, 'analys'), (0.016501080086716257, 'disciplin'), (0.016153160966135213, 'latent'), (0.015425617737512252, 'side'), (0.014799475246033375, 'chloroplast')]\n",
            "Topic 9 [(0.027609975036526475, 'muslim'), (0.02058873265601897, 'refer'), (0.018433198117746654, 'studi'), (0.017709001642079312, 'primari'), (0.01665402242623831, 'histor'), (0.016556362699932485, 'imag'), (0.016402072624834344, 'light'), (0.015360382405194418, 'final'), (0.015266074149280563, 'andromeda'), (0.015121496500573204, 'structur')]\n",
            " [-----------------100%-----------------] 3000 of 3000 complete in 130.7 secFor alpha = 0.9 beta = 0.9\n",
            "Topic 0 [(0.025916361106943866, 'divid'), (0.02129171344870674, 'barter'), (0.018972445767455375, 'good'), (0.015789949754222845, 'chloroplat'), (0.014275446308244398, 'atom'), (0.014259145187268257, 'physic'), (0.013568640395406324, 'consist'), (0.01334890773691881, 'al'), (0.012659592196044034, 'accord'), (0.012557516996135732, 'sensit')]\n",
            "Topic 1 [(0.031313329458483356, 'produc'), (0.026866976328368968, 'fix'), (0.025168586722953436, 'share'), (0.01928404731897818, 'mitochondria'), (0.018295444634303354, 'ion'), (0.017906455405057923, 'design'), (0.017866348473909083, 'natur'), (0.01711295981833407, 'philosoph'), (0.016697429526414745, 'use'), (0.016068101004186784, 'astrometri')]\n",
            "Topic 2 [(0.022533417177771818, 'color'), (0.02197669034715331, 'comput'), (0.02006802219252383, 'molecul'), (0.019492961918458084, 'cell'), (0.019424147520227995, 'narrat'), (0.018698454140213292, 'geographi'), (0.016689938701349386, 'inform'), (0.016431654835651864, 'epistemolog'), (0.015026155216509225, 'pattern'), (0.014973314423604, 'fix')]\n",
            "Topic 3 [(0.02581799763376557, 'play'), (0.025787147324902573, 'approach'), (0.01990302288276156, 'faith'), (0.019716160729986023, 'determin'), (0.01884363382601905, 'landform'), (0.018325575639504123, 'past'), (0.017911203316038456, 'event'), (0.015353661431830538, 'secondari'), (0.015333848212194598, 'general'), (0.014061443639331865, 'group')]\n",
            "Topic 4 [(0.03168161991475205, 'group'), (0.027851238024042713, 'natur'), (0.022925391682215635, 'univers'), (0.021746817716972986, 'molecul'), (0.020747167819799774, 'posit'), (0.014500095662327675, 'interpret'), (0.014195466771408696, 'modern'), (0.014094592474959165, 'classic'), (0.013982829755554092, 'two'), (0.013807288442038752, 'wide')]\n",
            "Topic 5 [(0.03671301841378395, 'philosoph'), (0.019798761745357586, 'revolv'), (0.01745887492959112, 'nebula'), (0.016342229201110326, 'radiat'), (0.01618314143623646, 'astronomi'), (0.014984801932551571, 'small'), (0.01454118863051298, 'earli'), (0.013650957545242804, 'cell'), (0.013578436330374569, 'earth'), (0.0135476396789902, 'interact')]\n",
            "Topic 6 [(0.04233282127124801, 'phenomena'), (0.02850816795860034, 'univers'), (0.018667915337411984, 'form'), (0.018322208021291437, 'chloroplast'), (0.018186793621898928, 'debit'), (0.01663233098065522, 'radiat'), (0.01625530998494436, 'rang'), (0.01597609486805549, 'themat'), (0.014890384468555121, 'way'), (0.013400407694949858, 'data')]\n",
            "Topic 7 [(0.029723226468793208, 'languag'), (0.02457661323497787, 'monochrom'), (0.020008180121935584, 'need'), (0.019727245812509397, 'univers'), (0.019116909729033335, 'astronom'), (0.018905132978961098, 'histor'), (0.017985975567293023, 'entiti'), (0.017936874130277912, 'agent'), (0.017308745639885763, 'geographi'), (0.017287287021413408, 'condit')]\n",
            "Topic 8 [(0.022545490109588933, 'evolut'), (0.02211848598952332, 'pose'), (0.020909494470043307, 'astronomi'), (0.019085170190185203, 'agent'), (0.01883569933857374, 'disciplin'), (0.016086674178325083, 'social'), (0.015073965437053137, 'region'), (0.01469296250605381, 'reaction'), (0.014040865989591988, 'secondari'), (0.012674890211550188, 'accept')]\n",
            "Topic 9 [(0.02646271665546798, 'largest'), (0.018759470458007767, 'produc'), (0.01591736511127377, 'motion'), (0.015786814610777262, 'servic'), (0.014079150534894514, 'suppli'), (0.013996883661543506, 'concret'), (0.013713756675820726, 'consid'), (0.013278211010490894, 'bond'), (0.013150739097810931, 'compound'), (0.01301780734455999, 'photograph')]\n",
            " [-----------------100%-----------------] 3000 of 3000 complete in 129.2 secFor alpha = 0.8 beta = 0.8\n",
            "Topic 0 [(0.025299388799191337, 'good'), (0.02173290205635953, 'chemistri'), (0.02118333399152172, 'interact'), (0.020052595725272893, 'question'), (0.02004719359985896, 'univers'), (0.01696995435922718, 'side'), (0.016839027651323796, 'durabl'), (0.014725212477616401, 'observ'), (0.014024997903069117, 'base'), (0.013639520584424508, 'structur')]\n",
            "Topic 1 [(0.03502211262015211, 'chang'), (0.026266271333549373, 'econom'), (0.019138397624395412, 'atom'), (0.018614879803231513, 'earth'), (0.017432482156389484, 'univers'), (0.016118854313108593, 'imag'), (0.015414351604219018, 'devot'), (0.015205089186153143, 'scale'), (0.015108670085168594, 'properti'), (0.01381293794697746, 'fundament')]\n",
            "Topic 2 [(0.03207703860547238, 'languag'), (0.027242033620434133, 'scientif'), (0.02229678198757968, 'normal'), (0.018610636765340326, 'new'), (0.018460331803663785, 'geographi'), (0.01680480790925256, 'accept'), (0.016056727794469785, 'ani'), (0.016043266036064985, 'univers'), (0.01575088441472861, 'film'), (0.014025149427967254, 'time')]\n",
            "Topic 3 [(0.028233831090912053, 'object'), (0.026556867626847384, 'examin'), (0.022154107009263905, 'made'), (0.019954903081019153, 'certain'), (0.019113206596179044, 'earli'), (0.017209090637798477, 'biolog'), (0.016890496114837575, 'agent'), (0.015775741374392936, '964'), (0.015237748551182744, 'life'), (0.014884427113383435, 'area')]\n",
            "Topic 4 [(0.02295222770200903, 'valenc'), (0.0211283572098066, 'comput'), (0.020361462741021446, 'particip'), (0.019639650913485723, 'pose'), (0.01908856874686553, 'caus'), (0.018721339009530286, 'side'), (0.018640036695735877, 'map'), (0.016608699769410627, 'sometim'), (0.01493056334550822, 'rang'), (0.014843273059329351, 'emul')]\n",
            "Topic 5 [(0.024637511750865166, 'credit'), (0.02227090593809437, 'examin'), (0.0191516131904625, 'structur'), (0.018255539383545155, 'area'), (0.017240553191774522, 'latent'), (0.01639181246191795, 'often'), (0.015801535228529864, 'event'), (0.015648689247324217, 'interpret'), (0.015288549940610999, 'anthropolog'), (0.015086463165040703, 'philosophi')]\n",
            "Topic 6 [(0.02499397013257956, 'compos'), (0.023337928152877174, 'time'), (0.018914785839827288, 'specif'), (0.014716512804752252, 'consist'), (0.014464433471045108, 'genom'), (0.014460495377481347, 'behavior'), (0.01341930555499278, 'human'), (0.013316745006378663, 'record'), (0.013295955094901783, 'latent'), (0.012010579577445843, 'phenotyp')]\n",
            "Topic 7 [(0.025111389260199513, 'chemic'), (0.02154849720043132, 'wide'), (0.019724059436662496, 'usabl'), (0.0192903918330186, 'particip'), (0.017829645018470213, 'posit'), (0.016866387955876496, 'chemistri'), (0.014904039897666343, 'astrometri'), (0.013956153084815652, 'entiti'), (0.01330587089406296, 'chromosom'), (0.012752036580618098, 'creation')]\n",
            "Topic 8 [(0.029662102530726986, 'univers'), (0.02212782085008476, 'caus'), (0.017743702384167444, 'cell'), (0.017005774802014154, 'art'), (0.016071748885276065, 'research'), (0.015385012703347434, 'durabl'), (0.015248642900565528, 'forc'), (0.014980700395754408, 'anthropolog'), (0.014054564981631096, 'educ'), (0.01343969278387141, 'emul')]\n",
            "Topic 9 [(0.030719410783839433, 'themat'), (0.02715516092515435, 'academ'), (0.026779438292147545, 'issu'), (0.023827223862304812, 'studi'), (0.021240204912186412, 'pattern'), (0.020218017953299323, 'region'), (0.01850167230561015, 'natur'), (0.01619876991107578, 'abd'), (0.015867049149749422, 'within'), (0.014870948791563877, 'landform')]\n",
            " [-----------------100%-----------------] 3000 of 3000 complete in 123.8 secFor alpha = 0.7 beta = 0.7\n",
            "Topic 0 [(0.06168926062732649, 'univers'), (0.02746511132589328, 'caus'), (0.025822739329710645, 'play'), (0.02428752400992704, 'write'), (0.023760695870293384, 'design'), (0.02357955821167318, 'compos'), (0.02201878593456291, 'reason'), (0.017854169499497686, 'includ'), (0.01652501529985926, 'umbrella'), (0.016484119109213116, 'knowledg')]\n",
            "Topic 1 [(0.03981749016056098, 'forc'), (0.03225005543262588, 'physic'), (0.026521674607969937, 'climat'), (0.02010332782574644, 'system'), (0.01984119268336957, 'featur'), (0.019167268073848484, 'compound'), (0.017279652866685168, 'gene'), (0.016984872822641574, 'faith'), (0.01349423286659188, 'condens'), (0.01346707649745888, 'economi')]\n",
            "Topic 2 [(0.032041588474951574, 'photograph'), (0.023305737255380765, 'univers'), (0.019214177371338837, 'histori'), (0.019012274678565037, 'rang'), (0.01882276300182307, 'religi'), (0.017031492249168074, 'monochrom'), (0.01702076427176809, 'local'), (0.01644388568287962, 'atom'), (0.014717914503482159, 'particl'), (0.01419246782087275, 'field')]\n",
            "Topic 3 [(0.02976780963149158, 'involv'), (0.025798364428696808, 'organ'), (0.018760807980622542, 'appropri'), (0.01792029622284585, 'focus'), (0.01751053773876715, 'mean'), (0.0170576653182082, 'scienc'), (0.016061323179838338, 'often'), (0.014715097715237338, 'two'), (0.014416990579327852, 'chromosom'), (0.01416435219173695, 'univers')]\n",
            "Topic 4 [(0.030041197127188633, 'also'), (0.02855903287309811, 'particip'), (0.02773453186617557, 'part'), (0.02524968425810296, 'effect'), (0.021954051433000686, 'network'), (0.021544726221879335, 'area'), (0.018369507150203385, 'photographi'), (0.017404351589883005, 'map'), (0.016855813407003664, 'question'), (0.016083683329006213, 'certain')]\n",
            "Topic 5 [(0.0667046984238634, 'univers'), (0.02559369111349347, 'gene'), (0.022244217396148288, 'ani'), (0.020081444052604498, 'debit'), (0.01982120714291259, 'energi'), (0.018084242213680383, 'planet'), (0.015615773374946107, 'philosophi'), (0.014583092345013551, 'program'), (0.0145591425761687, 'light'), (0.01392737014418458, 'live')]\n",
            "Topic 6 [(0.03403141026959923, 'book'), (0.02898997114688796, 'engin'), (0.022720480553673726, 'entiti'), (0.021953037288523488, 'devot'), (0.01973894784051618, 'implement'), (0.01961966936118251, 'electron'), (0.018451843870587657, 'optic'), (0.01534928336277476, 'repres'), (0.015285064895253218, 'inhabit'), (0.015261124494108165, 'structur')]\n",
            "Topic 7 [(0.021370075698333595, 'compos'), (0.019231190495800802, 'larg'), (0.019109925141534378, 'synthesi'), (0.01839104214001136, 'exist'), (0.01815254728904396, 'central'), (0.015567983516987887, 'evolut'), (0.014937522615793054, 'wide'), (0.014310983084092304, 'emul'), (0.01342199364576535, 'sensit'), (0.012933842129991394, 'histor')]\n",
            "Topic 8 [(0.04885720810134564, 'univers'), (0.034378084503951294, 'astronom'), (0.03095725750177523, 'durabl'), (0.01990782928285987, 'nuclear'), (0.019134647226946123, 'religi'), (0.01757280882743217, 'economi'), (0.017491807216413482, 'astrometri'), (0.015169795445075072, 'research'), (0.014850047201900154, 'recogn'), (0.013946533024354798, 'creat')]\n",
            "Topic 9 [(0.04187777388161597, 'term'), (0.035464666503966, 'well'), (0.03379003769976366, 'chemistri'), (0.024617148168089964, 'water'), (0.021664429770590545, 'earth'), (0.01941250188456833, 'basic'), (0.019077337894762413, 'photographi'), (0.017304900519452063, 'historian'), (0.016453816010908947, 'confus'), (0.015920009802136988, 'themat')]\n",
            " [-----------------100%-----------------] 3000 of 3000 complete in 127.3 secFor alpha = 0.6 beta = 0.6\n",
            "Topic 0 [(0.03776526780416777, 'exist'), (0.025626094219447386, 'comet'), (0.02343673765170079, 'andromeda'), (0.02241549887502687, 'histor'), (0.01961911963864276, 'write'), (0.017808764434209236, 'themat'), (0.016863547668525714, 'raw'), (0.01565306475652318, 'interact'), (0.015313261557933404, 'photograph'), (0.014491364453708211, 'effect')]\n",
            "Topic 1 [(0.039397406501072964, 'specif'), (0.023924749567238543, 'made'), (0.019480264163421808, 'persian'), (0.019217149711911966, 'file'), (0.018562198029347877, 'astronomi'), (0.018228433287766285, 'appropri'), (0.017569207771270332, 'produc'), (0.01589803252538832, 'product'), (0.015772526078827988, 'evolut'), (0.015653210329886744, 'sometim')]\n",
            "Topic 2 [(0.03156287675469388, 'knowledg'), (0.03005759380187698, 'religion'), (0.025067854020527577, 'data'), (0.024386665098957386, 'organ'), (0.02228188760667002, 'afterlif'), (0.022217413831341827, 'molecular'), (0.021544054421130103, 'write'), (0.0188384150127201, 'light'), (0.018525401244363342, 'latter'), (0.018129522503110573, 'electron')]\n",
            "Topic 3 [(0.07627445163919222, 'univers'), (0.03676661792981497, 'approach'), (0.030743824501226494, 'philosophi'), (0.024468046506678342, 'trade'), (0.023346730302678243, 'hered'), (0.02265908172261789, 'planet'), (0.020822867995925032, 'durabl'), (0.020400065677186715, 'genom'), (0.01799634123772602, 'interest'), (0.016143057293507727, 'imag')]\n",
            "Topic 4 [(0.04573419563442238, 'univers'), (0.03312794527976153, 'imag'), (0.02534772169627034, 'durabl'), (0.02230600589468536, 'relationship'), (0.021915912815441637, 'present'), (0.021595315353732686, 'comet'), (0.017339713855853187, 'via'), (0.01686056949205524, 'sensit'), (0.015821901769198867, 'chromosom'), (0.015499437300756818, 'anthropolog')]\n",
            "Topic 5 [(0.03038410937293088, 'chloroplast'), (0.027675742044782216, 'region'), (0.02326009437770491, 'emul'), (0.0201480111580404, 'amount'), (0.018961983382152325, 'valenc'), (0.017963499923775925, 'landform'), (0.0164632233302438, 'organ'), (0.01629542978181872, 'materi'), (0.015656315703042607, 'water'), (0.015455255348993975, 'philosoph')]\n",
            "Topic 6 [(0.0425298732608725, 'present'), (0.039152186184718996, 'also'), (0.025669947080580107, 'languag'), (0.024140646905099535, 'good'), (0.02243077245038262, 'molecul'), (0.022376300341001413, 'form'), (0.018992834749754748, 'latent'), (0.016915750400464474, 'unit'), (0.016603466898651446, 'galaxi'), (0.01619229691291012, 'much')]\n",
            "Topic 7 [(0.05562273508759985, 'univers'), (0.03846608590468589, 'good'), (0.024066910390179636, 'comput'), (0.02237382143947739, 'record'), (0.019732776586513002, 'ani'), (0.01930956633833055, 'phenomena'), (0.018489952360931438, 'cell'), (0.014788891337174837, 'map'), (0.014521531846885379, 'side'), (0.014449323608270066, 'larg')]\n",
            "Topic 8 [(0.03325868028907264, 'univers'), (0.02774037106736179, 'major'), (0.027465271335182357, 'applic'), (0.025601068057224743, 'consumpt'), (0.023980496069979658, 'physiographi'), (0.020533373503140023, 'program'), (0.0191545583217157, 'agent'), (0.018897394572172297, 'secondari'), (0.018746854558817673, 'control'), (0.018335468549328927, 'write')]\n",
            "Topic 9 [(0.043844996559502455, 'part'), (0.035312673060280755, 'requir'), (0.029879808875559084, 'latent'), (0.02953011351188689, 'rahman'), (0.02132805881832811, 'protein'), (0.018824008088910996, 'optic'), (0.01830533453261536, 'product'), (0.01649800089144285, 'sociolog'), (0.01581100625705819, 'best'), (0.015248515821421886, 'certain')]\n",
            " [-----------------100%-----------------] 3000 of 3000 complete in 124.9 secFor alpha = 0.5 beta = 0.5\n",
            "Topic 0 [(0.06485328046899608, 'univers'), (0.03651612168460558, 'properti'), (0.02748991168908323, 'role'), (0.022530086572006315, 'theori'), (0.021641332617591, 'normal'), (0.021059022409646126, 'dure'), (0.019528212770850963, 'matter'), (0.01887368056975108, 'creat'), (0.017642543049771763, 'god'), (0.015405005463150243, 'languag')]\n",
            "Topic 1 [(0.07324437021996277, 'univers'), (0.031192957242426437, 'economi'), (0.03110774015000498, 'chemistri'), (0.02515617893430137, 'knowledg'), (0.022993353286417197, 'comput'), (0.022839495845684003, 'galaxi'), (0.020149492849497012, 'group'), (0.01795230914973588, 'agent'), (0.017838962014383505, 'present'), (0.017036274459597194, 'hered')]\n",
            "Topic 2 [(0.028246657481854714, 'compound'), (0.025460350082759667, 'studi'), (0.023459647731493248, 'good'), (0.02274183366615063, 'amount'), (0.02223754030805227, 'mean'), (0.020256586724675372, 'faith'), (0.019933312138735244, 'fundament'), (0.019871838057589367, 'astronom'), (0.018398540575273348, 'univers'), (0.01691871079237829, 'usabl')]\n",
            "Topic 3 [(0.03806903335831008, 'scienc'), (0.032285952880904474, 'econom'), (0.032154800072084225, 'element'), (0.027599146872391855, 'camera'), (0.02671982983734288, 'molecular'), (0.02649787413791916, 'record'), (0.024941172351043123, 'experi'), (0.024720850454942364, 'engin'), (0.02321068924332414, 'field'), (0.01977982739434441, 'undergo')]\n",
            "Topic 4 [(0.08093825332339057, 'network'), (0.02493572999335545, 'comet'), (0.01897571393738325, 'muslim'), (0.017758894914048525, 'group'), (0.01754466843267905, 'present'), (0.017418339688778563, 'determin'), (0.017171877926503515, 'exchang'), (0.016577460379098633, 'hered'), (0.016229447632635674, 'univers'), (0.015234231345719058, 'extinct')]\n",
            "Topic 5 [(0.034824308593743476, 'issu'), (0.034759868168989204, 'star'), (0.024465649429104147, 'term'), (0.022510196433332182, 'bond'), (0.02217272013496911, 'wide'), (0.019608210431827706, 'energi'), (0.01937301188941906, 'valu'), (0.01909317037264167, 'demand'), (0.01889938977157602, 'amount'), (0.018760496225623827, 'neutral')]\n",
            "Topic 6 [(0.07775712484751574, 'univers'), (0.03401216303537273, 'locat'), (0.02606610184584824, 'secondari'), (0.0233224908768219, 'divers'), (0.02327125616197504, 'describ'), (0.0208795717800704, 'dure'), (0.01946335669440768, 'atom'), (0.019326732142484836, 'muslim'), (0.018136089470690776, 'final'), (0.016109957898958072, 'good')]\n",
            "Topic 7 [(0.03485495981220535, 'best'), (0.03320644811643736, 'univers'), (0.028151889571562255, 'plural'), (0.021262387570452325, 'part'), (0.021154284035272794, 'evolut'), (0.020523043581057967, 'refer'), (0.01643729808569881, 'space'), (0.01596383686161891, 'reason'), (0.015830623118784092, 'sometim'), (0.015134221312426477, 'al')]\n",
            "Topic 8 [(0.034604527378398656, 'comet'), (0.03414268177418189, 'univers'), (0.03390835313914825, 'matter'), (0.03260715758580281, 'concern'), (0.02901563837221007, 'atom'), (0.027615543316305266, 'around'), (0.023817913839055658, 'electromagnet'), (0.023431774031986288, 'ion'), (0.023325860686516885, 'address'), (0.021105124993134845, 'involv')]\n",
            "Topic 9 [(0.03297634266942662, 'univers'), (0.030817496846291613, 'fundament'), (0.030613342354331365, 'involv'), (0.029664961974986134, 'inform'), (0.02383340801156282, 'display'), (0.01989947683656804, 'object'), (0.019214954761686092, 'focus'), (0.019187145891548935, 'file'), (0.017286479181669284, 'pattern'), (0.016344986846194478, 'religi')]\n",
            " [-----------------100%-----------------] 3000 of 3000 complete in 117.9 secFor alpha = 0.4 beta = 0.4\n",
            "Topic 0 [(0.049604931036405175, 'univers'), (0.0392058775294501, 'histori'), (0.02810491418802464, 'protein'), (0.02595543161484101, 'often'), (0.022876420509970997, 'set'), (0.019651856862910357, 'region'), (0.018695746716356574, 'experi'), (0.01840059648583772, 'possibl'), (0.018139779508468335, 'appli'), (0.016453041124241546, 'anthropolog')]\n",
            "Topic 1 [(0.04556891963114251, 'univers'), (0.02975956313391275, 'genom'), (0.027654408619392626, 'ani'), (0.027518525502980846, 'monochrom'), (0.02589127017424779, 'consumpt'), (0.02426194745164218, 'chemic'), (0.02373550362258322, 'scale'), (0.018010583841725592, 'encod'), (0.017598708113807367, 'possibl'), (0.016756428962941366, 'color')]\n",
            "Topic 2 [(0.03376592012189012, 'comput'), (0.025784816188584928, 'verif'), (0.01966508306006568, 'classic'), (0.01949720480561101, 'memori'), (0.01904992484073903, 'star'), (0.01877602723548991, 'repres'), (0.01872041279661704, 'inform'), (0.017426694711747296, 'natur'), (0.0170996633052977, 'event'), (0.01708823788060206, 'latter')]\n",
            "Topic 3 [(0.03218136770302122, 'topic'), (0.026083034068378363, 'devot'), (0.025611113217970025, 'hered'), (0.024341291112005985, 'creat'), (0.020428795296198732, 'sociolog'), (0.020309021278414125, 'approach'), (0.018988187814057828, 'speci'), (0.01839805529805926, 'small'), (0.017919929245797536, 'evolut'), (0.0165947561308787, 'control')]\n",
            "Topic 4 [(0.06542082776740292, 'basic'), (0.035358110730531765, 'turn'), (0.03525471229765869, 'divers'), (0.030112847778094032, 'stereoscop'), (0.029090782752045963, 'monochrom'), (0.02870352289532527, 'process'), (0.028420137904939965, 'use'), (0.028324276569015587, 'theori'), (0.023550047971784307, 'broad'), (0.022251594615470837, 'major')]\n",
            "Topic 5 [(0.04363533931656805, 'unit'), (0.0358722367016492, 'part'), (0.033825785775693326, 'pose'), (0.03271879046912288, 'pattern'), (0.031057226418726228, 'posit'), (0.021577108038940987, 'andromeda'), (0.02151544363045526, 'via'), (0.01964458889734666, 'univers'), (0.019424706463376247, 'condens'), (0.017246060989797016, 'planet')]\n",
            "Topic 6 [(0.04675010194323484, 'exist'), (0.04127245416888776, 'revolv'), (0.0388349433105955, 'way'), (0.03437569523317818, 'human'), (0.027428508265702287, 'form'), (0.027192536475779724, 'amount'), (0.024036934133675112, 'motion'), (0.023598115354527712, 'sensor'), (0.023395727897756267, 'map'), (0.01788493015730989, 'star')]\n",
            "Topic 7 [(0.0620061402712746, 'univers'), (0.03720486005516042, 'major'), (0.02955072199026649, 'condens'), (0.02943583336779129, 'color'), (0.02614142748050469, 'motion'), (0.02036667165219755, 'display'), (0.020239156399874114, 'classic'), (0.018985051176669057, 'refer'), (0.016285153637542647, 'either'), (0.015984484734046546, 'properti')]\n",
            "Topic 8 [(0.09815006876339694, 'univers'), (0.06249355197294391, 'chromosom'), (0.033123372143865605, 'influenc'), (0.028677969361332985, 'veri'), (0.027904348002082094, 'collect'), (0.01741103450101105, 'materi'), (0.016483975951713817, 'found'), (0.015530381362927392, 'barter'), (0.014971913465452924, 'display'), (0.014957946108828658, 'economi')]\n",
            "Topic 9 [(0.03400662370451199, 'program'), (0.03348351184716142, 'speci'), (0.0313305052486218, 'moon'), (0.024861512988303358, 'econom'), (0.023477587193780666, 'accept'), (0.023449054471846097, 'al'), (0.02313014654233877, 'bond'), (0.020165247732023987, 'atom'), (0.018396926983948295, 'basic'), (0.017530826637772636, 'physiographi')]\n",
            " [-----------------100%-----------------] 3000 of 3000 complete in 131.6 secFor alpha = 0.30000000000000004 beta = 0.30000000000000004\n",
            "Topic 0 [(0.07578306752114022, 'matter'), (0.06551965588697807, 'revolv'), (0.03861923637424509, 'contemporari'), (0.03222952137772138, 'write'), (0.0269097376081765, 'present'), (0.0251939938917785, 'digit'), (0.024873928827958088, 'sometim'), (0.021748269256161783, 'problem'), (0.021047146176727767, 'pair'), (0.020427413557048437, 'consid')]\n",
            "Topic 1 [(0.03719557871493622, 'two'), (0.03645075036359771, 'astrophys'), (0.03247841040192373, 'requir'), (0.03209269837719553, 'play'), (0.03197547469105273, 'well'), (0.030422155693677875, 'test'), (0.02840100631517023, 'concern'), (0.02757452158516745, 'radiat'), (0.025019832914835404, 'major'), (0.022562679275257656, 'medium')]\n",
            "Topic 2 [(0.062391092857856156, 'univers'), (0.04754494912227682, 'condit'), (0.04129829901579221, 'topic'), (0.03751641024557371, 'engin'), (0.03420397200639576, 'play'), (0.025242252425201787, 'determin'), (0.02442986586189399, 'ion'), (0.024379700001591, 'planet'), (0.022417165263396238, 'atom'), (0.02211892938574785, 'astrophys')]\n",
            "Topic 3 [(0.10143045517282559, 'two'), (0.0569343381485869, 'element'), (0.04699134944663932, 'featur'), (0.04655572698493815, 'univers'), (0.03749256148942021, 'write'), (0.02689120183252024, 'composit'), (0.025266900311196622, 'philosophi'), (0.02295267914134826, 'andromeda'), (0.01999846872298252, 'topic'), (0.019660452905379957, 'coval')]\n",
            "Topic 4 [(0.04770182362149711, 'univers'), (0.041727712896741466, 'book'), (0.0359765377670312, 'themat'), (0.026688259405947684, 'interest'), (0.025460977531768042, 'academ'), (0.025035941309626112, 'energi'), (0.020485293355961286, 'pattern'), (0.019422704157417522, 'condens'), (0.01924966604857269, 'debit'), (0.018535340448444813, 'molecular')]\n",
            "Topic 5 [(0.0401649988773849, 'veri'), (0.03565953131525775, 'reaction'), (0.03241677591576689, 'substanc'), (0.03240513230319733, 'econom'), (0.028929871949221017, 'file'), (0.028654369028648152, 'plate'), (0.028235634124700447, 'chromosom'), (0.027317956595776585, 'emul'), (0.0212006644939594, 'map'), (0.020329652526174524, 'reason')]\n",
            "Topic 6 [(0.04701101124792206, 'life'), (0.03910517075166648, 'rang'), (0.03744954067513357, 'electr'), (0.034485390949011, 'mean'), (0.02561003638326822, 'religion'), (0.024425646149074623, 'final'), (0.02264289788213351, 'human'), (0.02170280566587013, 'compound'), (0.02069793297513654, 'scienc'), (0.020104255839375848, 'matter')]\n",
            "Topic 7 [(0.05646429596253227, 'applic'), (0.03432290213100038, 'phenomena'), (0.03194470896514591, 'fix'), (0.031702121363415776, 'collect'), (0.02989725683379169, 'featur'), (0.028905165503463042, 'properti'), (0.020985627002189932, 'muslim'), (0.02061853131367216, 'area'), (0.019964270072359108, '964'), (0.019720185862496728, 'umbrella')]\n",
            "Topic 8 [(0.04979061765917363, 'suppli'), (0.03564759609359086, 'plate'), (0.03447714031220563, 'chemic'), (0.02358393427093781, 'live'), (0.022580146013166946, 'ion'), (0.022340029706738363, 'primari'), (0.020599805188384678, 'respons'), (0.020122172367754838, 'muslim'), (0.018358003314236534, 'wide'), (0.018054349889416267, 'expos')]\n",
            "Topic 9 [(0.07950064591371953, 'univers'), (0.047677898924084035, 'rahman'), (0.03505164007967759, 'astronom'), (0.035032987735536675, 'captur'), (0.026298880972660154, 'past'), (0.024614080127024207, 'live'), (0.021511640781778092, 'way'), (0.020871983537376782, 'present'), (0.020831010190048738, 'product'), (0.020804378313196474, 'environ')]\n",
            " [-----------------100%-----------------] 3000 of 3000 complete in 154.1 secFor alpha = 0.19999999999999996 beta = 0.19999999999999996\n",
            "Topic 0 [(0.10559258676803673, 'univers'), (0.0734843809342575, 'small'), (0.04093536110088143, 'organ'), (0.03601764201348493, 'present'), (0.03514869757098302, 'scienc'), (0.03413530342629346, 'implement'), (0.030048535057174336, 'distribut'), (0.028423117057527335, 'verif'), (0.025274807853399733, 'energi'), (0.024037216139029424, 'sensor')]\n",
            "Topic 1 [(0.07341711110207037, 'applic'), (0.06478545698003756, 'afterlif'), (0.05560355002999004, 'econom'), (0.03690813200868734, 'inform'), (0.03513303814178022, 'human'), (0.029427601177273444, 'protein'), (0.02540212294233062, 'motion'), (0.024788331546691154, 'pattern'), (0.02435399979029925, 'interpret'), (0.02390394546297183, 'dure')]\n",
            "Topic 2 [(0.05783791771773857, 'basic'), (0.03823235266157067, 'motion'), (0.03730398664365732, 'issu'), (0.033890461697523855, 'data'), (0.03189479428819235, 'classic'), (0.031019468070070697, 'examin'), (0.030194170657927018, 'theori'), (0.025876367153997742, 'galaxi'), (0.020898654185204896, 'imag'), (0.020717961360000578, 'sensor')]\n",
            "Topic 3 [(0.051221078500474686, 'best'), (0.04467051159261548, 'behavior'), (0.04417691759491802, 'earth'), (0.041169698181617045, 'largest'), (0.04039735395939145, 'durabl'), (0.039519612758255794, 'currenc'), (0.03352752737483367, 'evolut'), (0.02620301419145138, 'agent'), (0.024710337502056114, 'well'), (0.023961698675962113, 'small')]\n",
            "Topic 4 [(0.07993105648141753, 'primari'), (0.07361145201829133, 'univers'), (0.05714595179295005, 'astrometri'), (0.03426331014888558, 'effect'), (0.031207784832451044, 'philosoph'), (0.028941471013741577, 'exist'), (0.027660254430401127, 'behavior'), (0.02612760637690707, 'trade'), (0.025997013301139026, 'properti'), (0.020283207016415134, 'also')]\n",
            "Topic 5 [(0.11528060788324634, 'univers'), (0.046844657633757766, 'speci'), (0.043392509540066966, 'known'), (0.03079834767248119, 'nuclear'), (0.02928255076482869, 'sensor'), (0.02920567822609981, 'trade'), (0.026875571883980386, 'sociolog'), (0.02580785006879027, 'religion'), (0.025678508506925095, 'hered'), (0.022656032714719262, 'focus')]\n",
            "Topic 6 [(0.061752545151038306, 'process'), (0.06102962197603674, 'system'), (0.05210005146298433, 'specif'), (0.03888026215300185, 'electr'), (0.03481858065790484, 'basic'), (0.033094963520308676, 'space'), (0.029734769374824107, 'soul'), (0.02467674187306514, 'abd'), (0.02249270832544131, 'languag'), (0.02233122104651853, 'local')]\n",
            "Topic 7 [(0.07330568809988665, 'involv'), (0.04464569645442156, 'ani'), (0.03863097736585139, 'may'), (0.03537576764485313, 'produc'), (0.03500193123201838, 'historian'), (0.033956223882554815, 'univers'), (0.032477641872734754, 'past'), (0.0317028471999012, 'live'), (0.02749449661884974, 'via'), (0.024465484417344783, 'descript')]\n",
            "Topic 8 [(0.05407444137601628, 'side'), (0.0496120856919547, 'entiti'), (0.03937679696172078, 'sometim'), (0.036102784532342704, 'photographi'), (0.030534480158023892, 'broad'), (0.029488437210504072, 'final'), (0.026408527182529024, 'sequenc'), (0.025757268257768945, 'involv'), (0.02522146184417355, 'includ'), (0.02023803916830372, 'past')]\n",
            "Topic 9 [(0.0386014179740696, 'imag'), (0.035907277424416725, 'art'), (0.03573497805028722, 'area'), (0.035447527583491, 'evolut'), (0.03479168464344222, 'featur'), (0.03332286114458249, 'set'), (0.029899161042251127, 'earli'), (0.027695055815778843, 'much'), (0.02595819723349969, 'broad'), (0.024255794833284283, 'complex')]\n"
          ],
          "name": "stdout"
        }
      ]
    },
    {
      "cell_type": "markdown",
      "metadata": {
        "id": "sxofJg3lmJwh",
        "colab_type": "text"
      },
      "source": [
        "We've decided to move forward to a 10000 sampling with alpha = beta = 0.7. "
      ]
    },
    {
      "cell_type": "code",
      "metadata": {
        "id": "W4eHcgJLrMpt",
        "colab_type": "code",
        "colab": {
          "base_uri": "https://localhost:8080/",
          "height": 35
        },
        "outputId": "527f12be-0d98-4b97-d4da-d3fdc397b979"
      },
      "source": [
        "K = 10 \n",
        "M = len(dictionary) \n",
        "N = len(final_documents) \n",
        "alpha = np.ones(K) - 0.3\n",
        "beta = np.ones(M) - 0.3\n",
        "\n",
        "theta = pm.Container([pm.CompletedDirichlet(\"theta_%s\" % i, pm.Dirichlet(\"ptheta_%s\" % i, theta=alpha)) for i in range(N)])\n",
        "phi = pm.Container([pm.CompletedDirichlet(\"phi_%s\" % k, pm.Dirichlet(\"pphi_%s\" % k, theta=beta)) for k in range(K)])\n",
        "documents_length = [len(document) for document in final_documents]\n",
        "\n",
        "z = pm.Container([pm.Categorical('z_%i' % d, p = theta[d], size=documents_length[d],\n",
        "                    value=np.random.randint(K, size=documents_length[d])) for d in range(N)])\n",
        "\n",
        "w = pm.Container([pm.Categorical(\"w_%i_%i\" % (d,i), p = pm.Lambda('phi_z_%i_%i' % (d,i), lambda z=z[d][i], phi=phi: phi[z]),\n",
        "                    value=final_documents[d][i], observed=True) for d in range(N) for i in range(documents_length[d])])\n",
        "\n",
        "model = pm.Model([theta, phi, z, w])\n",
        "mcmc = pm.MCMC(model)\n",
        "mcmc.sample(10000, 1000)"
      ],
      "execution_count": 19,
      "outputs": [
        {
          "output_type": "stream",
          "text": [
            " [-----------------100%-----------------] 10000 of 10000 complete in 959.8 sec"
          ],
          "name": "stdout"
        }
      ]
    },
    {
      "cell_type": "markdown",
      "metadata": {
        "id": "10g1EYDF8PwN",
        "colab_type": "text"
      },
      "source": [
        "Sanity check. Each word gets assigned a topic (between 0-9) to which it is most likely to belong.  "
      ]
    },
    {
      "cell_type": "code",
      "metadata": {
        "id": "A8vQD53Tg0IB",
        "colab_type": "code",
        "colab": {
          "base_uri": "https://localhost:8080/",
          "height": 926
        },
        "outputId": "dee3a70e-4b71-41ec-c31d-ae20ee9f3a00"
      },
      "source": [
        "for d in range(N):  \n",
        "    print(mcmc.trace('z_%i'%d)[8999])  "
      ],
      "execution_count": 20,
      "outputs": [
        {
          "output_type": "stream",
          "text": [
            "[3 9 0 9 9 5 5 9 6 9 9]\n",
            "[1 5 1 4 6 7 5 6 9 6 9 8]\n",
            "[4 9 5 5 5 4 9 5 4 7 5 2 2 0]\n",
            "[3 9 4 4 4 8 5 9 8 9 5 5 5 5 5]\n",
            "[5 3 3 5 3 3 9 6 5 9 9 6 2 3 5 3 9 5 3 3]\n",
            "[6 3 7 6 2 1 7 2 1 8 1 4 1 8 3 6 3 0 0 3 6]\n",
            "[6 4 2 7 2 4 1 1 4 6 6 4 1 3]\n",
            "[3 6 2 8 7 3 6 6 6 6 7 3 1 3 8 3 2]\n",
            "[6 3 9 9 6 5 0 0 9 6 9 6 7 3 3 3 5 5 6]\n",
            "[1 8 4 0 4 4 4 4 9 4 4 4 0 1 1]\n",
            "[3 2 7 2 6 7 6 5 9 9 9]\n",
            "[4 8 3 5 9 5 5 2 4 5 2 0 7 7 3]\n",
            "[5 7 7 7 5 4 9 9 5 3 1 6 4 3]\n",
            "[4 2 1 8 7 1 2 7 1 8 5 0 2 7]\n",
            "[9 3 4 4 7 1 1 1 2 4 4 7 1 1 7 1 1]\n",
            "[5 3 6 3 7 8 3 9 7 3 5]\n",
            "[5 1 6 6 8 6 6 4 6 6 4 1 6 4 4 5 1 6]\n",
            "[5 7 5 5 3 5 3 5 7 5 5 9 9 5 7]\n",
            "[5 4 6 9 4 4 4 8 4 4 5 7 6 1]\n",
            "[5 4 5 0 5 5 5 4 4 4 5 0 4 5]\n",
            "[5 9 3 9 0 8 0 0 0 1]\n",
            "[4 3 8 9 4 7 3 6 4 4]\n",
            "[3 5 3 4 5 5 7 1 9 5 5 3 5 1 5 5 5 9 0 5]\n",
            "[1 0 1 3 3 5 0 7 0 8 0 7 8 8]\n",
            "[3 3 4 8 3 4 3 3 4]\n",
            "[6 2 3 3 3 6 2 2 5 2 6 3 4 1 9 4 5 9 2 3]\n",
            "[1 1 3 5 1 0 5 7 3 3 3]\n",
            "[1 3 3 3 3 3 3 0 6 7 3 3 3 3 3]\n",
            "[4 4 4 8 7 4 4 3 8 7 3 4]\n",
            "[9 4 4 2 3 4 9 4 6 4 4 3 5 6 4 6 3 6]\n",
            "[9 3 1 1 6 6 9 3 5 6 3 3 3 9 1 1 6 9 8 1]\n",
            "[9 3 3 5 9 0 9 1 1 6 4 1 3 9 1 9 3]\n",
            "[9 9 0 9 5 6 9 9 9 5]\n",
            "[9 4 9 4 4 5 1 2 9 9 5 3 1 2 1 1]\n",
            "[1 1 1 3 8 8 0 1 9 1 8 8 6 1 1 1]\n",
            "[1 2 8 3 8 9 8 8 2]\n",
            "[2 2 4 9 9 4 7 4 3 1 4 7]\n",
            "[5 8 5 8 8 6]\n",
            "[1 1 1 1 4 2 1 4 4 3 3 6]\n",
            "[8 5 8 8 8 5 5 8 8 2 7]\n",
            "[2 6 6 3 0 6 6 4 0 6 5 3 7 7 5 5 0 0]\n",
            "[9 9 0 8 8 3 5 0 1 1 9 1]\n",
            "[0 6 5 3 3 2 4 4 3 3 3 5 5 6 1]\n",
            "[6 3 6 7 6 6 0 6 5 7 3 3 0 3 6 2]\n",
            "[5 6 0 3 5 3 0 9 0 3 5 2 5 8 2 2]\n",
            "[4 4 9 9 4 9 4 8 3 8 4 8 8 2 3 4 5]\n",
            "[4 1 7 1 4 0 1 4 7 1 5 4 0 1 8 5 1 1]\n",
            "[3 4 4 4 9 4 3 4 4 9 4 7 4 0 9 4 4 3]\n",
            "[3 4 1 5 1 4 4 5 4 4 1 5 5 5 1 4 4 1 5]\n",
            "[1 4 1 4 1 4 4 4 4 9 4 9]\n"
          ],
          "name": "stdout"
        }
      ]
    },
    {
      "cell_type": "code",
      "metadata": {
        "id": "CEPry3_GhLkK",
        "colab_type": "code",
        "colab": {
          "base_uri": "https://localhost:8080/",
          "height": 219
        },
        "outputId": "38016023-f45c-4bc8-e138-31479f1a5f23"
      },
      "source": [
        "for j in range(K):\n",
        "  v = (mcmc.trace('phi_%s'%j)[8999])\n",
        "  zipped = list(zip(v[0], (list(dictionary.keys()))))\n",
        "  zipped.sort(key=sort_keys, reverse=True)\n",
        "  print (\"Topic %i\" %j, zipped[:10])"
      ],
      "execution_count": 21,
      "outputs": [
        {
          "output_type": "stream",
          "text": [
            "Topic 0 [(0.026468806147606928, 'stereoscop'), (0.025922327157003534, 'part'), (0.02289355568021814, 'role'), (0.022869915736803362, 'experi'), (0.019743391283436513, 'concret'), (0.01739390686325679, 'comput'), (0.017341577816179385, 'astrophys'), (0.015526032821335056, 'human'), (0.015288001019529913, 'exist'), (0.015217492408131984, 'sequenc')]\n",
            "Topic 1 [(0.027082351350555277, 'veri'), (0.025055104307302234, 'problem'), (0.021775360893485914, 'determin'), (0.018600589111940954, 'digit'), (0.016373147466017982, 'file'), (0.01618247706611084, 'andromeda'), (0.016134452076051877, 'map'), (0.01608212598749113, 'inhabit'), (0.015533501332780584, 'rang'), (0.014708714099444364, 'faith')]\n",
            "Topic 2 [(0.032957599754059874, 'univers'), (0.0327375998965762, 'field'), (0.021358103526692068, 'system'), (0.017360445943340182, 'part'), (0.016284831751536232, 'compos'), (0.01611902569951262, 'demand'), (0.016012912566051102, 'data'), (0.015450309093979415, 'general'), (0.015257851839070361, 'particip'), (0.015072764590700154, 'coval')]\n",
            "Topic 3 [(0.03290400267886749, 'via'), (0.030626211938756545, 'energi'), (0.030384583330954888, 'base'), (0.030057407300089104, 'servic'), (0.020890993139259958, 'broad'), (0.019354927631206786, 'method'), (0.017459281829416206, 'histori'), (0.01740631863038034, 'live'), (0.017320992740524684, 'astronomi'), (0.016120260667853957, 'imag')]\n",
            "Topic 4 [(0.033417015463136135, 'univers'), (0.023726408319732422, 'planet'), (0.022784910516257275, 'energi'), (0.021431215403994702, 'base'), (0.020504149457585982, 'histori'), (0.018393132800987345, 'observ'), (0.0181691508082843, 'two'), (0.017100820631761864, 'inform'), (0.01672338501399637, 'god'), (0.015828494782039064, 'investig')]\n",
            "Topic 5 [(0.032933025006409225, 'consumpt'), (0.026200480617044816, 'event'), (0.01948046249543528, 'forc'), (0.019244623000898638, 'expos'), (0.01626845697217392, 'requir'), (0.01588465111996024, 'physic'), (0.01520022862489081, 'phenotyp'), (0.014067983935589804, 'involv'), (0.013997917269404954, 'good'), (0.013940943742263526, 'relationship')]\n",
            "Topic 6 [(0.06554706982827885, 'univers'), (0.04804453250221335, 'biolog'), (0.02913666068728555, 'scienc'), (0.025962940612873416, 'god'), (0.022473033528960885, 'electromagnet'), (0.015645467115504973, 'rang'), (0.015327501673759906, 'primari'), (0.014975034975604174, 'entiti'), (0.014930004393437312, 'plural'), (0.01484629044756747, 'area')]\n",
            "Topic 7 [(0.04089149778616402, 'interact'), (0.03832257869410103, 'valenc'), (0.027632413177277063, 'trade'), (0.021266399983958524, 'gene'), (0.0204508303496752, 'entiti'), (0.01987008666037622, 'star'), (0.01712659673089254, 'genom'), (0.016486179472980565, 'hereditari'), (0.015450016495522788, 'element'), (0.015041923349180418, 'color')]\n",
            "Topic 8 [(0.032832924567783306, 'one'), (0.028078414858409898, 'way'), (0.026778817797776595, 'anthropolog'), (0.01847530374236608, 'narrat'), (0.018386316450649455, 'analys'), (0.01800918549571177, 'form'), (0.01747932353279836, 'histor'), (0.01547317606121651, 'control'), (0.015219269348780134, 'geographi'), (0.014536082639179304, 'around')]\n",
            "Topic 9 [(0.033366747483364226, 'studi'), (0.03222610334069136, 'descript'), (0.02942181456884758, 'life'), (0.024638378427303292, 'pose'), (0.019720701591574998, 'religion'), (0.018239775636523976, 'nuclear'), (0.01793092816175236, 'narrat'), (0.016309008698897825, 'latter'), (0.015296903019877382, 'anthropolog'), (0.014993345149668316, 'star')]\n"
          ],
          "name": "stdout"
        }
      ]
    },
    {
      "cell_type": "markdown",
      "metadata": {
        "id": "YU13-Pme2Iay",
        "colab_type": "text"
      },
      "source": [
        "# Extras "
      ]
    },
    {
      "cell_type": "markdown",
      "metadata": {
        "id": "TTz9NSMcmPjn",
        "colab_type": "text"
      },
      "source": [
        "## Topics similarity \n",
        "\n",
        "For this task I've chosen to compute both the dot product and cosine similarity for finding out each two topics' similarity and then compute a heatmap. "
      ]
    },
    {
      "cell_type": "markdown",
      "metadata": {
        "id": "6t5pTFZpGe6t",
        "colab_type": "text"
      },
      "source": [
        "### Dot product "
      ]
    },
    {
      "cell_type": "code",
      "metadata": {
        "id": "S4D-kwz2mStu",
        "colab_type": "code",
        "colab": {}
      },
      "source": [
        "topic_similarity = np.zeros([10, 10], dtype='f')\n",
        "\n",
        "for topic_1 in range(K):\n",
        "  for topic_2 in range(K): \n",
        "    trace_1 = mcmc.trace('phi_%s' % topic_1)[8999]\n",
        "    trace_2 = mcmc.trace('phi_%s' % topic_2)[8999]\n",
        "    similarity = np.sum([a*b for a,b in zip(trace_1, trace_2)])\n",
        "    topic_similarity[topic_1][topic_2] = similarity"
      ],
      "execution_count": 0,
      "outputs": []
    },
    {
      "cell_type": "markdown",
      "metadata": {
        "id": "fWCD5cxADWcs",
        "colab_type": "text"
      },
      "source": [
        "Lighter the color, higher similarity. \n",
        "For dot product, it can be seen that each topic j, has the highest similarity with itself, but there shouldn't be any difference in value between [topic_j, topic_j] and [topic_i, topic_i] since both should have similarity 1. "
      ]
    },
    {
      "cell_type": "code",
      "metadata": {
        "id": "FxCnYFodD0i_",
        "colab_type": "code",
        "colab": {
          "base_uri": "https://localhost:8080/",
          "height": 450
        },
        "outputId": "bf93d304-eb9b-4dd5-c979-49e9bf61b9b0"
      },
      "source": [
        "plt.figure(figsize=(7,7))\n",
        "sns.heatmap(topic_similarity)"
      ],
      "execution_count": 52,
      "outputs": [
        {
          "output_type": "execute_result",
          "data": {
            "text/plain": [
              "<matplotlib.axes._subplots.AxesSubplot at 0x7f22e67855c0>"
            ]
          },
          "metadata": {
            "tags": []
          },
          "execution_count": 52
        },
        {
          "output_type": "display_data",
          "data": {
            "image/png": "[encoded data removed]",
            "text/plain": [
              "<Figure size 504x504 with 2 Axes>"
            ]
          },
          "metadata": {
            "tags": []
          }
        }
      ]
    },
    {
      "cell_type": "markdown",
      "metadata": {
        "id": "2xYxMo2TGozx",
        "colab_type": "text"
      },
      "source": [
        "### Cosine similarity "
      ]
    },
    {
      "cell_type": "code",
      "metadata": {
        "colab_type": "code",
        "id": "gZC7SSyyGuMf",
        "colab": {}
      },
      "source": [
        "topic_similarity = np.zeros([10, 10], dtype='f')\n",
        "\n",
        "for topic_1 in range(K):\n",
        "  for topic_2 in range(K): \n",
        "    trace_1 = mcmc.trace('phi_%s' % topic_1)[8999]\n",
        "    trace_2 = mcmc.trace('phi_%s' % topic_2)[8999]\n",
        "    topic_similarity[topic_1][topic_2] = cosine_similarity(trace_1, trace_2) "
      ],
      "execution_count": 0,
      "outputs": []
    },
    {
      "cell_type": "markdown",
      "metadata": {
        "id": "qaULznF4DzVq",
        "colab_type": "text"
      },
      "source": [
        "Cosine similarity takes into account each array's norm, therefor it assigns 1 (max similarity) value for every topic i with itself. \n",
        "\n",
        "\n",
        "Also, it can be noticed that all other squares are pretty dark, which signifies that there's almost no similarity between any two topic.  "
      ]
    },
    {
      "cell_type": "code",
      "metadata": {
        "colab_type": "code",
        "outputId": "beceb18b-26bb-40a9-c854-c7bf250afe61",
        "id": "RxQwYAZ5GuMw",
        "colab": {
          "base_uri": "https://localhost:8080/",
          "height": 450
        }
      },
      "source": [
        "plt.figure(figsize=(7,7))\n",
        "sns.heatmap(topic_similarity)"
      ],
      "execution_count": 24,
      "outputs": [
        {
          "output_type": "execute_result",
          "data": {
            "text/plain": [
              "<matplotlib.axes._subplots.AxesSubplot at 0x7fa46a5d7a58>"
            ]
          },
          "metadata": {
            "tags": []
          },
          "execution_count": 24
        },
        {
          "output_type": "display_data",
          "data": {
            "image/png": "[encoded data removed]",
            "text/plain": [
              "<Figure size 504x504 with 2 Axes>"
            ]
          },
          "metadata": {
            "tags": []
          }
        }
      ]
    },
    {
      "cell_type": "markdown",
      "metadata": {
        "id": "ck93TO47oMFk",
        "colab_type": "text"
      },
      "source": [
        "## Assign new document to a topic\n",
        "\n",
        "For assigning a new document to a topic, it firstly has to be preprocessed exactly in the same manner as the other documents (used for learning) were. \n",
        "* Eliminate punctuation \n",
        "* Reduce all words to their semantic root  \n",
        "* Exclude all words that don't appear in our dictionary \n",
        "* Replace each word with its corresponding number from the dictionary \n"
      ]
    },
    {
      "cell_type": "code",
      "metadata": {
        "id": "38h8xCB1oQxD",
        "colab_type": "code",
        "colab": {}
      },
      "source": [
        "def preprocess_document(document): \n",
        "  # Make all the preprocessing steps that we've done for the other documents \n",
        "  # Eliminate punctuation, perform stemming, filter out stop words.\n",
        "  translator = str.maketrans(string.punctuation, ' '*len(string.punctuation))\n",
        "  document = str(document).translate(translator) \n",
        "  document = [stem(word.lower()) for word in document.split(\" \")] \n",
        "  document = ' '.join(document) \n",
        "  document = document.replace('\\n',' ')\n",
        "  document = document.strip()\n",
        "\n",
        "  filtered_document = []\n",
        "  for word in document.split(\" \"):\n",
        "    if not word in stop_words:\n",
        "      filtered_document.append(word)\n",
        "\n",
        "  print (filtered_document)\n",
        "  # Eliminate all the words that can't be found in the formerly created dictionary \n",
        "  final_document = []\n",
        "  for index in range(len(filtered_document)):\n",
        "    if filtered_document[index] in dictionary.keys():\n",
        "      final_document.append(filtered_document[index])\n",
        "\n",
        "  numbered_document = [] \n",
        "  for index in range(len(final_document)):\n",
        "    if ((not final_document[index].isspace()) and final_document[index]):\n",
        "      numbered_document.append(dictionary[final_document[index]])\n",
        "\n",
        "  return numbered_document"
      ],
      "execution_count": 0,
      "outputs": []
    },
    {
      "cell_type": "markdown",
      "metadata": {
        "id": "YxBSzjgQ6TS1",
        "colab_type": "text"
      },
      "source": [
        "After making for each string a corresponding integer array, we will compune based on each phi (the equivalent distribution over words for that topic) the sum of each word's probability.    "
      ]
    },
    {
      "cell_type": "code",
      "metadata": {
        "id": "40QKx7f_NRpB",
        "colab_type": "code",
        "colab": {}
      },
      "source": [
        "def find_best_topic(document):\n",
        "  best_score = 0\n",
        "  best_index = 0\n",
        "  for topic in range(K):\n",
        "    phi_values = mcmc.trace('phi_%s' % topic)[8999]\n",
        "    score = 0\n",
        "    for index in range(len(document)): \n",
        "      score += phi_values[0][document[index]]\n",
        "    print (\"Topic %s score: %s\" %(topic, score)) \n",
        "    if (score > best_score):\n",
        "      best_score = score\n",
        "      best_index = topic\n",
        "\n",
        "  print () \n",
        "  print (\"The best topic for this document is topic %s with a of score %s\" %(best_index, best_score))"
      ],
      "execution_count": 0,
      "outputs": []
    },
    {
      "cell_type": "code",
      "metadata": {
        "id": "5ZfXH_hATFgL",
        "colab_type": "code",
        "colab": {}
      },
      "source": [
        "def assign_topic(document):\n",
        "  processed_document = preprocess_document(document)\n",
        "  find_best_topic(processed_document)"
      ],
      "execution_count": 0,
      "outputs": []
    },
    {
      "cell_type": "markdown",
      "metadata": {
        "id": "4aEYDiOh9e3f",
        "colab_type": "text"
      },
      "source": [
        "### Mock documents for testing "
      ]
    },
    {
      "cell_type": "code",
      "metadata": {
        "colab_type": "code",
        "outputId": "ccabce0e-a419-418d-95fe-9e240eb0b8a4",
        "id": "WI_2eLhDMlsw",
        "colab": {
          "base_uri": "https://localhost:8080/",
          "height": 1000
        }
      },
      "source": [
        "# Astronomy \n",
        "document1 = \"astronomy\"\n",
        "assign_topic(document1) \n",
        "\n",
        "document11 = \" astronomy of the stars and planets,\"\n",
        "assign_topic(document11)\n",
        "\n",
        "document12 = \"Objects of interest for astronomy include planets, moons, stars, nebulae, galaxies, and comets.\"\n",
        "assign_topic(document12)\n",
        "\n",
        "document13 = \"largest galaxy in the consisted of mapping the positions astronomy of the stars and planets, astronomy a science\"\n",
        "assign_topic(document13)\n",
        "\n",
        "document14 = \"astronomy stars planets astrometry planets moon star astronomy astronomy the largest galaxy in the Local Group,\"\n",
        "assign_topic(document14)\n",
        "# Biology\n",
        "document2 = \"biology\"\n",
        "assign_topic(document2)\n",
        "# Chemistry\n",
        "document3 = \"chemistry\"\n",
        "assign_topic(document3)\n",
        "# Physics\n",
        "document4 = \"physics\"\n",
        "assign_topic(document4)\n",
        "# Philosophy\n",
        "document5 = \"philosophy\"\n",
        "assign_topic(document5)\n",
        "# Economy\n",
        "document6 = \"economy\"\n",
        "assign_topic(document6)\n",
        "# Photography\n",
        "document7 = \"photography\"\n",
        "assign_topic(document7)\n",
        "# Geography\n",
        "document8 = \"geography\"\n",
        "assign_topic(document8)\n",
        "# Computer Science\n",
        "document9 = \"computer science\"\n",
        "assign_topic(document9)\n",
        "# History\n",
        "document10 = \"history\"\n",
        "assign_topic(document10)"
      ],
      "execution_count": 49,
      "outputs": [
        {
          "output_type": "stream",
          "text": [
            "['astronomi']\n",
            "Topic 0 score: 0.00018866172233106198\n",
            "Topic 1 score: 0.00011363477614929582\n",
            "Topic 2 score: 0.002064688485607128\n",
            "Topic 3 score: 0.017320992740524684\n",
            "Topic 4 score: 0.0005756110163784705\n",
            "Topic 5 score: 0.0008102192631321816\n",
            "Topic 6 score: 0.004944732935548594\n",
            "Topic 7 score: 0.00019185622379643414\n",
            "Topic 8 score: 0.003882531065240996\n",
            "Topic 9 score: 0.005176063317030645\n",
            "\n",
            "The best topic for this document is topic 3 with a of score 0.017320992740524684\n",
            "['astronomi', 'star', 'planet']\n",
            "Topic 0 score: 0.0017643874905379346\n",
            "Topic 1 score: 0.002066222769844708\n",
            "Topic 2 score: 0.013820828277828542\n",
            "Topic 3 score: 0.019233157332054007\n",
            "Topic 4 score: 0.024494920965870217\n",
            "Topic 5 score: 0.019417159036810253\n",
            "Topic 6 score: 0.006399878418743466\n",
            "Topic 7 score: 0.02028664591832481\n",
            "Topic 8 score: 0.009899187721469815\n",
            "Topic 9 score: 0.020245317662403537\n",
            "\n",
            "The best topic for this document is topic 4 with a of score 0.024494920965870217\n",
            "['object', 'interest', 'astronomi', 'includ', 'planet', '', 'moon', '', 'star', '', 'nebula', '', 'galaxi', '', 'comet']\n",
            "Topic 0 score: 0.014766006720989985\n",
            "Topic 1 score: 0.019575510277056316\n",
            "Topic 2 score: 0.023501332202421305\n",
            "Topic 3 score: 0.03321790337911441\n",
            "Topic 4 score: 0.04212273613322269\n",
            "Topic 5 score: 0.04756000374848804\n",
            "Topic 6 score: 0.027357684403953135\n",
            "Topic 7 score: 0.03276940297809922\n",
            "Topic 8 score: 0.016655133339703376\n",
            "Topic 9 score: 0.02829130175776924\n",
            "\n",
            "The best topic for this document is topic 5 with a of score 0.04756000374848804\n",
            "['largest', 'galaxi', 'consist', 'map', 'posit', 'astronomi', 'star', 'planet', '', 'astronomi', 'scienc']\n",
            "Topic 0 score: 0.018192039473053347\n",
            "Topic 1 score: 0.020741261933416015\n",
            "Topic 2 score: 0.026435308716444044\n",
            "Topic 3 score: 0.04307511866852076\n",
            "Topic 4 score: 0.03133811632794936\n",
            "Topic 5 score: 0.03965355652111117\n",
            "Topic 6 score: 0.0524984571007789\n",
            "Topic 7 score: 0.03611271354823272\n",
            "Topic 8 score: 0.024477570854651864\n",
            "Topic 9 score: 0.03585234432097119\n",
            "\n",
            "The best topic for this document is topic 6 with a of score 0.0524984571007789\n",
            "['astronomi', 'star', 'planet', 'astrometri', 'planet', 'moon', 'star', 'astronomi', 'astronomi', 'largest', 'galaxi', 'local', 'group']\n",
            "Topic 0 score: 0.01004236626592983\n",
            "Topic 1 score: 0.01706070371154796\n",
            "Topic 2 score: 0.04513976035371554\n",
            "Topic 3 score: 0.07474604215945754\n",
            "Topic 4 score: 0.06282464095658331\n",
            "Topic 5 score: 0.07059723738385403\n",
            "Topic 6 score: 0.03621785496951763\n",
            "Topic 7 score: 0.05357286018902884\n",
            "Topic 8 score: 0.032212118961973665\n",
            "Topic 9 score: 0.050380535217989963\n",
            "\n",
            "The best topic for this document is topic 3 with a of score 0.07474604215945754\n",
            "['biolog']\n",
            "Topic 0 score: 0.0014343809365474165\n",
            "Topic 1 score: 0.010018726113752556\n",
            "Topic 2 score: 0.0004624385669092974\n",
            "Topic 3 score: 0.0013437152042721145\n",
            "Topic 4 score: 0.005697080817944225\n",
            "Topic 5 score: 0.00031085870722065764\n",
            "Topic 6 score: 0.04804453250221335\n",
            "Topic 7 score: 0.00033201999560899\n",
            "Topic 8 score: 0.00019811327343107287\n",
            "Topic 9 score: 0.0006661216907802605\n",
            "\n",
            "The best topic for this document is topic 6 with a of score 0.04804453250221335\n",
            "['chemistri']\n",
            "Topic 0 score: 0.0009745229445791273\n",
            "Topic 1 score: 7.961399406329969e-06\n",
            "Topic 2 score: 0.00021094966417629438\n",
            "Topic 3 score: 0.00038927457645357324\n",
            "Topic 4 score: 0.0030838363052896854\n",
            "Topic 5 score: 0.0002687369656794048\n",
            "Topic 6 score: 0.00034474047765413105\n",
            "Topic 7 score: 0.002428394560181507\n",
            "Topic 8 score: 0.0019757166735874525\n",
            "Topic 9 score: 0.004913503318431499\n",
            "\n",
            "The best topic for this document is topic 9 with a of score 0.004913503318431499\n",
            "['physic']\n",
            "Topic 0 score: 0.0011540500106550773\n",
            "Topic 1 score: 1.3249564389382389e-06\n",
            "Topic 2 score: 0.002158019096478454\n",
            "Topic 3 score: 0.0001938762660201068\n",
            "Topic 4 score: 0.005988296217090079\n",
            "Topic 5 score: 0.01588465111996024\n",
            "Topic 6 score: 0.0012229122656454321\n",
            "Topic 7 score: 0.0005589739867486083\n",
            "Topic 8 score: 0.0035143759321513723\n",
            "Topic 9 score: 0.0012959539188544442\n",
            "\n",
            "The best topic for this document is topic 5 with a of score 0.01588465111996024\n",
            "['philosophi']\n",
            "Topic 0 score: 0.0006900269747629446\n",
            "Topic 1 score: 0.0019608211713106737\n",
            "Topic 2 score: 0.00015593091507404812\n",
            "Topic 3 score: 0.00010243387819808805\n",
            "Topic 4 score: 0.008039386216927475\n",
            "Topic 5 score: 0.0008065015827834761\n",
            "Topic 6 score: 0.0010946346967181202\n",
            "Topic 7 score: 0.0004014114336836177\n",
            "Topic 8 score: 0.012540188598217391\n",
            "Topic 9 score: 0.00017438420837885465\n",
            "\n",
            "The best topic for this document is topic 8 with a of score 0.012540188598217391\n",
            "['economi']\n",
            "Topic 0 score: 0.0010462959794368405\n",
            "Topic 1 score: 0.00029183488928542426\n",
            "Topic 2 score: 0.0009142160888579193\n",
            "Topic 3 score: 0.004082184132578297\n",
            "Topic 4 score: 0.009441053011227735\n",
            "Topic 5 score: 0.0034704965210063526\n",
            "Topic 6 score: 0.003032579027707427\n",
            "Topic 7 score: 0.001231451493870881\n",
            "Topic 8 score: 0.004181316334077525\n",
            "Topic 9 score: 4.1236393941204195e-06\n",
            "\n",
            "The best topic for this document is topic 4 with a of score 0.009441053011227735\n",
            "['photographi']\n",
            "Topic 0 score: 0.00013619094120606\n",
            "Topic 1 score: 4.379817809960259e-05\n",
            "Topic 2 score: 0.0007791514235814499\n",
            "Topic 3 score: 0.0005393523515159509\n",
            "Topic 4 score: 0.004440899055736586\n",
            "Topic 5 score: 0.0025798604843839793\n",
            "Topic 6 score: 0.008161995500289074\n",
            "Topic 7 score: 4.484415772168144e-05\n",
            "Topic 8 score: 0.0031241296902515727\n",
            "Topic 9 score: 0.010289492722038492\n",
            "\n",
            "The best topic for this document is topic 9 with a of score 0.010289492722038492\n",
            "['geographi']\n",
            "Topic 0 score: 5.7388835720869556e-05\n",
            "Topic 1 score: 0.005671925451554698\n",
            "Topic 2 score: 0.00019334793952964022\n",
            "Topic 3 score: 0.007002401605403929\n",
            "Topic 4 score: 2.5188909441634887e-06\n",
            "Topic 5 score: 0.0013165281394124217\n",
            "Topic 6 score: 0.0029215602506090484\n",
            "Topic 7 score: 0.0037782501773462106\n",
            "Topic 8 score: 0.015219269348780134\n",
            "Topic 9 score: 0.002268560473545505\n",
            "\n",
            "The best topic for this document is topic 8 with a of score 0.015219269348780134\n",
            "['comput', 'scienc']\n",
            "Topic 0 score: 0.017415426963105208\n",
            "Topic 1 score: 0.0013482369821333695\n",
            "Topic 2 score: 0.0032173271404758973\n",
            "Topic 3 score: 0.0003911493814767993\n",
            "Topic 4 score: 0.005075375409283004\n",
            "Topic 5 score: 0.003752957207640902\n",
            "Topic 6 score: 0.034043845790315753\n",
            "Topic 7 score: 0.0008633019514995876\n",
            "Topic 8 score: 0.003822298117966917\n",
            "Topic 9 score: 0.005360374060364397\n",
            "\n",
            "The best topic for this document is topic 6 with a of score 0.034043845790315753\n",
            "['histori']\n",
            "Topic 0 score: 0.0008960288632161123\n",
            "Topic 1 score: 0.00028715714802193934\n",
            "Topic 2 score: 0.0048055427504523325\n",
            "Topic 3 score: 0.017459281829416206\n",
            "Topic 4 score: 0.020504149457585982\n",
            "Topic 5 score: 0.0007352832438289797\n",
            "Topic 6 score: 0.00011720367472759495\n",
            "Topic 7 score: 0.00019041964346320041\n",
            "Topic 8 score: 2.7603568354526623e-05\n",
            "Topic 9 score: 0.00027281845026077894\n",
            "\n",
            "The best topic for this document is topic 4 with a of score 0.020504149457585982\n"
          ],
          "name": "stdout"
        }
      ]
    },
    {
      "cell_type": "markdown",
      "metadata": {
        "id": "sDaP9vzNLGhf",
        "colab_type": "text"
      },
      "source": [
        "## Correlated topic modeling "
      ]
    },
    {
      "cell_type": "code",
      "metadata": {
        "id": "bg_jqt3nLLRo",
        "colab_type": "code",
        "colab": {
          "base_uri": "https://localhost:8080/",
          "height": 35
        },
        "outputId": "b42db521-45ed-4874-9143-ef221f7ec3be"
      },
      "source": [
        "K = 10 \n",
        "M = len(dictionary) \n",
        "N = len(final_documents) \n",
        "\n",
        "mu = np.ones([1,K])\n",
        "cov = make_spd_matrix(K)\n",
        "\n",
        "eta = pm.Container([pm.MvNormal('eta_%s'% i, mu = mu[0], tau = cov) for i in range(N)])\n",
        "theta = pm.Container([softmax(eta[i].value) for i in range(N)])\n",
        "\n",
        "documents_length = [len(document) for document in final_documents]\n",
        "z = pm.Container([pm.Categorical('z_%i' % d, p=theta[d], size=documents_length[d],\n",
        "                     value=np.random.randint(K, size=documents_length[d])) for d in range(N)])\n",
        "\n",
        "w = pm.Container([pm.Categorical(\"w_%i_%i\" % (d,i), p = pm.Lambda('phi_z_%i_%i' % (d,i), lambda z=z[d][i], phi=phi: phi[z]),\n",
        "                    value=final_documents[d][i], observed=True) for d in range(N) for i in range(documents_length[d])])\n",
        "\n",
        "model = pm.Model([theta, phi, z, w])\n",
        "mcmc = pm.MCMC(model)\n",
        "mcmc.sample(10000, 1000)"
      ],
      "execution_count": 0,
      "outputs": [
        {
          "output_type": "stream",
          "text": [
            " [-----------------86%------------      ] 8645 of 10000 complete in 1901.2 sec"
          ],
          "name": "stdout"
        }
      ]
    },
    {
      "cell_type": "code",
      "metadata": {
        "colab_type": "code",
        "outputId": "dee3a70e-4b71-41ec-c31d-ae20ee9f3a00",
        "id": "r41XiT4a584I",
        "colab": {
          "base_uri": "https://localhost:8080/",
          "height": 926
        }
      },
      "source": [
        "for d in range(N):  \n",
        "    print(mcmc.trace('z_%i'%d)[8999])  "
      ],
      "execution_count": 0,
      "outputs": [
        {
          "output_type": "stream",
          "text": [
            "[3 9 0 9 9 5 5 9 6 9 9]\n",
            "[1 5 1 4 6 7 5 6 9 6 9 8]\n",
            "[4 9 5 5 5 4 9 5 4 7 5 2 2 0]\n",
            "[3 9 4 4 4 8 5 9 8 9 5 5 5 5 5]\n",
            "[5 3 3 5 3 3 9 6 5 9 9 6 2 3 5 3 9 5 3 3]\n",
            "[6 3 7 6 2 1 7 2 1 8 1 4 1 8 3 6 3 0 0 3 6]\n",
            "[6 4 2 7 2 4 1 1 4 6 6 4 1 3]\n",
            "[3 6 2 8 7 3 6 6 6 6 7 3 1 3 8 3 2]\n",
            "[6 3 9 9 6 5 0 0 9 6 9 6 7 3 3 3 5 5 6]\n",
            "[1 8 4 0 4 4 4 4 9 4 4 4 0 1 1]\n",
            "[3 2 7 2 6 7 6 5 9 9 9]\n",
            "[4 8 3 5 9 5 5 2 4 5 2 0 7 7 3]\n",
            "[5 7 7 7 5 4 9 9 5 3 1 6 4 3]\n",
            "[4 2 1 8 7 1 2 7 1 8 5 0 2 7]\n",
            "[9 3 4 4 7 1 1 1 2 4 4 7 1 1 7 1 1]\n",
            "[5 3 6 3 7 8 3 9 7 3 5]\n",
            "[5 1 6 6 8 6 6 4 6 6 4 1 6 4 4 5 1 6]\n",
            "[5 7 5 5 3 5 3 5 7 5 5 9 9 5 7]\n",
            "[5 4 6 9 4 4 4 8 4 4 5 7 6 1]\n",
            "[5 4 5 0 5 5 5 4 4 4 5 0 4 5]\n",
            "[5 9 3 9 0 8 0 0 0 1]\n",
            "[4 3 8 9 4 7 3 6 4 4]\n",
            "[3 5 3 4 5 5 7 1 9 5 5 3 5 1 5 5 5 9 0 5]\n",
            "[1 0 1 3 3 5 0 7 0 8 0 7 8 8]\n",
            "[3 3 4 8 3 4 3 3 4]\n",
            "[6 2 3 3 3 6 2 2 5 2 6 3 4 1 9 4 5 9 2 3]\n",
            "[1 1 3 5 1 0 5 7 3 3 3]\n",
            "[1 3 3 3 3 3 3 0 6 7 3 3 3 3 3]\n",
            "[4 4 4 8 7 4 4 3 8 7 3 4]\n",
            "[9 4 4 2 3 4 9 4 6 4 4 3 5 6 4 6 3 6]\n",
            "[9 3 1 1 6 6 9 3 5 6 3 3 3 9 1 1 6 9 8 1]\n",
            "[9 3 3 5 9 0 9 1 1 6 4 1 3 9 1 9 3]\n",
            "[9 9 0 9 5 6 9 9 9 5]\n",
            "[9 4 9 4 4 5 1 2 9 9 5 3 1 2 1 1]\n",
            "[1 1 1 3 8 8 0 1 9 1 8 8 6 1 1 1]\n",
            "[1 2 8 3 8 9 8 8 2]\n",
            "[2 2 4 9 9 4 7 4 3 1 4 7]\n",
            "[5 8 5 8 8 6]\n",
            "[1 1 1 1 4 2 1 4 4 3 3 6]\n",
            "[8 5 8 8 8 5 5 8 8 2 7]\n",
            "[2 6 6 3 0 6 6 4 0 6 5 3 7 7 5 5 0 0]\n",
            "[9 9 0 8 8 3 5 0 1 1 9 1]\n",
            "[0 6 5 3 3 2 4 4 3 3 3 5 5 6 1]\n",
            "[6 3 6 7 6 6 0 6 5 7 3 3 0 3 6 2]\n",
            "[5 6 0 3 5 3 0 9 0 3 5 2 5 8 2 2]\n",
            "[4 4 9 9 4 9 4 8 3 8 4 8 8 2 3 4 5]\n",
            "[4 1 7 1 4 0 1 4 7 1 5 4 0 1 8 5 1 1]\n",
            "[3 4 4 4 9 4 3 4 4 9 4 7 4 0 9 4 4 3]\n",
            "[3 4 1 5 1 4 4 5 4 4 1 5 5 5 1 4 4 1 5]\n",
            "[1 4 1 4 1 4 4 4 4 9 4 9]\n"
          ],
          "name": "stdout"
        }
      ]
    },
    {
      "cell_type": "code",
      "metadata": {
        "colab_type": "code",
        "outputId": "38016023-f45c-4bc8-e138-31479f1a5f23",
        "id": "9oHEL0JX584g",
        "colab": {
          "base_uri": "https://localhost:8080/",
          "height": 219
        }
      },
      "source": [
        "for j in range(K):\n",
        "  v = (mcmc.trace('phi_%s'%j)[8999])\n",
        "  zipped = list(zip(v[0], (list(dictionary.keys()))))\n",
        "  zipped.sort(key=sort_keys, reverse=True)\n",
        "  print (\"Topic %i\" %j, zipped[:10])"
      ],
      "execution_count": 0,
      "outputs": [
        {
          "output_type": "stream",
          "text": [
            "Topic 0 [(0.026468806147606928, 'stereoscop'), (0.025922327157003534, 'part'), (0.02289355568021814, 'role'), (0.022869915736803362, 'experi'), (0.019743391283436513, 'concret'), (0.01739390686325679, 'comput'), (0.017341577816179385, 'astrophys'), (0.015526032821335056, 'human'), (0.015288001019529913, 'exist'), (0.015217492408131984, 'sequenc')]\n",
            "Topic 1 [(0.027082351350555277, 'veri'), (0.025055104307302234, 'problem'), (0.021775360893485914, 'determin'), (0.018600589111940954, 'digit'), (0.016373147466017982, 'file'), (0.01618247706611084, 'andromeda'), (0.016134452076051877, 'map'), (0.01608212598749113, 'inhabit'), (0.015533501332780584, 'rang'), (0.014708714099444364, 'faith')]\n",
            "Topic 2 [(0.032957599754059874, 'univers'), (0.0327375998965762, 'field'), (0.021358103526692068, 'system'), (0.017360445943340182, 'part'), (0.016284831751536232, 'compos'), (0.01611902569951262, 'demand'), (0.016012912566051102, 'data'), (0.015450309093979415, 'general'), (0.015257851839070361, 'particip'), (0.015072764590700154, 'coval')]\n",
            "Topic 3 [(0.03290400267886749, 'via'), (0.030626211938756545, 'energi'), (0.030384583330954888, 'base'), (0.030057407300089104, 'servic'), (0.020890993139259958, 'broad'), (0.019354927631206786, 'method'), (0.017459281829416206, 'histori'), (0.01740631863038034, 'live'), (0.017320992740524684, 'astronomi'), (0.016120260667853957, 'imag')]\n",
            "Topic 4 [(0.033417015463136135, 'univers'), (0.023726408319732422, 'planet'), (0.022784910516257275, 'energi'), (0.021431215403994702, 'base'), (0.020504149457585982, 'histori'), (0.018393132800987345, 'observ'), (0.0181691508082843, 'two'), (0.017100820631761864, 'inform'), (0.01672338501399637, 'god'), (0.015828494782039064, 'investig')]\n",
            "Topic 5 [(0.032933025006409225, 'consumpt'), (0.026200480617044816, 'event'), (0.01948046249543528, 'forc'), (0.019244623000898638, 'expos'), (0.01626845697217392, 'requir'), (0.01588465111996024, 'physic'), (0.01520022862489081, 'phenotyp'), (0.014067983935589804, 'involv'), (0.013997917269404954, 'good'), (0.013940943742263526, 'relationship')]\n",
            "Topic 6 [(0.06554706982827885, 'univers'), (0.04804453250221335, 'biolog'), (0.02913666068728555, 'scienc'), (0.025962940612873416, 'god'), (0.022473033528960885, 'electromagnet'), (0.015645467115504973, 'rang'), (0.015327501673759906, 'primari'), (0.014975034975604174, 'entiti'), (0.014930004393437312, 'plural'), (0.01484629044756747, 'area')]\n",
            "Topic 7 [(0.04089149778616402, 'interact'), (0.03832257869410103, 'valenc'), (0.027632413177277063, 'trade'), (0.021266399983958524, 'gene'), (0.0204508303496752, 'entiti'), (0.01987008666037622, 'star'), (0.01712659673089254, 'genom'), (0.016486179472980565, 'hereditari'), (0.015450016495522788, 'element'), (0.015041923349180418, 'color')]\n",
            "Topic 8 [(0.032832924567783306, 'one'), (0.028078414858409898, 'way'), (0.026778817797776595, 'anthropolog'), (0.01847530374236608, 'narrat'), (0.018386316450649455, 'analys'), (0.01800918549571177, 'form'), (0.01747932353279836, 'histor'), (0.01547317606121651, 'control'), (0.015219269348780134, 'geographi'), (0.014536082639179304, 'around')]\n",
            "Topic 9 [(0.033366747483364226, 'studi'), (0.03222610334069136, 'descript'), (0.02942181456884758, 'life'), (0.024638378427303292, 'pose'), (0.019720701591574998, 'religion'), (0.018239775636523976, 'nuclear'), (0.01793092816175236, 'narrat'), (0.016309008698897825, 'latter'), (0.015296903019877382, 'anthropolog'), (0.014993345149668316, 'star')]\n"
          ],
          "name": "stdout"
        }
      ]
    }
  ]
}